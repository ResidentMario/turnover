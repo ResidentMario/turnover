{
 "cells": [
  {
   "cell_type": "markdown",
   "metadata": {},
   "source": [
    "## Data aggregation"
   ]
  },
  {
   "cell_type": "code",
   "execution_count": 1,
   "metadata": {
    "collapsed": true
   },
   "outputs": [],
   "source": [
    "import requests\n",
    "from bs4 import BeautifulSoup\n",
    "from pandas import DataFrame\n",
    "import pandas as pd\n",
    "import arrow\n",
    "from collections import Counter\n",
    "from datetime import datetime\n",
    "from bokeh.plotting import figure, output_notebook, show"
   ]
  },
  {
   "cell_type": "code",
   "execution_count": 2,
   "metadata": {
    "collapsed": true
   },
   "outputs": [],
   "source": [
    "deactivation_soup = BeautifulSoup(requests.get('https://wikimediafoundation.org/w/index.php?title=Special:Log&offset=&limit=500&type=block&user=&page=&tagfilter=&hide_thanks_log=1&hide_tag_log=1').text, 'html.parser')"
   ]
  },
  {
   "cell_type": "code",
   "execution_count": 3,
   "metadata": {
    "collapsed": false,
    "scrolled": true
   },
   "outputs": [],
   "source": [
    "# for logline in [li.text for li in deactivation_soup.find_all('li') if 'class' in li.attrs  and li.get('class')[0] == 'mw-logline-block']:\n",
    "#     print(logline)"
   ]
  },
  {
   "cell_type": "code",
   "execution_count": 4,
   "metadata": {
    "collapsed": true
   },
   "outputs": [],
   "source": [
    "activation_soup = BeautifulSoup(requests.get('https://wikimediafoundation.org/w/index.php?title=Special:Log&offset=&limit=500&type=newusers&user=&page=&tagfilter=').text, 'html.parser')"
   ]
  },
  {
   "cell_type": "code",
   "execution_count": 5,
   "metadata": {
    "collapsed": false
   },
   "outputs": [],
   "source": [
    "# for logline in [li.text for li in activation_soup.find_all('li') if 'class' in li.attrs  and li.get('class')[0] == 'mw-logline-newusers']:\n",
    "#     print(logline)"
   ]
  },
  {
   "cell_type": "code",
   "execution_count": 6,
   "metadata": {
    "collapsed": false,
    "scrolled": true
   },
   "outputs": [],
   "source": [
    "# Create activation staff DataFrame from activation log.\n",
    "\n",
    "dates = []\n",
    "names = []\n",
    "for logline in [li.text for li in activation_soup.find_all('li') if 'class' in li.attrs  and li.get('class')[0] == 'mw-logline-newusers' and 'was created' in li.text]:\n",
    "    date = ' '.join(logline.split(' ')[2:5])\n",
    "#     print(date)\n",
    "    date = arrow.get(date, 'D MMMM YYYY')\n",
    "    dates.append(date)\n",
    "    name = logline[logline.find(\"User account\") + 13:logline.find(\"(talk\") - 1]\n",
    "#     print(name)\n",
    "    names.append(name)"
   ]
  },
  {
   "cell_type": "code",
   "execution_count": 7,
   "metadata": {
    "collapsed": true
   },
   "outputs": [],
   "source": [
    "staff_activations = DataFrame(data={'Joined': dates}, index=names)\n",
    "# staff_activations = DataFrame(data={'Name': names, 'Joined': dates})"
   ]
  },
  {
   "cell_type": "code",
   "execution_count": 8,
   "metadata": {
    "collapsed": false,
    "scrolled": true
   },
   "outputs": [],
   "source": [
    "# staff_activations"
   ]
  },
  {
   "cell_type": "code",
   "execution_count": 9,
   "metadata": {
    "collapsed": false,
    "scrolled": true
   },
   "outputs": [],
   "source": [
    "# Create deactivation staff DataFrame from activation log.\n",
    "\n",
    "dates = []\n",
    "names = []\n",
    "\n",
    "for logline in [li.text for li in deactivation_soup.find_all('li') if 'class' in li.attrs  and li.get('class')[0] == 'mw-logline-block' and 'deactivated' in li.text]:\n",
    "#     print(logline[logline.find(\",\") + 2:], \"SPACE\", logline[logline.find(\",\") + 2:logline.rfind(\"(talk\")])\n",
    "    date = ' '.join(logline.split(' ')[2:5])\n",
    "#     print(date)\n",
    "    date = arrow.get(date, 'D MMMM YYYY')\n",
    "    dates.append(date)\n",
    "    name = logline[logline.find('deactivated') + 12:]\n",
    "    name = name[:name.find(\"(talk\") - 1]\n",
    "#     print(name)\n",
    "    names.append(name)"
   ]
  },
  {
   "cell_type": "code",
   "execution_count": 10,
   "metadata": {
    "collapsed": true
   },
   "outputs": [],
   "source": [
    "staff_deactivations = DataFrame(index=names, data={'Left': dates})\n",
    "# staff_deactivations = DataFrame(data={'Name': names, 'Left': dates})"
   ]
  },
  {
   "cell_type": "code",
   "execution_count": 11,
   "metadata": {
    "collapsed": false,
    "scrolled": true
   },
   "outputs": [],
   "source": [
    "# staff_deactivations"
   ]
  },
  {
   "cell_type": "code",
   "execution_count": 12,
   "metadata": {
    "collapsed": false
   },
   "outputs": [],
   "source": [
    "# staff = pd.concat([staff_activations, staff_deactivations])\n",
    "# staff = staff_activations.append(staff_deactivations)\n",
    "# staff = pd.merge(staff_activations, staff_deactivations, how='inner')\n",
    "staff = staff_activations.join(staff_deactivations)"
   ]
  },
  {
   "cell_type": "code",
   "execution_count": 13,
   "metadata": {
    "collapsed": false
   },
   "outputs": [
    {
     "data": {
      "text/html": [
       "<div>\n",
       "<table border=\"1\" class=\"dataframe\">\n",
       "  <thead>\n",
       "    <tr style=\"text-align: right;\">\n",
       "      <th></th>\n",
       "      <th>Joined</th>\n",
       "      <th>Left</th>\n",
       "    </tr>\n",
       "  </thead>\n",
       "  <tbody>\n",
       "    <tr>\n",
       "      <th>AKoval (WMF)</th>\n",
       "      <td>2013-07-17T00:00:00+00:00</td>\n",
       "      <td>2016-02-16T00:00:00+00:00</td>\n",
       "    </tr>\n",
       "    <tr>\n",
       "      <th>ACella (WMF)</th>\n",
       "      <td>2015-07-06T00:00:00+00:00</td>\n",
       "      <td>2016-02-10T00:00:00+00:00</td>\n",
       "    </tr>\n",
       "    <tr>\n",
       "      <th>HZhang (WMF)</th>\n",
       "      <td>2015-06-08T00:00:00+00:00</td>\n",
       "      <td>2016-02-10T00:00:00+00:00</td>\n",
       "    </tr>\n",
       "    <tr>\n",
       "      <th>AKoval (WMF)</th>\n",
       "      <td>2013-07-17T00:00:00+00:00</td>\n",
       "      <td>2016-02-10T00:00:00+00:00</td>\n",
       "    </tr>\n",
       "    <tr>\n",
       "      <th>JChojnacki (WMF)</th>\n",
       "      <td>2015-12-02T00:00:00+00:00</td>\n",
       "      <td>2016-02-10T00:00:00+00:00</td>\n",
       "    </tr>\n",
       "    <tr>\n",
       "      <th>JLiong (WMF)</th>\n",
       "      <td>2015-05-27T00:00:00+00:00</td>\n",
       "      <td>2016-02-10T00:00:00+00:00</td>\n",
       "    </tr>\n",
       "    <tr>\n",
       "      <th>DHamilton (WMF)</th>\n",
       "      <td>2015-06-10T00:00:00+00:00</td>\n",
       "      <td>2016-02-10T00:00:00+00:00</td>\n",
       "    </tr>\n",
       "    <tr>\n",
       "      <th>JUnikowski (WMF)</th>\n",
       "      <td>2015-08-24T00:00:00+00:00</td>\n",
       "      <td>2016-02-10T00:00:00+00:00</td>\n",
       "    </tr>\n",
       "    <tr>\n",
       "      <th>LMartinez (WMF)</th>\n",
       "      <td>2013-07-10T00:00:00+00:00</td>\n",
       "      <td>2016-02-10T00:00:00+00:00</td>\n",
       "    </tr>\n",
       "    <tr>\n",
       "      <th>BSher (WMF)</th>\n",
       "      <td>2015-05-15T00:00:00+00:00</td>\n",
       "      <td>2016-02-10T00:00:00+00:00</td>\n",
       "    </tr>\n",
       "    <tr>\n",
       "      <th>VBaranetsky (WMF)</th>\n",
       "      <td>2015-04-17T00:00:00+00:00</td>\n",
       "      <td>2016-01-25T00:00:00+00:00</td>\n",
       "    </tr>\n",
       "    <tr>\n",
       "      <th>SVentura (WMF)</th>\n",
       "      <td>2014-05-23T00:00:00+00:00</td>\n",
       "      <td>2016-01-25T00:00:00+00:00</td>\n",
       "    </tr>\n",
       "    <tr>\n",
       "      <th>JHeilman (WMF)</th>\n",
       "      <td>2015-07-10T00:00:00+00:00</td>\n",
       "      <td>2015-12-29T00:00:00+00:00</td>\n",
       "    </tr>\n",
       "    <tr>\n",
       "      <th>LMixter (WMF)</th>\n",
       "      <td>2015-08-24T00:00:00+00:00</td>\n",
       "      <td>2015-12-14T00:00:00+00:00</td>\n",
       "    </tr>\n",
       "    <tr>\n",
       "      <th>TGilbey (WMF)</th>\n",
       "      <td>2015-01-27T00:00:00+00:00</td>\n",
       "      <td>2015-12-14T00:00:00+00:00</td>\n",
       "    </tr>\n",
       "    <tr>\n",
       "      <th>Rmoen</th>\n",
       "      <td>2011-11-04T00:00:00+00:00</td>\n",
       "      <td>2015-12-14T00:00:00+00:00</td>\n",
       "    </tr>\n",
       "    <tr>\n",
       "      <th>MAbdulai (WMF)</th>\n",
       "      <td>2015-10-05T00:00:00+00:00</td>\n",
       "      <td>2015-11-18T00:00:00+00:00</td>\n",
       "    </tr>\n",
       "    <tr>\n",
       "      <th>SNguyen (WMF)</th>\n",
       "      <td>2015-08-28T00:00:00+00:00</td>\n",
       "      <td>2015-10-26T00:00:00+00:00</td>\n",
       "    </tr>\n",
       "    <tr>\n",
       "      <th>GByrd (WMF)</th>\n",
       "      <td>2011-08-02T00:00:00+00:00</td>\n",
       "      <td>2015-10-05T00:00:00+00:00</td>\n",
       "    </tr>\n",
       "    <tr>\n",
       "      <th>Wagsegura (WMF)</th>\n",
       "      <td>2014-09-12T00:00:00+00:00</td>\n",
       "      <td>2015-10-03T00:00:00+00:00</td>\n",
       "    </tr>\n",
       "    <tr>\n",
       "      <th>SConiglio (WMF)</th>\n",
       "      <td>2015-06-23T00:00:00+00:00</td>\n",
       "      <td>2015-10-02T00:00:00+00:00</td>\n",
       "    </tr>\n",
       "    <tr>\n",
       "      <th>Lgillis (WMF)</th>\n",
       "      <td>2014-09-12T00:00:00+00:00</td>\n",
       "      <td>2015-10-02T00:00:00+00:00</td>\n",
       "    </tr>\n",
       "    <tr>\n",
       "      <th>BDeniva (WMF)</th>\n",
       "      <td>2015-09-14T00:00:00+00:00</td>\n",
       "      <td>2015-09-15T00:00:00+00:00</td>\n",
       "    </tr>\n",
       "    <tr>\n",
       "      <th>LWelling</th>\n",
       "      <td>2012-10-01T00:00:00+00:00</td>\n",
       "      <td>2015-09-14T00:00:00+00:00</td>\n",
       "    </tr>\n",
       "    <tr>\n",
       "      <th>SNiedzielsky (WMF)</th>\n",
       "      <td>2015-04-21T00:00:00+00:00</td>\n",
       "      <td>2015-09-14T00:00:00+00:00</td>\n",
       "    </tr>\n",
       "    <tr>\n",
       "      <th>KWang (WMF)</th>\n",
       "      <td>2013-07-15T00:00:00+00:00</td>\n",
       "      <td>2015-09-14T00:00:00+00:00</td>\n",
       "    </tr>\n",
       "    <tr>\n",
       "      <th>Wye (WMF)</th>\n",
       "      <td>2014-10-01T00:00:00+00:00</td>\n",
       "      <td>2015-09-11T00:00:00+00:00</td>\n",
       "    </tr>\n",
       "    <tr>\n",
       "      <th>DFox</th>\n",
       "      <td>2012-10-01T00:00:00+00:00</td>\n",
       "      <td>2015-09-11T00:00:00+00:00</td>\n",
       "    </tr>\n",
       "    <tr>\n",
       "      <th>Nkim (WMF)</th>\n",
       "      <td>2014-09-12T00:00:00+00:00</td>\n",
       "      <td>2015-09-11T00:00:00+00:00</td>\n",
       "    </tr>\n",
       "    <tr>\n",
       "      <th>Jdouglas (WMF)</th>\n",
       "      <td>2014-11-18T00:00:00+00:00</td>\n",
       "      <td>2015-09-11T00:00:00+00:00</td>\n",
       "    </tr>\n",
       "    <tr>\n",
       "      <th>...</th>\n",
       "      <td>...</td>\n",
       "      <td>...</td>\n",
       "    </tr>\n",
       "    <tr>\n",
       "      <th>Steven.zhang</th>\n",
       "      <td>2014-01-23T00:00:00+00:00</td>\n",
       "      <td>NaN</td>\n",
       "    </tr>\n",
       "    <tr>\n",
       "      <th>Stevie Benton</th>\n",
       "      <td>2012-04-04T00:00:00+00:00</td>\n",
       "      <td>NaN</td>\n",
       "    </tr>\n",
       "    <tr>\n",
       "      <th>Sthottingal-WMF</th>\n",
       "      <td>2011-08-26T00:00:00+00:00</td>\n",
       "      <td>NaN</td>\n",
       "    </tr>\n",
       "    <tr>\n",
       "      <th>TChan (WMF)</th>\n",
       "      <td>2015-11-24T00:00:00+00:00</td>\n",
       "      <td>NaN</td>\n",
       "    </tr>\n",
       "    <tr>\n",
       "      <th>TFlanagan-WMF</th>\n",
       "      <td>2014-03-19T00:00:00+00:00</td>\n",
       "      <td>NaN</td>\n",
       "    </tr>\n",
       "    <tr>\n",
       "      <th>TJones (WMF)</th>\n",
       "      <td>2015-07-08T00:00:00+00:00</td>\n",
       "      <td>NaN</td>\n",
       "    </tr>\n",
       "    <tr>\n",
       "      <th>TNegrin (WMF)</th>\n",
       "      <td>2013-06-12T00:00:00+00:00</td>\n",
       "      <td>NaN</td>\n",
       "    </tr>\n",
       "    <tr>\n",
       "      <th>Tanweer Morshed</th>\n",
       "      <td>2014-12-19T00:00:00+00:00</td>\n",
       "      <td>NaN</td>\n",
       "    </tr>\n",
       "    <tr>\n",
       "      <th>Tar Lócesilion</th>\n",
       "      <td>2014-01-10T00:00:00+00:00</td>\n",
       "      <td>NaN</td>\n",
       "    </tr>\n",
       "    <tr>\n",
       "      <th>Tchay</th>\n",
       "      <td>2012-02-24T00:00:00+00:00</td>\n",
       "      <td>NaN</td>\n",
       "    </tr>\n",
       "    <tr>\n",
       "      <th>Tgr (WMF)</th>\n",
       "      <td>2013-10-10T00:00:00+00:00</td>\n",
       "      <td>NaN</td>\n",
       "    </tr>\n",
       "    <tr>\n",
       "      <th>Thehelpfulone</th>\n",
       "      <td>2012-01-18T00:00:00+00:00</td>\n",
       "      <td>NaN</td>\n",
       "    </tr>\n",
       "    <tr>\n",
       "      <th>ThurnerRupert</th>\n",
       "      <td>2012-12-27T00:00:00+00:00</td>\n",
       "      <td>NaN</td>\n",
       "    </tr>\n",
       "    <tr>\n",
       "      <th>Trizek (WMF)</th>\n",
       "      <td>2015-05-21T00:00:00+00:00</td>\n",
       "      <td>NaN</td>\n",
       "    </tr>\n",
       "    <tr>\n",
       "      <th>Trần Nguyễn Minh Huy</th>\n",
       "      <td>2011-11-06T00:00:00+00:00</td>\n",
       "      <td>NaN</td>\n",
       "    </tr>\n",
       "    <tr>\n",
       "      <th>VEckl (WMF)</th>\n",
       "      <td>2015-05-05T00:00:00+00:00</td>\n",
       "      <td>NaN</td>\n",
       "    </tr>\n",
       "    <tr>\n",
       "      <th>Vodnokon4e</th>\n",
       "      <td>2015-06-19T00:00:00+00:00</td>\n",
       "      <td>NaN</td>\n",
       "    </tr>\n",
       "    <tr>\n",
       "      <th>Vogone</th>\n",
       "      <td>2013-01-30T00:00:00+00:00</td>\n",
       "      <td>NaN</td>\n",
       "    </tr>\n",
       "    <tr>\n",
       "      <th>WKelly</th>\n",
       "      <td>2012-09-12T00:00:00+00:00</td>\n",
       "      <td>NaN</td>\n",
       "    </tr>\n",
       "    <tr>\n",
       "      <th>WMoran (WMF)</th>\n",
       "      <td>2015-11-09T00:00:00+00:00</td>\n",
       "      <td>NaN</td>\n",
       "    </tr>\n",
       "    <tr>\n",
       "      <th>White Master King</th>\n",
       "      <td>2015-05-08T00:00:00+00:00</td>\n",
       "      <td>NaN</td>\n",
       "    </tr>\n",
       "    <tr>\n",
       "      <th>Wikitanvir</th>\n",
       "      <td>2011-11-19T00:00:00+00:00</td>\n",
       "      <td>NaN</td>\n",
       "    </tr>\n",
       "    <tr>\n",
       "      <th>Wikiwooster</th>\n",
       "      <td>2012-06-03T00:00:00+00:00</td>\n",
       "      <td>NaN</td>\n",
       "    </tr>\n",
       "    <tr>\n",
       "      <th>YWelinder (WMF)</th>\n",
       "      <td>2013-03-27T00:00:00+00:00</td>\n",
       "      <td>NaN</td>\n",
       "    </tr>\n",
       "    <tr>\n",
       "      <th>Ynhockey</th>\n",
       "      <td>2014-04-15T00:00:00+00:00</td>\n",
       "      <td>NaN</td>\n",
       "    </tr>\n",
       "    <tr>\n",
       "      <th>Yurik</th>\n",
       "      <td>2013-03-09T00:00:00+00:00</td>\n",
       "      <td>NaN</td>\n",
       "    </tr>\n",
       "    <tr>\n",
       "      <th>ZFilipin (WMF)</th>\n",
       "      <td>2012-10-01T00:00:00+00:00</td>\n",
       "      <td>NaN</td>\n",
       "    </tr>\n",
       "    <tr>\n",
       "      <th>ZMcCune (WMF)</th>\n",
       "      <td>2015-10-13T00:00:00+00:00</td>\n",
       "      <td>NaN</td>\n",
       "    </tr>\n",
       "    <tr>\n",
       "      <th>ZZhou (WMF)</th>\n",
       "      <td>2015-04-21T00:00:00+00:00</td>\n",
       "      <td>NaN</td>\n",
       "    </tr>\n",
       "    <tr>\n",
       "      <th>とある白い猫</th>\n",
       "      <td>2012-08-30T00:00:00+00:00</td>\n",
       "      <td>NaN</td>\n",
       "    </tr>\n",
       "  </tbody>\n",
       "</table>\n",
       "<p>506 rows × 2 columns</p>\n",
       "</div>"
      ],
      "text/plain": [
       "                                         Joined                       Left\n",
       "AKoval (WMF)          2013-07-17T00:00:00+00:00  2016-02-16T00:00:00+00:00\n",
       "ACella (WMF)          2015-07-06T00:00:00+00:00  2016-02-10T00:00:00+00:00\n",
       "HZhang (WMF)          2015-06-08T00:00:00+00:00  2016-02-10T00:00:00+00:00\n",
       "AKoval (WMF)          2013-07-17T00:00:00+00:00  2016-02-10T00:00:00+00:00\n",
       "JChojnacki (WMF)      2015-12-02T00:00:00+00:00  2016-02-10T00:00:00+00:00\n",
       "JLiong (WMF)          2015-05-27T00:00:00+00:00  2016-02-10T00:00:00+00:00\n",
       "DHamilton (WMF)       2015-06-10T00:00:00+00:00  2016-02-10T00:00:00+00:00\n",
       "JUnikowski (WMF)      2015-08-24T00:00:00+00:00  2016-02-10T00:00:00+00:00\n",
       "LMartinez (WMF)       2013-07-10T00:00:00+00:00  2016-02-10T00:00:00+00:00\n",
       "BSher (WMF)           2015-05-15T00:00:00+00:00  2016-02-10T00:00:00+00:00\n",
       "VBaranetsky (WMF)     2015-04-17T00:00:00+00:00  2016-01-25T00:00:00+00:00\n",
       "SVentura (WMF)        2014-05-23T00:00:00+00:00  2016-01-25T00:00:00+00:00\n",
       "JHeilman (WMF)        2015-07-10T00:00:00+00:00  2015-12-29T00:00:00+00:00\n",
       "LMixter (WMF)         2015-08-24T00:00:00+00:00  2015-12-14T00:00:00+00:00\n",
       "TGilbey (WMF)         2015-01-27T00:00:00+00:00  2015-12-14T00:00:00+00:00\n",
       "Rmoen                 2011-11-04T00:00:00+00:00  2015-12-14T00:00:00+00:00\n",
       "MAbdulai (WMF)        2015-10-05T00:00:00+00:00  2015-11-18T00:00:00+00:00\n",
       "SNguyen (WMF)         2015-08-28T00:00:00+00:00  2015-10-26T00:00:00+00:00\n",
       "GByrd (WMF)           2011-08-02T00:00:00+00:00  2015-10-05T00:00:00+00:00\n",
       "Wagsegura (WMF)       2014-09-12T00:00:00+00:00  2015-10-03T00:00:00+00:00\n",
       "SConiglio (WMF)       2015-06-23T00:00:00+00:00  2015-10-02T00:00:00+00:00\n",
       "Lgillis (WMF)         2014-09-12T00:00:00+00:00  2015-10-02T00:00:00+00:00\n",
       "BDeniva (WMF)         2015-09-14T00:00:00+00:00  2015-09-15T00:00:00+00:00\n",
       "LWelling              2012-10-01T00:00:00+00:00  2015-09-14T00:00:00+00:00\n",
       "SNiedzielsky (WMF)    2015-04-21T00:00:00+00:00  2015-09-14T00:00:00+00:00\n",
       "KWang (WMF)           2013-07-15T00:00:00+00:00  2015-09-14T00:00:00+00:00\n",
       "Wye (WMF)             2014-10-01T00:00:00+00:00  2015-09-11T00:00:00+00:00\n",
       "DFox                  2012-10-01T00:00:00+00:00  2015-09-11T00:00:00+00:00\n",
       "Nkim (WMF)            2014-09-12T00:00:00+00:00  2015-09-11T00:00:00+00:00\n",
       "Jdouglas (WMF)        2014-11-18T00:00:00+00:00  2015-09-11T00:00:00+00:00\n",
       "...                                         ...                        ...\n",
       "Steven.zhang          2014-01-23T00:00:00+00:00                        NaN\n",
       "Stevie Benton         2012-04-04T00:00:00+00:00                        NaN\n",
       "Sthottingal-WMF       2011-08-26T00:00:00+00:00                        NaN\n",
       "TChan (WMF)           2015-11-24T00:00:00+00:00                        NaN\n",
       "TFlanagan-WMF         2014-03-19T00:00:00+00:00                        NaN\n",
       "TJones (WMF)          2015-07-08T00:00:00+00:00                        NaN\n",
       "TNegrin (WMF)         2013-06-12T00:00:00+00:00                        NaN\n",
       "Tanweer Morshed       2014-12-19T00:00:00+00:00                        NaN\n",
       "Tar Lócesilion        2014-01-10T00:00:00+00:00                        NaN\n",
       "Tchay                 2012-02-24T00:00:00+00:00                        NaN\n",
       "Tgr (WMF)             2013-10-10T00:00:00+00:00                        NaN\n",
       "Thehelpfulone         2012-01-18T00:00:00+00:00                        NaN\n",
       "ThurnerRupert         2012-12-27T00:00:00+00:00                        NaN\n",
       "Trizek (WMF)          2015-05-21T00:00:00+00:00                        NaN\n",
       "Trần Nguyễn Minh Huy  2011-11-06T00:00:00+00:00                        NaN\n",
       "VEckl (WMF)           2015-05-05T00:00:00+00:00                        NaN\n",
       "Vodnokon4e            2015-06-19T00:00:00+00:00                        NaN\n",
       "Vogone                2013-01-30T00:00:00+00:00                        NaN\n",
       "WKelly                2012-09-12T00:00:00+00:00                        NaN\n",
       "WMoran (WMF)          2015-11-09T00:00:00+00:00                        NaN\n",
       "White Master King     2015-05-08T00:00:00+00:00                        NaN\n",
       "Wikitanvir            2011-11-19T00:00:00+00:00                        NaN\n",
       "Wikiwooster           2012-06-03T00:00:00+00:00                        NaN\n",
       "YWelinder (WMF)       2013-03-27T00:00:00+00:00                        NaN\n",
       "Ynhockey              2014-04-15T00:00:00+00:00                        NaN\n",
       "Yurik                 2013-03-09T00:00:00+00:00                        NaN\n",
       "ZFilipin (WMF)        2012-10-01T00:00:00+00:00                        NaN\n",
       "ZMcCune (WMF)         2015-10-13T00:00:00+00:00                        NaN\n",
       "ZZhou (WMF)           2015-04-21T00:00:00+00:00                        NaN\n",
       "とある白い猫                2012-08-30T00:00:00+00:00                        NaN\n",
       "\n",
       "[506 rows x 2 columns]"
      ]
     },
     "execution_count": 13,
     "metadata": {},
     "output_type": "execute_result"
    }
   ],
   "source": [
    "staff.sort_values(by = \"Left\", ascending=False)"
   ]
  },
  {
   "cell_type": "markdown",
   "metadata": {},
   "source": [
    "Data is still dirtied by the presence of users who are not WMF staffers in the staff creation listings. There is no easy way to automatically check whether or not an account without a (WMF) at the end is a staff account or not (which is why that policy was eventually instituted in the first place).\n",
    "\n",
    "Obviously accounts that later on got closed are those of WMF staffers (volunteer accounts are never closed). The remaining trouble spots still contain a number of extremely senior WMF staffers, but unfortunately they cannot really be accounted for. Overall experiental data is therefore probably a <5% undercount."
   ]
  },
  {
   "cell_type": "code",
   "execution_count": 14,
   "metadata": {
    "collapsed": false,
    "scrolled": true
   },
   "outputs": [],
   "source": [
    "# [name for name in staff.index if 'WMF' not in name and str(staff.ix[name, 'Left']) == 'nan']"
   ]
  },
  {
   "cell_type": "code",
   "execution_count": 15,
   "metadata": {
    "collapsed": false
   },
   "outputs": [],
   "source": [
    "bad_names = [name for name in staff.index if 'WMF' not in name and str(staff.ix[name, 'Left']) == 'nan']\n",
    "filtered_staff = staff.drop(bad_names)"
   ]
  },
  {
   "cell_type": "code",
   "execution_count": 16,
   "metadata": {
    "collapsed": false
   },
   "outputs": [
    {
     "data": {
      "text/html": [
       "<div>\n",
       "<table border=\"1\" class=\"dataframe\">\n",
       "  <thead>\n",
       "    <tr style=\"text-align: right;\">\n",
       "      <th></th>\n",
       "      <th>Joined</th>\n",
       "      <th>Left</th>\n",
       "    </tr>\n",
       "  </thead>\n",
       "  <tbody>\n",
       "    <tr>\n",
       "      <th>Akapoor</th>\n",
       "      <td>2011-08-26T00:00:00+00:00</td>\n",
       "      <td>2013-08-15T00:00:00+00:00</td>\n",
       "    </tr>\n",
       "    <tr>\n",
       "      <th>Akapoor</th>\n",
       "      <td>2011-08-26T00:00:00+00:00</td>\n",
       "      <td>2013-01-24T00:00:00+00:00</td>\n",
       "    </tr>\n",
       "    <tr>\n",
       "      <th>GByrd (WMF)</th>\n",
       "      <td>2011-08-02T00:00:00+00:00</td>\n",
       "      <td>2015-10-05T00:00:00+00:00</td>\n",
       "    </tr>\n",
       "    <tr>\n",
       "      <th>Gmeijssen</th>\n",
       "      <td>2011-08-18T00:00:00+00:00</td>\n",
       "      <td>2012-07-11T00:00:00+00:00</td>\n",
       "    </tr>\n",
       "    <tr>\n",
       "      <th>Ntandon</th>\n",
       "      <td>2011-08-23T00:00:00+00:00</td>\n",
       "      <td>2013-01-08T00:00:00+00:00</td>\n",
       "    </tr>\n",
       "    <tr>\n",
       "      <th>Pgehres (WMF)</th>\n",
       "      <td>2011-08-08T00:00:00+00:00</td>\n",
       "      <td>2013-06-03T00:00:00+00:00</td>\n",
       "    </tr>\n",
       "    <tr>\n",
       "      <th>Smazeland-WMF</th>\n",
       "      <td>2011-08-25T00:00:00+00:00</td>\n",
       "      <td>NaN</td>\n",
       "    </tr>\n",
       "    <tr>\n",
       "      <th>Sthottingal-WMF</th>\n",
       "      <td>2011-08-26T00:00:00+00:00</td>\n",
       "      <td>NaN</td>\n",
       "    </tr>\n",
       "    <tr>\n",
       "      <th>Tfleming</th>\n",
       "      <td>2011-08-18T00:00:00+00:00</td>\n",
       "      <td>2012-07-24T00:00:00+00:00</td>\n",
       "    </tr>\n",
       "  </tbody>\n",
       "</table>\n",
       "</div>"
      ],
      "text/plain": [
       "                                    Joined                       Left\n",
       "Akapoor          2011-08-26T00:00:00+00:00  2013-08-15T00:00:00+00:00\n",
       "Akapoor          2011-08-26T00:00:00+00:00  2013-01-24T00:00:00+00:00\n",
       "GByrd (WMF)      2011-08-02T00:00:00+00:00  2015-10-05T00:00:00+00:00\n",
       "Gmeijssen        2011-08-18T00:00:00+00:00  2012-07-11T00:00:00+00:00\n",
       "Ntandon          2011-08-23T00:00:00+00:00  2013-01-08T00:00:00+00:00\n",
       "Pgehres (WMF)    2011-08-08T00:00:00+00:00  2013-06-03T00:00:00+00:00\n",
       "Smazeland-WMF    2011-08-25T00:00:00+00:00                        NaN\n",
       "Sthottingal-WMF  2011-08-26T00:00:00+00:00                        NaN\n",
       "Tfleming         2011-08-18T00:00:00+00:00  2012-07-24T00:00:00+00:00"
      ]
     },
     "execution_count": 16,
     "metadata": {},
     "output_type": "execute_result"
    }
   ],
   "source": [
    "filtered_staff[filtered_staff['Joined'] < arrow.Arrow(2011, 9, 1)]"
   ]
  },
  {
   "cell_type": "markdown",
   "metadata": {},
   "source": [
    "## Data munging"
   ]
  },
  {
   "cell_type": "markdown",
   "metadata": {},
   "source": [
    "With the data in place let's start processing it into something informative."
   ]
  },
  {
   "cell_type": "markdown",
   "metadata": {},
   "source": [
    "### Overall counts"
   ]
  },
  {
   "cell_type": "code",
   "execution_count": 17,
   "metadata": {
    "collapsed": false,
    "scrolled": true
   },
   "outputs": [],
   "source": [
    "joined_count_by_month = Counter()\n",
    "for date in filtered_staff['Joined']:\n",
    "    joined_count_by_month.update([date.floor('month')])"
   ]
  },
  {
   "cell_type": "code",
   "execution_count": 18,
   "metadata": {
    "collapsed": false,
    "scrolled": true
   },
   "outputs": [
    {
     "data": {
      "text/plain": [
       "[(<Arrow [2015-05-01T00:00:00+00:00]>, 24),\n",
       " (<Arrow [2014-09-01T00:00:00+00:00]>, 16),\n",
       " (<Arrow [2013-07-01T00:00:00+00:00]>, 14),\n",
       " (<Arrow [2015-10-01T00:00:00+00:00]>, 12),\n",
       " (<Arrow [2016-01-01T00:00:00+00:00]>, 12),\n",
       " (<Arrow [2013-01-01T00:00:00+00:00]>, 11),\n",
       " (<Arrow [2015-06-01T00:00:00+00:00]>, 11),\n",
       " (<Arrow [2013-05-01T00:00:00+00:00]>, 11),\n",
       " (<Arrow [2015-04-01T00:00:00+00:00]>, 10),\n",
       " (<Arrow [2015-08-01T00:00:00+00:00]>, 10),\n",
       " (<Arrow [2012-05-01T00:00:00+00:00]>, 10),\n",
       " (<Arrow [2014-05-01T00:00:00+00:00]>, 10),\n",
       " (<Arrow [2011-11-01T00:00:00+00:00]>, 9),\n",
       " (<Arrow [2014-03-01T00:00:00+00:00]>, 9),\n",
       " (<Arrow [2014-01-01T00:00:00+00:00]>, 9),\n",
       " (<Arrow [2011-08-01T00:00:00+00:00]>, 9),\n",
       " (<Arrow [2012-10-01T00:00:00+00:00]>, 9),\n",
       " (<Arrow [2012-11-01T00:00:00+00:00]>, 8),\n",
       " (<Arrow [2014-10-01T00:00:00+00:00]>, 8),\n",
       " (<Arrow [2015-01-01T00:00:00+00:00]>, 8),\n",
       " (<Arrow [2013-06-01T00:00:00+00:00]>, 8),\n",
       " (<Arrow [2013-08-01T00:00:00+00:00]>, 7),\n",
       " (<Arrow [2015-07-01T00:00:00+00:00]>, 7),\n",
       " (<Arrow [2015-11-01T00:00:00+00:00]>, 7),\n",
       " (<Arrow [2012-02-01T00:00:00+00:00]>, 7),\n",
       " (<Arrow [2014-07-01T00:00:00+00:00]>, 7),\n",
       " (<Arrow [2015-09-01T00:00:00+00:00]>, 7),\n",
       " (<Arrow [2013-09-01T00:00:00+00:00]>, 6),\n",
       " (<Arrow [2014-12-01T00:00:00+00:00]>, 6),\n",
       " (<Arrow [2013-11-01T00:00:00+00:00]>, 6),\n",
       " (<Arrow [2015-03-01T00:00:00+00:00]>, 6),\n",
       " (<Arrow [2013-12-01T00:00:00+00:00]>, 6),\n",
       " (<Arrow [2013-04-01T00:00:00+00:00]>, 6),\n",
       " (<Arrow [2015-02-01T00:00:00+00:00]>, 6),\n",
       " (<Arrow [2012-03-01T00:00:00+00:00]>, 5),\n",
       " (<Arrow [2016-02-01T00:00:00+00:00]>, 5),\n",
       " (<Arrow [2012-01-01T00:00:00+00:00]>, 5),\n",
       " (<Arrow [2011-12-01T00:00:00+00:00]>, 5),\n",
       " (<Arrow [2013-02-01T00:00:00+00:00]>, 5),\n",
       " (<Arrow [2012-04-01T00:00:00+00:00]>, 5),\n",
       " (<Arrow [2013-03-01T00:00:00+00:00]>, 5),\n",
       " (<Arrow [2014-11-01T00:00:00+00:00]>, 5),\n",
       " (<Arrow [2014-02-01T00:00:00+00:00]>, 5),\n",
       " (<Arrow [2013-10-01T00:00:00+00:00]>, 5),\n",
       " (<Arrow [2012-09-01T00:00:00+00:00]>, 5),\n",
       " (<Arrow [2011-10-01T00:00:00+00:00]>, 4),\n",
       " (<Arrow [2014-06-01T00:00:00+00:00]>, 4),\n",
       " (<Arrow [2011-09-01T00:00:00+00:00]>, 4),\n",
       " (<Arrow [2015-12-01T00:00:00+00:00]>, 4),\n",
       " (<Arrow [2014-04-01T00:00:00+00:00]>, 3),\n",
       " (<Arrow [2012-07-01T00:00:00+00:00]>, 3),\n",
       " (<Arrow [2012-08-01T00:00:00+00:00]>, 3),\n",
       " (<Arrow [2014-08-01T00:00:00+00:00]>, 2),\n",
       " (<Arrow [2012-06-01T00:00:00+00:00]>, 2),\n",
       " (<Arrow [2012-12-01T00:00:00+00:00]>, 2)]"
      ]
     },
     "execution_count": 18,
     "metadata": {},
     "output_type": "execute_result"
    }
   ],
   "source": [
    "joined_count_by_month.most_common()"
   ]
  },
  {
   "cell_type": "code",
   "execution_count": 19,
   "metadata": {
    "collapsed": false
   },
   "outputs": [],
   "source": [
    "left_count_by_month = Counter()\n",
    "for date in filtered_staff['Left']:\n",
    "    if str(date) != 'nan':\n",
    "        left_count_by_month.update([date.floor('month')])"
   ]
  },
  {
   "cell_type": "code",
   "execution_count": 20,
   "metadata": {
    "collapsed": false,
    "scrolled": true
   },
   "outputs": [
    {
     "data": {
      "text/plain": [
       "[(<Arrow [2015-08-01T00:00:00+00:00]>, 37),\n",
       " (<Arrow [2015-09-01T00:00:00+00:00]>, 16),\n",
       " (<Arrow [2013-01-01T00:00:00+00:00]>, 11),\n",
       " (<Arrow [2012-07-01T00:00:00+00:00]>, 11),\n",
       " (<Arrow [2016-02-01T00:00:00+00:00]>, 10),\n",
       " (<Arrow [2013-04-01T00:00:00+00:00]>, 7),\n",
       " (<Arrow [2014-08-01T00:00:00+00:00]>, 6),\n",
       " (<Arrow [2013-03-01T00:00:00+00:00]>, 6),\n",
       " (<Arrow [2014-01-01T00:00:00+00:00]>, 6),\n",
       " (<Arrow [2014-03-01T00:00:00+00:00]>, 5),\n",
       " (<Arrow [2015-10-01T00:00:00+00:00]>, 5),\n",
       " (<Arrow [2014-10-01T00:00:00+00:00]>, 5),\n",
       " (<Arrow [2014-05-01T00:00:00+00:00]>, 5),\n",
       " (<Arrow [2015-03-01T00:00:00+00:00]>, 5),\n",
       " (<Arrow [2012-08-01T00:00:00+00:00]>, 4),\n",
       " (<Arrow [2013-07-01T00:00:00+00:00]>, 4),\n",
       " (<Arrow [2015-12-01T00:00:00+00:00]>, 4),\n",
       " (<Arrow [2013-06-01T00:00:00+00:00]>, 4),\n",
       " (<Arrow [2013-08-01T00:00:00+00:00]>, 3),\n",
       " (<Arrow [2012-12-01T00:00:00+00:00]>, 3),\n",
       " (<Arrow [2015-02-01T00:00:00+00:00]>, 3),\n",
       " (<Arrow [2014-09-01T00:00:00+00:00]>, 3),\n",
       " (<Arrow [2014-04-01T00:00:00+00:00]>, 3),\n",
       " (<Arrow [2013-05-01T00:00:00+00:00]>, 3),\n",
       " (<Arrow [2015-06-01T00:00:00+00:00]>, 2),\n",
       " (<Arrow [2013-12-01T00:00:00+00:00]>, 2),\n",
       " (<Arrow [2014-02-01T00:00:00+00:00]>, 2),\n",
       " (<Arrow [2016-01-01T00:00:00+00:00]>, 2),\n",
       " (<Arrow [2013-10-01T00:00:00+00:00]>, 2),\n",
       " (<Arrow [2012-05-01T00:00:00+00:00]>, 2),\n",
       " (<Arrow [2013-02-01T00:00:00+00:00]>, 2),\n",
       " (<Arrow [2014-12-01T00:00:00+00:00]>, 1),\n",
       " (<Arrow [2015-11-01T00:00:00+00:00]>, 1),\n",
       " (<Arrow [2014-06-01T00:00:00+00:00]>, 1),\n",
       " (<Arrow [2012-11-01T00:00:00+00:00]>, 1),\n",
       " (<Arrow [2013-11-01T00:00:00+00:00]>, 1),\n",
       " (<Arrow [2012-01-01T00:00:00+00:00]>, 1),\n",
       " (<Arrow [2013-09-01T00:00:00+00:00]>, 1),\n",
       " (<Arrow [2012-10-01T00:00:00+00:00]>, 1),\n",
       " (<Arrow [2012-09-01T00:00:00+00:00]>, 1),\n",
       " (<Arrow [2012-04-01T00:00:00+00:00]>, 1)]"
      ]
     },
     "execution_count": 20,
     "metadata": {},
     "output_type": "execute_result"
    }
   ],
   "source": [
    "left_count_by_month.most_common()"
   ]
  },
  {
   "cell_type": "code",
   "execution_count": 21,
   "metadata": {
    "collapsed": false,
    "scrolled": true
   },
   "outputs": [],
   "source": [
    "time_index = [date.datetime for date in arrow.Arrow.range('month', arrow.get(2011, 8, 1), arrow.Arrow.now().floor('month'))]\n",
    "# time_index"
   ]
  },
  {
   "cell_type": "code",
   "execution_count": 22,
   "metadata": {
    "collapsed": false,
    "scrolled": true
   },
   "outputs": [],
   "source": [
    "join_df = DataFrame(index=time_index, data={'Joined': joined_count_by_month})\n",
    "left_df = DataFrame(index=time_index, data={'Left': left_count_by_month})\n",
    "left_df = left_df.fillna(0)"
   ]
  },
  {
   "cell_type": "code",
   "execution_count": 35,
   "metadata": {
    "collapsed": false
   },
   "outputs": [
    {
     "data": {
      "text/html": [
       "\n",
       "\n",
       "    <script type=\"text/javascript\">\n",
       "      \n",
       "      (function(global) {\n",
       "        function now() {\n",
       "          return new Date();\n",
       "        }\n",
       "      \n",
       "        if (typeof (window._bokeh_onload_callbacks) === \"undefined\") {\n",
       "          window._bokeh_onload_callbacks = [];\n",
       "        }\n",
       "      \n",
       "        function run_callbacks() {\n",
       "          window._bokeh_onload_callbacks.forEach(function(callback) { callback() });\n",
       "          delete window._bokeh_onload_callbacks\n",
       "          console.info(\"Bokeh: all callbacks have finished\");\n",
       "        }\n",
       "      \n",
       "        function load_libs(js_urls, callback) {\n",
       "          window._bokeh_onload_callbacks.push(callback);\n",
       "          if (window._bokeh_is_loading > 0) {\n",
       "            console.log(\"Bokeh: BokehJS is being loaded, scheduling callback at\", now());\n",
       "            return null;\n",
       "          }\n",
       "          if (js_urls == null || js_urls.length === 0) {\n",
       "            run_callbacks();\n",
       "            return null;\n",
       "          }\n",
       "          console.log(\"Bokeh: BokehJS not loaded, scheduling load and callback at\", now());\n",
       "          window._bokeh_is_loading = js_urls.length;\n",
       "          for (var i = 0; i < js_urls.length; i++) {\n",
       "            var url = js_urls[i];\n",
       "            var s = document.createElement('script');\n",
       "            s.src = url;\n",
       "            s.async = false;\n",
       "            s.onreadystatechange = s.onload = function() {\n",
       "              window._bokeh_is_loading--;\n",
       "              if (window._bokeh_is_loading === 0) {\n",
       "                console.log(\"Bokeh: all BokehJS libraries loaded\");\n",
       "                run_callbacks()\n",
       "              }\n",
       "            };\n",
       "            s.onerror = function() {\n",
       "              console.warn(\"failed to load library \" + url);\n",
       "            };\n",
       "            console.log(\"Bokeh: injecting script tag for BokehJS library: \", url);\n",
       "            document.getElementsByTagName(\"head\")[0].appendChild(s);\n",
       "          }\n",
       "        };var js_urls = ['https://cdn.pydata.org/bokeh/release/bokeh-0.11.0.min.js', 'https://cdn.pydata.org/bokeh/release/bokeh-widgets-0.11.0.min.js', 'https://cdn.pydata.org/bokeh/release/bokeh-compiler-0.11.0.min.js'];\n",
       "      \n",
       "        var inline_js = [\n",
       "          function(Bokeh) {\n",
       "            Bokeh.set_log_level(\"info\");\n",
       "          },\n",
       "          function(Bokeh) {\n",
       "            console.log(\"Bokeh: injecting CSS: https://cdn.pydata.org/bokeh/release/bokeh-0.11.0.min.css\");\n",
       "            Bokeh.embed.inject_css(\"https://cdn.pydata.org/bokeh/release/bokeh-0.11.0.min.css\");\n",
       "            console.log(\"Bokeh: injecting CSS: https://cdn.pydata.org/bokeh/release/bokeh-widgets-0.11.0.min.css\");\n",
       "            Bokeh.embed.inject_css(\"https://cdn.pydata.org/bokeh/release/bokeh-widgets-0.11.0.min.css\");\n",
       "          }\n",
       "        ];\n",
       "      \n",
       "        function run_inline_js() {\n",
       "          for (var i = 0; i < inline_js.length; i++) {\n",
       "            inline_js[i](window.Bokeh);\n",
       "          }\n",
       "        }\n",
       "      \n",
       "        if (window._bokeh_is_loading === 0) {\n",
       "          console.log(\"Bokeh: BokehJS loaded, going straight to plotting\");\n",
       "          run_inline_js();\n",
       "        } else {\n",
       "          load_libs(js_urls, function() {\n",
       "            console.log(\"Bokeh: BokehJS plotting callback run at\", now());\n",
       "            run_inline_js();\n",
       "          });\n",
       "        }\n",
       "      }(this));\n",
       "    </script>"
      ]
     },
     "metadata": {},
     "output_type": "display_data"
    },
    {
     "data": {
      "text/html": [
       "\n",
       "\n",
       "    <div class=\"plotdiv\" id=\"36835d6e-766d-47b3-9124-6bdecf463361\"></div>\n",
       "<script type=\"text/javascript\">\n",
       "  \n",
       "  (function(global) {\n",
       "    function now() {\n",
       "      return new Date();\n",
       "    }\n",
       "  \n",
       "    if (typeof (window._bokeh_onload_callbacks) === \"undefined\") {\n",
       "      window._bokeh_onload_callbacks = [];\n",
       "    }\n",
       "  \n",
       "    function run_callbacks() {\n",
       "      window._bokeh_onload_callbacks.forEach(function(callback) { callback() });\n",
       "      delete window._bokeh_onload_callbacks\n",
       "      console.info(\"Bokeh: all callbacks have finished\");\n",
       "    }\n",
       "  \n",
       "    function load_libs(js_urls, callback) {\n",
       "      window._bokeh_onload_callbacks.push(callback);\n",
       "      if (window._bokeh_is_loading > 0) {\n",
       "        console.log(\"Bokeh: BokehJS is being loaded, scheduling callback at\", now());\n",
       "        return null;\n",
       "      }\n",
       "      if (js_urls == null || js_urls.length === 0) {\n",
       "        run_callbacks();\n",
       "        return null;\n",
       "      }\n",
       "      console.log(\"Bokeh: BokehJS not loaded, scheduling load and callback at\", now());\n",
       "      window._bokeh_is_loading = js_urls.length;\n",
       "      for (var i = 0; i < js_urls.length; i++) {\n",
       "        var url = js_urls[i];\n",
       "        var s = document.createElement('script');\n",
       "        s.src = url;\n",
       "        s.async = false;\n",
       "        s.onreadystatechange = s.onload = function() {\n",
       "          window._bokeh_is_loading--;\n",
       "          if (window._bokeh_is_loading === 0) {\n",
       "            console.log(\"Bokeh: all BokehJS libraries loaded\");\n",
       "            run_callbacks()\n",
       "          }\n",
       "        };\n",
       "        s.onerror = function() {\n",
       "          console.warn(\"failed to load library \" + url);\n",
       "        };\n",
       "        console.log(\"Bokeh: injecting script tag for BokehJS library: \", url);\n",
       "        document.getElementsByTagName(\"head\")[0].appendChild(s);\n",
       "      }\n",
       "    };var element = document.getElementById(\"36835d6e-766d-47b3-9124-6bdecf463361\");\n",
       "    if (element == null) {\n",
       "      console.log(\"Bokeh: ERROR: autoload.js configured with elementid '36835d6e-766d-47b3-9124-6bdecf463361' but no matching script tag was found. \")\n",
       "      return false;\n",
       "    }var js_urls = [];\n",
       "  \n",
       "    var inline_js = [\n",
       "      function(Bokeh) {\n",
       "        Bokeh.$(function() {\n",
       "            var docs_json = {\"e649ef15-4a85-4040-af17-7dcd91119919\": {\"roots\": {\"root_ids\": [\"09d19a11-1e7d-4211-8f35-78368603c093\", \"48023c29-b7dc-47db-bdb5-b64ba4deea68\", \"52bb46b3-d49a-40bb-8cfe-b2d8bdd5390c\", \"98d7fc6e-1ac5-4bb9-8585-c2860b3344f4\", \"5590cfb8-2c89-4073-bb9d-0ec73f2a7569\", \"cf6e146d-8e09-43d7-89a8-3f409d17822c\", \"76e6af38-8d77-4ed2-8c6e-caef0e88cb7c\", \"bc546e03-be07-461a-a028-82c1bd967748\", \"ac4065e4-8e62-480c-83d3-9534c460b90a\", \"aa7976d0-9b17-4cfd-a254-37c067eaac3e\", \"5b82dd80-671f-471f-a515-aaafd61644c6\", \"4a4cfd0f-2de9-4cc0-8a95-425aa8f22a24\", \"835e1e91-b208-4e2b-bd1a-961d2e813e08\"], \"references\": [{\"attributes\": {\"column_names\": [\"x\", \"y\"], \"data\": {\"x\": [1312156800000.0, 1314835200000.0, 1317427200000.0, 1320105600000.0, 1322697600000.0, 1325376000000.0, 1328054400000.0, 1330560000000.0, 1333238400000.0, 1335830400000.0, 1338508800000.0, 1341100800000.0, 1343779200000.0, 1346457600000.0, 1349049600000.0, 1351728000000.0, 1354320000000.0, 1356998400000.0, 1359676800000.0, 1362096000000.0, 1364774400000.0, 1367366400000.0, 1370044800000.0, 1372636800000.0, 1375315200000.0, 1377993600000.0, 1380585600000.0, 1383264000000.0, 1385856000000.0, 1388534400000.0, 1391212800000.0, 1393632000000.0, 1396310400000.0, 1398902400000.0, 1401580800000.0, 1404172800000.0, 1406851200000.0, 1409529600000.0, 1412121600000.0, 1414800000000.0, 1417392000000.0, 1420070400000.0, 1422748800000.0, 1425168000000.0, 1427846400000.0, 1430438400000.0, 1433116800000.0, 1435708800000.0, 1438387200000.0, 1441065600000.0, 1443657600000.0, 1446336000000.0, 1448928000000.0, 1451606400000.0, 1454284800000.0], \"y\": [0.0, 0.0, 0.0, 0.0, 0.0, 1.0, 0.0, 0.0, 1.0, 2.0, 0.0, 11.0, 4.0, 1.0, 1.0, 1.0, 3.0, 11.0, 2.0, 6.0, 7.0, 3.0, 4.0, 4.0, 3.0, 1.0, 2.0, 1.0, 2.0, 6.0, 2.0, 5.0, 3.0, 5.0, 1.0, 0.0, 6.0, 3.0, 5.0, 0.0, 1.0, 0.0, 3.0, 5.0, 0.0, 0.0, 2.0, 0.0, 37.0, 16.0, 5.0, 1.0, 4.0, 2.0, 10.0]}, \"callback\": null}, \"id\": \"fa34a101-c8fd-4918-87da-5096ae928622\", \"type\": \"ColumnDataSource\"}, {\"attributes\": {\"plot\": {\"subtype\": \"Figure\", \"id\": \"aa7976d0-9b17-4cfd-a254-37c067eaac3e\", \"type\": \"Plot\"}}, \"id\": \"ab56a68b-08c4-41d7-83cf-efff66c31b1d\", \"type\": \"ResetTool\"}, {\"attributes\": {}, \"id\": \"82bc3855-37ec-4fba-ace0-16d6fa5a1872\", \"type\": \"DatetimeTickFormatter\"}, {\"attributes\": {\"line_width\": {\"value\": 2}, \"y\": {\"field\": \"y\"}, \"x\": {\"field\": \"x\"}, \"line_color\": {\"value\": \"#1f77b4\"}, \"line_alpha\": {\"value\": 0.1}}, \"id\": \"cd34f341-18ca-4f17-885e-f36b13c2851d\", \"type\": \"Line\"}, {\"attributes\": {\"months\": [0, 4, 8]}, \"id\": \"e890a4f3-c00f-4a08-8aac-6f84cd67177b\", \"type\": \"MonthsTicker\"}, {\"attributes\": {\"months\": [0, 6]}, \"id\": \"763af21a-3ef3-4f0d-8e00-f78ba0ad2320\", \"type\": \"MonthsTicker\"}, {\"attributes\": {\"days\": [1, 2, 3, 4, 5, 6, 7, 8, 9, 10, 11, 12, 13, 14, 15, 16, 17, 18, 19, 20, 21, 22, 23, 24, 25, 26, 27, 28, 29, 30, 31]}, \"id\": \"5057d523-6620-41f8-83a7-098fe33ebf01\", \"type\": \"DaysTicker\"}, {\"attributes\": {\"plot\": {\"subtype\": \"Figure\", \"id\": \"4a4cfd0f-2de9-4cc0-8a95-425aa8f22a24\", \"type\": \"Plot\"}, \"ticker\": {\"id\": \"d03d096f-7f8c-44ed-92f3-2f44663b71ee\", \"type\": \"DatetimeTicker\"}, \"formatter\": {\"id\": \"281d580c-5483-4bf3-bd3c-b1e66ad6d5a6\", \"type\": \"DatetimeTickFormatter\"}}, \"id\": \"38c24fd5-274d-4435-b481-693b4ecefe55\", \"type\": \"DatetimeAxis\"}, {\"attributes\": {\"mantissas\": [1, 2, 4, 6, 8, 12], \"num_minor_ticks\": 0, \"max_interval\": 43200000.0, \"base\": 24, \"min_interval\": 3600000.0}, \"id\": \"e7da67b8-59f7-4442-bbb0-dd2eac18b3d2\", \"type\": \"AdaptiveTicker\"}, {\"attributes\": {\"days\": [1, 4, 7, 10, 13, 16, 19, 22, 25, 28]}, \"id\": \"0bf878da-1508-410d-b907-d6331caa5ef9\", \"type\": \"DaysTicker\"}, {\"attributes\": {\"line_width\": {\"value\": 2}, \"y\": {\"field\": \"y\"}, \"x\": {\"field\": \"x\"}, \"line_color\": {\"value\": \"#1f77b4\"}, \"line_alpha\": {\"value\": 0.1}}, \"id\": \"84c5d27e-cce4-4549-adf3-f713751539ed\", \"type\": \"Line\"}, {\"attributes\": {\"data_source\": {\"id\": \"d2bc37f4-7026-4132-8865-f95941b9935a\", \"type\": \"ColumnDataSource\"}, \"nonselection_glyph\": {\"id\": \"53cd9d85-2eab-4a79-9721-e7997e14d3a6\", \"type\": \"Line\"}, \"selection_glyph\": null, \"hover_glyph\": null, \"glyph\": {\"id\": \"865bbda0-b5b0-4494-b263-d16feafaee8a\", \"type\": \"Line\"}}, \"id\": \"7459d9de-a6c8-462b-85c0-1bbfe99b8490\", \"type\": \"GlyphRenderer\"}, {\"attributes\": {\"plot\": {\"subtype\": \"Figure\", \"id\": \"bc546e03-be07-461a-a028-82c1bd967748\", \"type\": \"Plot\"}}, \"id\": \"3383a3d2-8139-469f-b5db-375c615c7527\", \"type\": \"ResizeTool\"}, {\"attributes\": {\"data_source\": {\"id\": \"2a462ef5-d133-4400-be69-83ddf3e8679e\", \"type\": \"ColumnDataSource\"}, \"nonselection_glyph\": {\"id\": \"cd34f341-18ca-4f17-885e-f36b13c2851d\", \"type\": \"Line\"}, \"selection_glyph\": null, \"hover_glyph\": null, \"glyph\": {\"id\": \"e31b4307-13e6-4c03-874b-6b7b7c8199c4\", \"type\": \"Line\"}}, \"id\": \"11e7a4d3-1211-4c1f-a68d-7ca410468183\", \"type\": \"GlyphRenderer\"}, {\"attributes\": {\"months\": [0, 4, 8]}, \"id\": \"ca0b19a9-3102-4183-9b06-633d310d59d2\", \"type\": \"MonthsTicker\"}, {\"attributes\": {\"line_width\": {\"value\": 5}, \"x\": {\"field\": \"x\"}, \"line_color\": {\"value\": \"#1f77b4\"}, \"y\": {\"field\": \"y\"}}, \"id\": \"defd8bcc-5f72-4d55-bee7-79371aebe5d4\", \"type\": \"Line\"}, {\"attributes\": {\"line_width\": {\"value\": 2}, \"y\": {\"field\": \"y\"}, \"x\": {\"field\": \"x\"}, \"line_color\": {\"value\": \"#1f77b4\"}, \"line_alpha\": {\"value\": 0.1}}, \"id\": \"918d9bec-0d70-40dc-a881-8ce12b431470\", \"type\": \"Line\"}, {\"attributes\": {\"months\": [0, 4, 8]}, \"id\": \"4662aa94-bb29-4f9b-a5a8-b0dd8ac6e4d4\", \"type\": \"MonthsTicker\"}, {\"attributes\": {\"data_source\": {\"id\": \"d0faf4a9-93e9-42d3-b64f-0c47cdb50869\", \"type\": \"ColumnDataSource\"}, \"nonselection_glyph\": {\"id\": \"22425df4-e02a-4ce6-a637-1541ea3d251e\", \"type\": \"Line\"}, \"selection_glyph\": null, \"hover_glyph\": null, \"glyph\": {\"id\": \"5eefc6d1-f2f7-4f41-aae4-b4d8259bfc29\", \"type\": \"Line\"}}, \"id\": \"d4f16335-e579-4547-89a5-54dc290f337f\", \"type\": \"GlyphRenderer\"}, {\"attributes\": {\"callback\": null}, \"id\": \"4fb7d50e-7e3a-4b3b-a248-ba283a09a0f2\", \"type\": \"DataRange1d\"}, {\"attributes\": {\"line_width\": {\"value\": 2}, \"y\": {\"field\": \"y\"}, \"x\": {\"field\": \"x\"}, \"line_color\": {\"value\": \"#1f77b4\"}, \"line_alpha\": {\"value\": 0.1}}, \"id\": \"efe8da79-6135-4d6f-9edb-17b99cac10dd\", \"type\": \"Line\"}, {\"attributes\": {\"months\": [0, 4, 8]}, \"id\": \"ab94e52d-bba4-40a1-acce-35f9a4260089\", \"type\": \"MonthsTicker\"}, {\"attributes\": {\"overlay\": {\"id\": \"078e4a7f-ab1c-4bb6-844f-96815aeffa38\", \"type\": \"BoxAnnotation\"}, \"plot\": {\"subtype\": \"Figure\", \"id\": \"5b82dd80-671f-471f-a515-aaafd61644c6\", \"type\": \"Plot\"}}, \"id\": \"d9e0b167-d95b-48eb-8754-822cee95ec5d\", \"type\": \"BoxZoomTool\"}, {\"attributes\": {\"tools\": [{\"id\": \"c5e40a2d-fead-4e61-bfac-b05ed26753ab\", \"type\": \"PanTool\"}, {\"id\": \"921e8bcd-3959-4bd9-b65c-fcf6d01f2cfe\", \"type\": \"WheelZoomTool\"}, {\"id\": \"5f5ae2ba-1636-4fa4-92ea-9d44742b572f\", \"type\": \"BoxZoomTool\"}, {\"id\": \"0f68360b-cc16-4d26-8c15-0f1def106965\", \"type\": \"PreviewSaveTool\"}, {\"id\": \"244caeb0-5a4c-4bfd-868c-480f740ee6c7\", \"type\": \"ResizeTool\"}, {\"id\": \"b717c368-5e69-4087-8f9b-0be5671e9556\", \"type\": \"ResetTool\"}, {\"id\": \"e164d7b1-6cf6-4281-a30f-f3c298f84b19\", \"type\": \"HelpTool\"}], \"left\": [{\"id\": \"1d3d3938-ee05-4873-adc6-54dad99d4b54\", \"type\": \"LinearAxis\"}], \"renderers\": [{\"id\": \"ef9ab1bd-a989-4d60-9b35-5e643d1e58cb\", \"type\": \"DatetimeAxis\"}, {\"id\": \"3a7f2333-abf8-471d-952c-70365575e4ec\", \"type\": \"Grid\"}, {\"id\": \"1d3d3938-ee05-4873-adc6-54dad99d4b54\", \"type\": \"LinearAxis\"}, {\"id\": \"4ef46106-12d3-4a15-8eac-613194051700\", \"type\": \"Grid\"}, {\"id\": \"b7149603-75e2-4e77-8d55-8b5af29dda26\", \"type\": \"BoxAnnotation\"}, {\"id\": \"54ccd926-e12d-44e8-a4c0-a3b464b447a5\", \"type\": \"GlyphRenderer\"}, {\"id\": \"c44507f6-d881-4936-8828-5dad3a06f0fc\", \"type\": \"GlyphRenderer\"}, {\"id\": \"d79dca5b-9695-4ec4-a2c0-bd847dc944c3\", \"type\": \"GlyphRenderer\"}], \"below\": [{\"id\": \"ef9ab1bd-a989-4d60-9b35-5e643d1e58cb\", \"type\": \"DatetimeAxis\"}], \"title_text_font_size\": {\"value\": \"18px\"}, \"y_range\": {\"id\": \"79613f05-d143-4e7d-95ed-2ea2e59fcbc7\", \"type\": \"DataRange1d\"}, \"plot_height\": 500, \"x_range\": {\"id\": \"c10bda40-a887-4169-8df8-253d484ed05a\", \"type\": \"DataRange1d\"}, \"tool_events\": {\"id\": \"ccdacad4-28af-4020-9e95-9657bd646b0f\", \"type\": \"ToolEvents\"}, \"title\": \"Turnover at the Wikimedia Foundation\", \"plot_width\": 960}, \"id\": \"52bb46b3-d49a-40bb-8cfe-b2d8bdd5390c\", \"type\": \"Plot\", \"subtype\": \"Figure\"}, {\"attributes\": {\"months\": [0, 6]}, \"id\": \"7186dfb6-5600-474c-82ea-ba3f5aee6a5b\", \"type\": \"MonthsTicker\"}, {\"attributes\": {\"months\": [0, 2, 4, 6, 8, 10]}, \"id\": \"d14138f7-c348-4973-bd20-c8b5aba8c0ea\", \"type\": \"MonthsTicker\"}, {\"attributes\": {\"column_names\": [\"x\", \"y\"], \"data\": {\"x\": [1312156800000.0, 1314835200000.0, 1317427200000.0, 1320105600000.0, 1322697600000.0, 1325376000000.0, 1328054400000.0, 1330560000000.0, 1333238400000.0, 1335830400000.0, 1338508800000.0, 1341100800000.0, 1343779200000.0, 1346457600000.0, 1349049600000.0, 1351728000000.0, 1354320000000.0, 1356998400000.0, 1359676800000.0, 1362096000000.0, 1364774400000.0, 1367366400000.0, 1370044800000.0, 1372636800000.0, 1375315200000.0, 1377993600000.0, 1380585600000.0, 1383264000000.0, 1385856000000.0, 1388534400000.0, 1391212800000.0, 1393632000000.0, 1396310400000.0, 1398902400000.0, 1401580800000.0, 1404172800000.0, 1406851200000.0, 1409529600000.0, 1412121600000.0, 1414800000000.0, 1417392000000.0, 1420070400000.0, 1422748800000.0, 1425168000000.0, 1427846400000.0, 1430438400000.0, 1433116800000.0, 1435708800000.0, 1438387200000.0, 1441065600000.0, 1443657600000.0, 1446336000000.0, 1448928000000.0, 1451606400000.0, 1454284800000.0], \"y\": [0.0, 0.0, 0.0, 0.0, 0.0, 1.0, 0.0, 0.0, 1.0, 2.0, 0.0, 11.0, 4.0, 1.0, 1.0, 1.0, 3.0, 11.0, 2.0, 6.0, 7.0, 3.0, 4.0, 4.0, 3.0, 1.0, 2.0, 1.0, 2.0, 6.0, 2.0, 5.0, 3.0, 5.0, 1.0, 0.0, 6.0, 3.0, 5.0, 0.0, 1.0, 0.0, 3.0, 5.0, 0.0, 0.0, 2.0, 0.0, 37.0, 16.0, 5.0, 1.0, 4.0, 2.0, 10.0]}, \"callback\": null}, \"id\": \"7c26f1f0-d520-4ea4-a1b0-e1dd2d4421db\", \"type\": \"ColumnDataSource\"}, {\"attributes\": {\"plot\": {\"subtype\": \"Figure\", \"id\": \"bc546e03-be07-461a-a028-82c1bd967748\", \"type\": \"Plot\"}}, \"id\": \"c49f73d1-7025-471a-975b-b46356601008\", \"type\": \"PanTool\"}, {\"attributes\": {\"column_names\": [\"x\", \"y\"], \"data\": {\"x\": [1404172800000.0, 1404172800000.0], \"y\": [0, 20]}, \"callback\": null}, \"id\": \"f9cede8b-db7d-4248-afab-cc51510eef28\", \"type\": \"ColumnDataSource\"}, {\"attributes\": {\"plot\": {\"subtype\": \"Figure\", \"id\": \"ac4065e4-8e62-480c-83d3-9534c460b90a\", \"type\": \"Plot\"}}, \"id\": \"aad9cec0-f538-41f1-805f-d894af2ecaf2\", \"type\": \"WheelZoomTool\"}, {\"attributes\": {}, \"id\": \"93ea9e8e-24aa-45e8-ad16-414afbca7484\", \"type\": \"BasicTicker\"}, {\"attributes\": {\"ticker\": {\"id\": \"0f45d85a-d08a-4b59-b0dc-4e6b5c599cc2\", \"type\": \"DatetimeTicker\"}, \"plot\": {\"subtype\": \"Figure\", \"id\": \"52bb46b3-d49a-40bb-8cfe-b2d8bdd5390c\", \"type\": \"Plot\"}}, \"id\": \"3a7f2333-abf8-471d-952c-70365575e4ec\", \"type\": \"Grid\"}, {\"attributes\": {\"days\": [1, 15]}, \"id\": \"36678dbf-d92f-4402-ba83-7c53de90939d\", \"type\": \"DaysTicker\"}, {\"attributes\": {\"num_minor_ticks\": 0, \"max_interval\": 500.0}, \"id\": \"35fc1fce-9a50-410d-8df8-ac96be4de900\", \"type\": \"AdaptiveTicker\"}, {\"attributes\": {\"line_width\": {\"value\": 2}, \"y\": {\"field\": \"y\"}, \"x\": {\"field\": \"x\"}, \"line_color\": {\"value\": \"#1f77b4\"}, \"line_alpha\": {\"value\": 0.1}}, \"id\": \"f3bd1c53-3c5a-4251-b26c-41b5922dd2e8\", \"type\": \"Line\"}, {\"attributes\": {\"line_width\": {\"value\": 2}, \"x\": {\"field\": \"x\"}, \"line_color\": {\"value\": \"green\"}, \"y\": {\"field\": \"y\"}}, \"id\": \"0fe63bea-ff22-45b0-9598-4daf4254ad1b\", \"type\": \"Line\"}, {\"attributes\": {\"line_width\": {\"value\": 2}, \"x\": {\"field\": \"x\"}, \"line_color\": {\"value\": \"green\"}, \"y\": {\"field\": \"y\"}}, \"id\": \"165dd285-6632-4048-8d0b-e1cd380ba1cf\", \"type\": \"Line\"}, {\"attributes\": {\"num_minor_ticks\": 5}, \"id\": \"4d7beeaa-b5dc-4a36-b35c-992f6c56eeff\", \"type\": \"DatetimeTicker\"}, {\"attributes\": {\"plot\": {\"subtype\": \"Figure\", \"id\": \"bc546e03-be07-461a-a028-82c1bd967748\", \"type\": \"Plot\"}}, \"id\": \"84743596-4b5f-4a68-ac3e-3047b430a175\", \"type\": \"WheelZoomTool\"}, {\"attributes\": {}, \"id\": \"eb43cde5-e497-4cf7-a8ea-48618abe8ca4\", \"type\": \"YearsTicker\"}, {\"attributes\": {\"mantissas\": [1, 2, 5, 10, 15, 20, 30], \"num_minor_ticks\": 0, \"max_interval\": 1800000.0, \"base\": 60, \"min_interval\": 1000.0}, \"id\": \"3d2453c1-aece-40e3-a051-c4faeebcfbb7\", \"type\": \"AdaptiveTicker\"}, {\"attributes\": {\"days\": [1, 4, 7, 10, 13, 16, 19, 22, 25, 28]}, \"id\": \"666f2ec3-66ff-41e0-a753-3a277e833f9e\", \"type\": \"DaysTicker\"}, {\"attributes\": {\"plot\": {\"subtype\": \"Figure\", \"id\": \"835e1e91-b208-4e2b-bd1a-961d2e813e08\", \"type\": \"Plot\"}, \"ticker\": {\"id\": \"5288e770-e2ec-4e5e-825d-d50129d76209\", \"type\": \"DatetimeTicker\"}, \"formatter\": {\"id\": \"309ea0e9-885a-4587-8eab-8957b0459e04\", \"type\": \"DatetimeTickFormatter\"}}, \"id\": \"e6b19291-b408-4d92-a322-446165677b11\", \"type\": \"DatetimeAxis\"}, {\"attributes\": {\"plot\": {\"subtype\": \"Figure\", \"id\": \"48023c29-b7dc-47db-bdb5-b64ba4deea68\", \"type\": \"Plot\"}, \"ticker\": {\"id\": \"488f91c1-f9f9-4d3e-b7f0-367a6323a525\", \"type\": \"BasicTicker\"}, \"formatter\": {\"id\": \"6aebb5d8-a297-4ba5-a408-f8027ca807c8\", \"type\": \"BasicTickFormatter\"}}, \"id\": \"563d5f16-eedc-4784-a2c0-9f2abcac7b96\", \"type\": \"LinearAxis\"}, {\"attributes\": {\"data_source\": {\"id\": \"2df4d99e-a179-43d5-9a24-a4873b257ab5\", \"type\": \"ColumnDataSource\"}, \"nonselection_glyph\": {\"id\": \"903728d0-2038-43b7-a79a-842c9901cb78\", \"type\": \"Line\"}, \"selection_glyph\": null, \"hover_glyph\": null, \"glyph\": {\"id\": \"46eef1c3-72d4-4d32-86bb-c857956a38bc\", \"type\": \"Line\"}}, \"id\": \"e563c47e-7eda-45ee-bb7e-904df0397fe2\", \"type\": \"GlyphRenderer\"}, {\"attributes\": {\"days\": [1, 2, 3, 4, 5, 6, 7, 8, 9, 10, 11, 12, 13, 14, 15, 16, 17, 18, 19, 20, 21, 22, 23, 24, 25, 26, 27, 28, 29, 30, 31]}, \"id\": \"422aa0f9-dfb3-4879-a9b1-e3457d46b271\", \"type\": \"DaysTicker\"}, {\"attributes\": {\"data_source\": {\"id\": \"d63ecfd7-6dd3-4efe-ae76-abe08f47c75f\", \"type\": \"ColumnDataSource\"}, \"nonselection_glyph\": {\"id\": \"4efabb18-00fb-48cd-a41a-d9c6a81e4bdb\", \"type\": \"Line\"}, \"selection_glyph\": null, \"hover_glyph\": null, \"glyph\": {\"id\": \"db51d7a0-85d9-4019-b9d0-d824df283810\", \"type\": \"Line\"}}, \"id\": \"c2c959ee-b785-4f19-be2f-717db88b22af\", \"type\": \"GlyphRenderer\"}, {\"attributes\": {\"level\": \"overlay\", \"render_mode\": \"css\", \"line_dash\": [4, 4], \"plot\": null, \"top_units\": \"screen\", \"line_width\": {\"value\": 2}, \"line_color\": {\"value\": \"black\"}, \"left_units\": \"screen\", \"bottom_units\": \"screen\", \"line_alpha\": {\"value\": 1.0}, \"fill_color\": {\"value\": \"lightgrey\"}, \"fill_alpha\": {\"value\": 0.5}, \"right_units\": \"screen\"}, \"id\": \"b7149603-75e2-4e77-8d55-8b5af29dda26\", \"type\": \"BoxAnnotation\"}, {\"attributes\": {\"ticker\": {\"id\": \"1030b8e7-22a6-4f39-9cc3-0ce66733c65e\", \"type\": \"DatetimeTicker\"}, \"plot\": {\"subtype\": \"Figure\", \"id\": \"bc546e03-be07-461a-a028-82c1bd967748\", \"type\": \"Plot\"}}, \"id\": \"9967af96-8589-4249-bfc2-60c3b728a917\", \"type\": \"Grid\"}, {\"attributes\": {\"mantissas\": [1, 2, 4, 6, 8, 12], \"num_minor_ticks\": 0, \"max_interval\": 43200000.0, \"base\": 24, \"min_interval\": 3600000.0}, \"id\": \"c1753e31-d183-4e89-b09b-4931f6a72c44\", \"type\": \"AdaptiveTicker\"}, {\"attributes\": {\"callback\": null}, \"id\": \"19565497-7710-4778-b21d-ff15f36e8e4b\", \"type\": \"DataRange1d\"}, {\"attributes\": {\"days\": [1, 8, 15, 22]}, \"id\": \"965f3cfe-98eb-4e12-9948-6918a19e2c18\", \"type\": \"DaysTicker\"}, {\"attributes\": {\"line_width\": {\"value\": 2}, \"y\": {\"field\": \"y\"}, \"x\": {\"field\": \"x\"}, \"line_color\": {\"value\": \"#1f77b4\"}, \"line_alpha\": {\"value\": 0.1}}, \"id\": \"5ff98c0e-ec7a-4121-9cf6-8be7ac874667\", \"type\": \"Line\"}, {\"attributes\": {\"plot\": {\"subtype\": \"Figure\", \"id\": \"835e1e91-b208-4e2b-bd1a-961d2e813e08\", \"type\": \"Plot\"}}, \"id\": \"f62f04f7-e4dd-4712-85b4-263661bde259\", \"type\": \"PanTool\"}, {\"attributes\": {\"overlay\": {\"id\": \"23edbffd-17d9-482a-afb3-21cfc8d4f8b6\", \"type\": \"BoxAnnotation\"}, \"plot\": {\"subtype\": \"Figure\", \"id\": \"aa7976d0-9b17-4cfd-a254-37c067eaac3e\", \"type\": \"Plot\"}}, \"id\": \"d1960bab-9c5a-4172-8507-870bbbabf7a6\", \"type\": \"BoxZoomTool\"}, {\"attributes\": {\"ticker\": {\"id\": \"79f7d7d7-d599-4e95-ba18-9d0dd08e9401\", \"type\": \"DatetimeTicker\"}, \"plot\": {\"subtype\": \"Figure\", \"id\": \"09d19a11-1e7d-4211-8f35-78368603c093\", \"type\": \"Plot\"}}, \"id\": \"5a75d466-e541-4ddb-9dae-6aa84e1508a7\", \"type\": \"Grid\"}, {\"attributes\": {\"days\": [1, 8, 15, 22]}, \"id\": \"978b418c-8935-41c7-a71e-3b8949f22e71\", \"type\": \"DaysTicker\"}, {\"attributes\": {\"overlay\": {\"id\": \"b7149603-75e2-4e77-8d55-8b5af29dda26\", \"type\": \"BoxAnnotation\"}, \"plot\": {\"subtype\": \"Figure\", \"id\": \"52bb46b3-d49a-40bb-8cfe-b2d8bdd5390c\", \"type\": \"Plot\"}}, \"id\": \"5f5ae2ba-1636-4fa4-92ea-9d44742b572f\", \"type\": \"BoxZoomTool\"}, {\"attributes\": {\"line_width\": {\"value\": 2}, \"y\": {\"field\": \"y\"}, \"x\": {\"field\": \"x\"}, \"line_color\": {\"value\": \"#1f77b4\"}, \"line_alpha\": {\"value\": 0.1}}, \"id\": \"ddb450f8-1238-4b09-a6b9-a7165f712601\", \"type\": \"Line\"}, {\"attributes\": {}, \"id\": \"a3a55757-4418-4482-8e60-073ed56d74b8\", \"type\": \"DatetimeTickFormatter\"}, {\"attributes\": {\"level\": \"overlay\", \"render_mode\": \"css\", \"line_dash\": [4, 4], \"plot\": null, \"top_units\": \"screen\", \"line_width\": {\"value\": 2}, \"line_color\": {\"value\": \"black\"}, \"left_units\": \"screen\", \"bottom_units\": \"screen\", \"line_alpha\": {\"value\": 1.0}, \"fill_color\": {\"value\": \"lightgrey\"}, \"fill_alpha\": {\"value\": 0.5}, \"right_units\": \"screen\"}, \"id\": \"73928600-e0b3-486f-9179-2a01a23b3a23\", \"type\": \"BoxAnnotation\"}, {\"attributes\": {\"months\": [0, 2, 4, 6, 8, 10]}, \"id\": \"524aadcd-8900-427c-804f-30b44bc99148\", \"type\": \"MonthsTicker\"}, {\"attributes\": {\"months\": [0, 4, 8]}, \"id\": \"db95e1bf-c772-43f8-bd73-7c20e77651af\", \"type\": \"MonthsTicker\"}, {\"attributes\": {\"months\": [0, 6]}, \"id\": \"d03600eb-09f0-41d8-8ccb-786238bea60c\", \"type\": \"MonthsTicker\"}, {\"attributes\": {\"plot\": {\"subtype\": \"Figure\", \"id\": \"98d7fc6e-1ac5-4bb9-8585-c2860b3344f4\", \"type\": \"Plot\"}, \"ticker\": {\"id\": \"19b044cc-9b7e-4d7d-a081-fd9081b16796\", \"type\": \"DatetimeTicker\"}, \"formatter\": {\"id\": \"a94e821b-bff4-485a-888a-8474b89588e9\", \"type\": \"DatetimeTickFormatter\"}}, \"id\": \"bf3c127f-44b8-4ceb-8fdc-60d70e6f4c56\", \"type\": \"DatetimeAxis\"}, {\"attributes\": {\"mantissas\": [1, 2, 4, 6, 8, 12], \"num_minor_ticks\": 0, \"max_interval\": 43200000.0, \"base\": 24, \"min_interval\": 3600000.0}, \"id\": \"5f1e5a74-3eff-45f4-8a70-627393ba052c\", \"type\": \"AdaptiveTicker\"}, {\"attributes\": {\"plot\": {\"subtype\": \"Figure\", \"id\": \"835e1e91-b208-4e2b-bd1a-961d2e813e08\", \"type\": \"Plot\"}}, \"id\": \"3e32412a-92ca-43a7-8287-665154c54a03\", \"type\": \"HelpTool\"}, {\"attributes\": {\"plot\": {\"subtype\": \"Figure\", \"id\": \"5590cfb8-2c89-4073-bb9d-0ec73f2a7569\", \"type\": \"Plot\"}}, \"id\": \"9a705dd0-4275-4777-989f-b7158d5dcfe7\", \"type\": \"ResetTool\"}, {\"attributes\": {\"callback\": null}, \"id\": \"c10bda40-a887-4169-8df8-253d484ed05a\", \"type\": \"DataRange1d\"}, {\"attributes\": {\"line_width\": {\"value\": 2}, \"x\": {\"field\": \"x\"}, \"line_color\": {\"value\": \"green\"}, \"y\": {\"field\": \"y\"}}, \"id\": \"52f717f0-2beb-4fb1-92a3-bf7582d2f006\", \"type\": \"Line\"}, {\"attributes\": {\"plot\": {\"subtype\": \"Figure\", \"id\": \"48023c29-b7dc-47db-bdb5-b64ba4deea68\", \"type\": \"Plot\"}}, \"id\": \"a9a2c826-f8b4-4101-96e6-25a53464d9b1\", \"type\": \"ResizeTool\"}, {\"attributes\": {\"level\": \"overlay\", \"render_mode\": \"css\", \"line_dash\": [4, 4], \"plot\": null, \"top_units\": \"screen\", \"line_width\": {\"value\": 2}, \"line_color\": {\"value\": \"black\"}, \"left_units\": \"screen\", \"bottom_units\": \"screen\", \"line_alpha\": {\"value\": 1.0}, \"fill_color\": {\"value\": \"lightgrey\"}, \"fill_alpha\": {\"value\": 0.5}, \"right_units\": \"screen\"}, \"id\": \"c1dab686-18ae-4f1a-a28e-d5f1296ba26f\", \"type\": \"BoxAnnotation\"}, {\"attributes\": {\"data_source\": {\"id\": \"a846188d-6ca0-43fd-b36b-8d483223ecce\", \"type\": \"ColumnDataSource\"}, \"nonselection_glyph\": {\"id\": \"d8dacacd-84fe-453d-a4a2-034e660fc8f2\", \"type\": \"Line\"}, \"selection_glyph\": null, \"hover_glyph\": null, \"glyph\": {\"id\": \"d580b257-2e14-451e-bc7b-a1a46a01cd9b\", \"type\": \"Line\"}}, \"id\": \"60559db3-37ef-4550-92a9-9964f41aaedd\", \"type\": \"GlyphRenderer\"}, {\"attributes\": {\"months\": [0, 4, 8]}, \"id\": \"eb6fc48b-d01b-4f8f-9706-07cea35fc73d\", \"type\": \"MonthsTicker\"}, {\"attributes\": {\"num_minor_ticks\": 5}, \"id\": \"e4d238ed-5edc-47dc-8a60-1f9b2d0493d4\", \"type\": \"DatetimeTicker\"}, {\"attributes\": {\"column_names\": [\"x\", \"y\"], \"data\": {\"x\": [1401580800000.0, 1401580800000.0], \"y\": [0, 30]}, \"callback\": null}, \"id\": \"615725be-fe0f-4504-9df9-dbe3b42469a6\", \"type\": \"ColumnDataSource\"}, {\"attributes\": {\"plot\": {\"subtype\": \"Figure\", \"id\": \"bc546e03-be07-461a-a028-82c1bd967748\", \"type\": \"Plot\"}}, \"id\": \"21a3ec1d-afe8-4b9b-97b8-a1cf8932200f\", \"type\": \"PreviewSaveTool\"}, {\"attributes\": {\"data_source\": {\"id\": \"d91ddfb6-e29c-47d5-bafc-a6d6a09b13c8\", \"type\": \"ColumnDataSource\"}, \"nonselection_glyph\": {\"id\": \"a537baa1-2b3b-4c34-ba42-d08996b8ab6e\", \"type\": \"Line\"}, \"selection_glyph\": null, \"hover_glyph\": null, \"glyph\": {\"id\": \"8354976f-f7f0-4aa4-a777-39f7466bdd2a\", \"type\": \"Line\"}}, \"id\": \"dcc30fb6-f20c-4528-b4da-7697bda70dcb\", \"type\": \"GlyphRenderer\"}, {\"attributes\": {\"plot\": {\"subtype\": \"Figure\", \"id\": \"aa7976d0-9b17-4cfd-a254-37c067eaac3e\", \"type\": \"Plot\"}, \"ticker\": {\"id\": \"e93b8346-d1a1-4f61-bfc6-6b794ad88204\", \"type\": \"DatetimeTicker\"}, \"formatter\": {\"id\": \"c8c0fc1d-9eb7-45a4-80b8-d81db0bdd191\", \"type\": \"DatetimeTickFormatter\"}}, \"id\": \"e7ce5479-d307-406d-b42c-8a4c0d1fa05f\", \"type\": \"DatetimeAxis\"}, {\"attributes\": {\"num_minor_ticks\": 5}, \"id\": \"0f45d85a-d08a-4b59-b0dc-4e6b5c599cc2\", \"type\": \"DatetimeTicker\"}, {\"attributes\": {\"plot\": {\"subtype\": \"Figure\", \"id\": \"76e6af38-8d77-4ed2-8c6e-caef0e88cb7c\", \"type\": \"Plot\"}}, \"id\": \"8d45788e-c904-45a9-a533-df5eb2dca140\", \"type\": \"PreviewSaveTool\"}, {\"attributes\": {\"num_minor_ticks\": 0, \"max_interval\": 500.0}, \"id\": \"a90aac25-d172-456f-af06-b8663ad8a28e\", \"type\": \"AdaptiveTicker\"}, {\"attributes\": {}, \"id\": \"5c611b47-d77a-409d-bf5c-f45a42a945b7\", \"type\": \"YearsTicker\"}, {\"attributes\": {\"plot\": {\"subtype\": \"Figure\", \"id\": \"ac4065e4-8e62-480c-83d3-9534c460b90a\", \"type\": \"Plot\"}}, \"id\": \"cf1c1244-8000-4ed1-833b-1e01eb2f900b\", \"type\": \"PreviewSaveTool\"}, {\"attributes\": {\"x\": {\"field\": \"x\"}, \"line_color\": {\"value\": \"#1f77b4\"}, \"y\": {\"field\": \"y\"}}, \"id\": \"2a2f09ef-7e1e-4ef7-a137-89bda6d9b178\", \"type\": \"Line\"}, {\"attributes\": {\"callback\": null}, \"id\": \"454d3af4-9884-48d0-8885-d7f0f3d61734\", \"type\": \"DataRange1d\"}, {\"attributes\": {\"line_width\": {\"value\": 2}, \"y\": {\"field\": \"y\"}, \"x\": {\"field\": \"x\"}, \"line_color\": {\"value\": \"#1f77b4\"}, \"line_alpha\": {\"value\": 0.1}}, \"id\": \"51ab1c44-abea-4d6a-8d15-9d306108d81e\", \"type\": \"Line\"}, {\"attributes\": {\"line_width\": {\"value\": 4}, \"y\": {\"field\": \"y\"}, \"x\": {\"field\": \"x\"}, \"line_color\": {\"value\": \"#1f77b4\"}, \"line_alpha\": {\"value\": 0.1}}, \"id\": \"3e6ce208-49d0-439e-bab0-cab6e56a62f1\", \"type\": \"Line\"}, {\"attributes\": {\"dimension\": 1, \"ticker\": {\"id\": \"cf60a125-aea4-418b-9f68-146499aa0821\", \"type\": \"BasicTicker\"}, \"plot\": {\"subtype\": \"Figure\", \"id\": \"aa7976d0-9b17-4cfd-a254-37c067eaac3e\", \"type\": \"Plot\"}}, \"id\": \"539f88fc-0a6c-4aa9-ab11-84240cccdf85\", \"type\": \"Grid\"}, {\"attributes\": {\"plot\": {\"subtype\": \"Figure\", \"id\": \"aa7976d0-9b17-4cfd-a254-37c067eaac3e\", \"type\": \"Plot\"}}, \"id\": \"78fd3e8e-ae89-49b8-89fa-f71a40ea3503\", \"type\": \"PanTool\"}, {\"attributes\": {\"months\": [0, 4, 8]}, \"id\": \"d7693a53-7d18-410b-aaa4-5875758513ca\", \"type\": \"MonthsTicker\"}, {\"attributes\": {\"column_names\": [\"x\", \"y\"], \"data\": {\"x\": [1312156800000.0, 1314835200000.0, 1317427200000.0, 1320105600000.0, 1322697600000.0, 1325376000000.0, 1328054400000.0, 1330560000000.0, 1333238400000.0, 1335830400000.0, 1338508800000.0, 1341100800000.0, 1343779200000.0, 1346457600000.0, 1349049600000.0, 1351728000000.0, 1354320000000.0, 1356998400000.0, 1359676800000.0, 1362096000000.0, 1364774400000.0, 1367366400000.0, 1370044800000.0, 1372636800000.0, 1375315200000.0, 1377993600000.0, 1380585600000.0, 1383264000000.0, 1385856000000.0, 1388534400000.0, 1391212800000.0, 1393632000000.0, 1396310400000.0, 1398902400000.0, 1401580800000.0, 1404172800000.0, 1406851200000.0, 1409529600000.0, 1412121600000.0, 1414800000000.0, 1417392000000.0, 1420070400000.0, 1422748800000.0, 1425168000000.0, 1427846400000.0, 1430438400000.0, 1433116800000.0, 1435708800000.0, 1438387200000.0, 1441065600000.0, 1443657600000.0, 1446336000000.0, 1448928000000.0, 1451606400000.0, 1454284800000.0], \"y\": [0.0, 0.0, 0.0, 0.0, 0.0, 1.0, 0.0, 0.0, 1.0, 2.0, 0.0, 11.0, 4.0, 1.0, 1.0, 1.0, 3.0, 11.0, 2.0, 6.0, 7.0, 3.0, 4.0, 4.0, 3.0, 1.0, 2.0, 1.0, 2.0, 6.0, 2.0, 5.0, 3.0, 5.0, 1.0, 0.0, 6.0, 3.0, 5.0, 0.0, 1.0, 0.0, 3.0, 5.0, 0.0, 0.0, 2.0, 0.0, 37.0, 16.0, 5.0, 1.0, 4.0, 2.0, 10.0]}, \"callback\": null}, \"id\": \"f1dedd01-277f-4e67-bc4b-e573e7990b7b\", \"type\": \"ColumnDataSource\"}, {\"attributes\": {\"plot\": {\"subtype\": \"Figure\", \"id\": \"aa7976d0-9b17-4cfd-a254-37c067eaac3e\", \"type\": \"Plot\"}}, \"id\": \"4cedf04c-d331-4ea2-91e0-4f8c3cb92d4e\", \"type\": \"PreviewSaveTool\"}, {\"attributes\": {\"plot\": {\"subtype\": \"Figure\", \"id\": \"76e6af38-8d77-4ed2-8c6e-caef0e88cb7c\", \"type\": \"Plot\"}, \"ticker\": {\"id\": \"dfc3dc24-3416-491e-add5-068e28f3c080\", \"type\": \"BasicTicker\"}, \"formatter\": {\"id\": \"d7442776-da6a-4b05-8994-1f097632f8ae\", \"type\": \"BasicTickFormatter\"}}, \"id\": \"e8b2d0ba-c05e-40b5-bc2f-22d347cede49\", \"type\": \"LinearAxis\"}, {\"attributes\": {\"plot\": {\"subtype\": \"Figure\", \"id\": \"835e1e91-b208-4e2b-bd1a-961d2e813e08\", \"type\": \"Plot\"}}, \"id\": \"0df20312-0d31-4b74-ab09-3463eab9eacc\", \"type\": \"WheelZoomTool\"}, {\"attributes\": {}, \"id\": \"e1993754-cf59-4531-9f49-d7756db4cafe\", \"type\": \"YearsTicker\"}, {\"attributes\": {\"column_names\": [\"x\", \"y\"], \"data\": {\"x\": [1401580800000.0, 1433116800000.0], \"y\": [0, 30]}, \"callback\": null}, \"id\": \"2df4d99e-a179-43d5-9a24-a4873b257ab5\", \"type\": \"ColumnDataSource\"}, {\"attributes\": {\"data_source\": {\"id\": \"a0d43339-7c78-4ec0-bd4b-311012bc5d40\", \"type\": \"ColumnDataSource\"}, \"nonselection_glyph\": {\"id\": \"a4638d5b-13d5-4877-810f-2957938d8506\", \"type\": \"Line\"}, \"selection_glyph\": null, \"hover_glyph\": null, \"glyph\": {\"id\": \"2a2f09ef-7e1e-4ef7-a137-89bda6d9b178\", \"type\": \"Line\"}}, \"id\": \"ec9ccfbb-6b50-4087-b4ba-792ffb2fc56d\", \"type\": \"GlyphRenderer\"}, {\"attributes\": {\"column_names\": [\"x\", \"y\"], \"data\": {\"x\": [1401580800000.0, 1401580800000.0], \"y\": [0, 30]}, \"callback\": null}, \"id\": \"01621d9c-9828-4ad9-9c1a-18f81bfef576\", \"type\": \"ColumnDataSource\"}, {\"attributes\": {\"plot\": {\"subtype\": \"Figure\", \"id\": \"48023c29-b7dc-47db-bdb5-b64ba4deea68\", \"type\": \"Plot\"}}, \"id\": \"b67164ef-0c79-4168-91a1-8f71e77dd5e1\", \"type\": \"PanTool\"}, {\"attributes\": {\"months\": [0, 2, 4, 6, 8, 10]}, \"id\": \"bd0cc287-4019-446d-b5f9-972c78d7940d\", \"type\": \"MonthsTicker\"}, {\"attributes\": {\"line_width\": {\"value\": 2}, \"y\": {\"field\": \"y\"}, \"x\": {\"field\": \"x\"}, \"line_color\": {\"value\": \"#1f77b4\"}, \"line_alpha\": {\"value\": 0.1}}, \"id\": \"c9a70b5d-cdff-465e-9a84-b001c17f6946\", \"type\": \"Line\"}, {\"attributes\": {\"data_source\": {\"id\": \"7ff8961c-1eca-4998-b415-d004f2d40436\", \"type\": \"ColumnDataSource\"}, \"nonselection_glyph\": {\"id\": \"3e6ce208-49d0-439e-bab0-cab6e56a62f1\", \"type\": \"Line\"}, \"selection_glyph\": null, \"hover_glyph\": null, \"glyph\": {\"id\": \"4e2f9e6d-c6d0-4cd8-99fa-bd9daebe25ff\", \"type\": \"Line\"}}, \"id\": \"4af80bd3-e42f-45e0-9661-461f5817e829\", \"type\": \"GlyphRenderer\"}, {\"attributes\": {\"days\": [1, 15]}, \"id\": \"0020aa23-c1fb-4d4b-8265-01ca774a98b3\", \"type\": \"DaysTicker\"}, {\"attributes\": {\"months\": [0, 1, 2, 3, 4, 5, 6, 7, 8, 9, 10, 11]}, \"id\": \"2c551b95-6505-4379-ae97-8eadc464fff9\", \"type\": \"MonthsTicker\"}, {\"attributes\": {}, \"id\": \"29ccefc9-cdd5-4756-a1fa-f468ae802eae\", \"type\": \"BasicTicker\"}, {\"attributes\": {\"plot\": {\"subtype\": \"Figure\", \"id\": \"cf6e146d-8e09-43d7-89a8-3f409d17822c\", \"type\": \"Plot\"}, \"ticker\": {\"id\": \"4d7beeaa-b5dc-4a36-b35c-992f6c56eeff\", \"type\": \"DatetimeTicker\"}, \"formatter\": {\"id\": \"a3a55757-4418-4482-8e60-073ed56d74b8\", \"type\": \"DatetimeTickFormatter\"}}, \"id\": \"58be6cad-6f01-400f-8965-e47ea499ae39\", \"type\": \"DatetimeAxis\"}, {\"attributes\": {\"plot\": {\"subtype\": \"Figure\", \"id\": \"52bb46b3-d49a-40bb-8cfe-b2d8bdd5390c\", \"type\": \"Plot\"}, \"ticker\": {\"id\": \"0f45d85a-d08a-4b59-b0dc-4e6b5c599cc2\", \"type\": \"DatetimeTicker\"}, \"formatter\": {\"id\": \"82bc3855-37ec-4fba-ace0-16d6fa5a1872\", \"type\": \"DatetimeTickFormatter\"}}, \"id\": \"ef9ab1bd-a989-4d60-9b35-5e643d1e58cb\", \"type\": \"DatetimeAxis\"}, {\"attributes\": {\"days\": [1, 2, 3, 4, 5, 6, 7, 8, 9, 10, 11, 12, 13, 14, 15, 16, 17, 18, 19, 20, 21, 22, 23, 24, 25, 26, 27, 28, 29, 30, 31]}, \"id\": \"8072ef4f-d34e-4195-9afc-9bc4359461cf\", \"type\": \"DaysTicker\"}, {\"attributes\": {\"plot\": {\"subtype\": \"Figure\", \"id\": \"98d7fc6e-1ac5-4bb9-8585-c2860b3344f4\", \"type\": \"Plot\"}}, \"id\": \"61b0ea73-00a4-494e-a835-95822a89d9e3\", \"type\": \"WheelZoomTool\"}, {\"attributes\": {}, \"id\": \"6aebb5d8-a297-4ba5-a408-f8027ca807c8\", \"type\": \"BasicTickFormatter\"}, {\"attributes\": {\"data_source\": {\"id\": \"c2a39970-1ff4-4c44-b957-5d0b9911fc50\", \"type\": \"ColumnDataSource\"}, \"nonselection_glyph\": {\"id\": \"9447f34a-4f87-4da7-a1cb-9e81aae53b28\", \"type\": \"Line\"}, \"selection_glyph\": null, \"hover_glyph\": null, \"glyph\": {\"id\": \"6c3f32a3-f9c1-44f4-99d6-a3e475d79d0d\", \"type\": \"Line\"}}, \"id\": \"56875dfc-e95d-41dc-8a6c-f72b473758d6\", \"type\": \"GlyphRenderer\"}, {\"attributes\": {\"callback\": null}, \"id\": \"c329f425-6819-4e85-9c0e-1e4f9a2de198\", \"type\": \"DataRange1d\"}, {\"attributes\": {\"num_minor_ticks\": 0, \"max_interval\": 500.0}, \"id\": \"937d5443-69de-435c-9979-8937527554ac\", \"type\": \"AdaptiveTicker\"}, {\"attributes\": {\"line_width\": {\"value\": 2}, \"y\": {\"field\": \"y\"}, \"x\": {\"field\": \"x\"}, \"line_color\": {\"value\": \"#1f77b4\"}, \"line_alpha\": {\"value\": 0.1}}, \"id\": \"06cff9d0-d45f-42b8-aa40-85868eb96636\", \"type\": \"Line\"}, {\"attributes\": {\"callback\": null}, \"id\": \"79613f05-d143-4e7d-95ed-2ea2e59fcbc7\", \"type\": \"DataRange1d\"}, {\"attributes\": {\"callback\": null}, \"id\": \"3fea6f87-cca6-4693-9b36-70d63893842c\", \"type\": \"DataRange1d\"}, {\"attributes\": {\"column_names\": [\"x\", \"y\"], \"data\": {\"x\": [1312156800000.0, 1314835200000.0, 1317427200000.0, 1320105600000.0, 1322697600000.0, 1325376000000.0, 1328054400000.0, 1330560000000.0, 1333238400000.0, 1335830400000.0, 1338508800000.0, 1341100800000.0, 1343779200000.0, 1346457600000.0, 1349049600000.0, 1351728000000.0, 1354320000000.0, 1356998400000.0, 1359676800000.0, 1362096000000.0, 1364774400000.0, 1367366400000.0, 1370044800000.0, 1372636800000.0, 1375315200000.0, 1377993600000.0, 1380585600000.0, 1383264000000.0, 1385856000000.0, 1388534400000.0, 1391212800000.0, 1393632000000.0, 1396310400000.0, 1398902400000.0, 1401580800000.0, 1404172800000.0, 1406851200000.0, 1409529600000.0, 1412121600000.0, 1414800000000.0, 1417392000000.0, 1420070400000.0, 1422748800000.0, 1425168000000.0, 1427846400000.0, 1430438400000.0, 1433116800000.0, 1435708800000.0, 1438387200000.0, 1441065600000.0, 1443657600000.0, 1446336000000.0, 1448928000000.0, 1451606400000.0, 1454284800000.0], \"y\": [0.0, 0.0, 0.0, 0.0, 0.0, 1.0, 0.0, 0.0, 1.0, 2.0, 0.0, 11.0, 4.0, 1.0, 1.0, 1.0, 3.0, 11.0, 2.0, 6.0, 7.0, 3.0, 4.0, 4.0, 3.0, 1.0, 2.0, 1.0, 2.0, 6.0, 2.0, 5.0, 3.0, 5.0, 1.0, 0.0, 6.0, 3.0, 5.0, 0.0, 1.0, 0.0, 3.0, 5.0, 0.0, 0.0, 2.0, 0.0, 37.0, 16.0, 5.0, 1.0, 4.0, 2.0, 10.0]}, \"callback\": null}, \"id\": \"d91ddfb6-e29c-47d5-bafc-a6d6a09b13c8\", \"type\": \"ColumnDataSource\"}, {\"attributes\": {\"column_names\": [\"x\", \"y\"], \"data\": {\"x\": [1401580800000.0, 1401580800000.0], \"y\": [0, 20]}, \"callback\": null}, \"id\": \"aba28475-a506-4f9f-b73d-3c88fa9aaed0\", \"type\": \"ColumnDataSource\"}, {\"attributes\": {\"days\": [1, 15]}, \"id\": \"dbd45d86-8bfb-451a-a987-69aa73769689\", \"type\": \"DaysTicker\"}, {\"attributes\": {\"days\": [1, 8, 15, 22]}, \"id\": \"9aecf8fd-7da5-4191-bb0e-8a8346970751\", \"type\": \"DaysTicker\"}, {\"attributes\": {}, \"id\": \"973fa81d-d486-4208-8803-078ca47601bc\", \"type\": \"BasicTickFormatter\"}, {\"attributes\": {\"plot\": {\"subtype\": \"Figure\", \"id\": \"ac4065e4-8e62-480c-83d3-9534c460b90a\", \"type\": \"Plot\"}}, \"id\": \"873a96c4-7825-4dbc-a262-6f73277c6a0e\", \"type\": \"PanTool\"}, {\"attributes\": {\"column_names\": [\"x\", \"y\"], \"data\": {\"x\": [1401580800000.0, 1401580800000.0], \"y\": [0, 30]}, \"callback\": null}, \"id\": \"97cdea4d-5c1d-4a55-be66-0037be8b1b7a\", \"type\": \"ColumnDataSource\"}, {\"attributes\": {\"column_names\": [\"x\", \"y\"], \"data\": {\"x\": [1401580800000.0, 1401580800000.0], \"y\": [0, 35]}, \"callback\": null}, \"id\": \"2a462ef5-d133-4400-be69-83ddf3e8679e\", \"type\": \"ColumnDataSource\"}, {\"attributes\": {\"days\": [1, 4, 7, 10, 13, 16, 19, 22, 25, 28]}, \"id\": \"a0cb1055-c118-4ec2-920c-497bf6cea75b\", \"type\": \"DaysTicker\"}, {\"attributes\": {\"months\": [0, 2, 4, 6, 8, 10]}, \"id\": \"08f14110-9be6-440b-a94f-86a339ae02c7\", \"type\": \"MonthsTicker\"}, {\"attributes\": {\"mantissas\": [1, 2, 4, 6, 8, 12], \"num_minor_ticks\": 0, \"max_interval\": 43200000.0, \"base\": 24, \"min_interval\": 3600000.0}, \"id\": \"50faa59e-c0d7-448e-a650-8c1a89a31109\", \"type\": \"AdaptiveTicker\"}, {\"attributes\": {\"column_names\": [\"x\", \"y\"], \"data\": {\"x\": [1312156800000.0, 1314835200000.0, 1317427200000.0, 1320105600000.0, 1322697600000.0, 1325376000000.0, 1328054400000.0, 1330560000000.0, 1333238400000.0, 1335830400000.0, 1338508800000.0, 1341100800000.0, 1343779200000.0, 1346457600000.0, 1349049600000.0, 1351728000000.0, 1354320000000.0, 1356998400000.0, 1359676800000.0, 1362096000000.0, 1364774400000.0, 1367366400000.0, 1370044800000.0, 1372636800000.0, 1375315200000.0, 1377993600000.0, 1380585600000.0, 1383264000000.0, 1385856000000.0, 1388534400000.0, 1391212800000.0, 1393632000000.0, 1396310400000.0, 1398902400000.0, 1401580800000.0, 1404172800000.0, 1406851200000.0, 1409529600000.0, 1412121600000.0, 1414800000000.0, 1417392000000.0, 1420070400000.0, 1422748800000.0, 1425168000000.0, 1427846400000.0, 1430438400000.0, 1433116800000.0, 1435708800000.0, 1438387200000.0, 1441065600000.0, 1443657600000.0, 1446336000000.0, 1448928000000.0, 1451606400000.0, 1454284800000.0], \"y\": [9, 4, 4, 9, 5, 5, 7, 5, 5, 10, 2, 3, 3, 5, 9, 8, 2, 11, 5, 5, 6, 11, 8, 14, 7, 6, 5, 6, 6, 9, 5, 9, 3, 10, 4, 7, 2, 16, 8, 5, 6, 8, 6, 6, 10, 24, 11, 7, 10, 7, 12, 7, 4, 12, 5]}, \"callback\": null}, \"id\": \"3666471d-ef28-4a50-9bb0-e44df54b6a5c\", \"type\": \"ColumnDataSource\"}, {\"attributes\": {\"months\": [0, 2, 4, 6, 8, 10]}, \"id\": \"adda4b5a-8585-4626-8168-06acd229b9b1\", \"type\": \"MonthsTicker\"}, {\"attributes\": {\"months\": [0, 6]}, \"id\": \"787412c4-1035-4cb9-b748-02fe18368c1c\", \"type\": \"MonthsTicker\"}, {\"attributes\": {\"mantissas\": [1, 2, 4, 6, 8, 12], \"num_minor_ticks\": 0, \"max_interval\": 43200000.0, \"base\": 24, \"min_interval\": 3600000.0}, \"id\": \"4f4631e8-a5a5-40e0-aa35-43898703312b\", \"type\": \"AdaptiveTicker\"}, {\"attributes\": {\"plot\": {\"subtype\": \"Figure\", \"id\": \"bc546e03-be07-461a-a028-82c1bd967748\", \"type\": \"Plot\"}, \"ticker\": {\"id\": \"cecb2459-8caa-4069-bd33-42f3fd2eb856\", \"type\": \"BasicTicker\"}, \"formatter\": {\"id\": \"cb5982da-7be8-4cb7-9623-076dd8cde97b\", \"type\": \"BasicTickFormatter\"}}, \"id\": \"024b0410-77d1-40a6-b38f-d2585ea703eb\", \"type\": \"LinearAxis\"}, {\"attributes\": {\"data_source\": {\"id\": \"615725be-fe0f-4504-9df9-dbe3b42469a6\", \"type\": \"ColumnDataSource\"}, \"nonselection_glyph\": {\"id\": \"3ed6ca13-35f2-49ac-a9e5-c83bd99ddfb8\", \"type\": \"Line\"}, \"selection_glyph\": null, \"hover_glyph\": null, \"glyph\": {\"id\": \"15205c32-e208-4b27-9dc3-c572f478e1c7\", \"type\": \"Line\"}}, \"id\": \"4d6295b8-b948-4a65-9052-50ce79cb9043\", \"type\": \"GlyphRenderer\"}, {\"attributes\": {}, \"id\": \"231143e6-e832-4133-b66c-5d676350e310\", \"type\": \"YearsTicker\"}, {\"attributes\": {\"line_width\": {\"value\": 2}, \"x\": {\"field\": \"x\"}, \"line_color\": {\"value\": \"green\"}, \"y\": {\"field\": \"y\"}}, \"id\": \"17c538a0-1e2b-4716-b9fe-d73ccd6cb1e5\", \"type\": \"Line\"}, {\"attributes\": {\"dimension\": 1, \"ticker\": {\"id\": \"4cad5d12-b344-43bf-b9b1-3e02b24375cc\", \"type\": \"BasicTicker\"}, \"plot\": {\"subtype\": \"Figure\", \"id\": \"5590cfb8-2c89-4073-bb9d-0ec73f2a7569\", \"type\": \"Plot\"}}, \"id\": \"434efca9-1ccf-4850-94da-3b61166fd5e9\", \"type\": \"Grid\"}, {\"attributes\": {\"num_minor_ticks\": 5}, \"id\": \"19b044cc-9b7e-4d7d-a081-fd9081b16796\", \"type\": \"DatetimeTicker\"}, {\"attributes\": {\"num_minor_ticks\": 0, \"max_interval\": 500.0}, \"id\": \"4f8fe75b-1b04-402c-9954-f975fb2db140\", \"type\": \"AdaptiveTicker\"}, {\"attributes\": {\"num_minor_ticks\": 0, \"max_interval\": 500.0}, \"id\": \"8fd327e6-f905-455f-a0c6-1b535a6a7347\", \"type\": \"AdaptiveTicker\"}, {\"attributes\": {\"num_minor_ticks\": 5}, \"id\": \"e93b8346-d1a1-4f61-bfc6-6b794ad88204\", \"type\": \"DatetimeTicker\"}, {\"attributes\": {}, \"id\": \"cb0deb51-8c6d-4586-8e55-8778a932ee5e\", \"type\": \"BasicTickFormatter\"}, {\"attributes\": {\"num_minor_ticks\": 5}, \"id\": \"3a8ae1db-1471-4f1a-afee-182975d6251f\", \"type\": \"DatetimeTicker\"}, {\"attributes\": {\"callback\": null}, \"id\": \"8ac55e5d-a87b-4082-98ad-1b1c6452bdf0\", \"type\": \"DataRange1d\"}, {\"attributes\": {\"callback\": null}, \"id\": \"793fe3a5-8175-496c-aeb7-b8a777ca580b\", \"type\": \"DataRange1d\"}, {\"attributes\": {\"line_width\": {\"value\": 2}, \"x\": {\"field\": \"x\"}, \"line_color\": {\"value\": \"green\"}, \"y\": {\"field\": \"y\"}}, \"id\": \"395a5ffc-0650-448a-99e9-dc0a3065b375\", \"type\": \"Line\"}, {\"attributes\": {\"column_names\": [\"x\", \"y\"], \"data\": {\"x\": [1312156800000.0, 1314835200000.0, 1317427200000.0, 1320105600000.0, 1322697600000.0, 1325376000000.0, 1328054400000.0, 1330560000000.0, 1333238400000.0, 1335830400000.0, 1338508800000.0, 1341100800000.0, 1343779200000.0, 1346457600000.0, 1349049600000.0, 1351728000000.0, 1354320000000.0, 1356998400000.0, 1359676800000.0, 1362096000000.0, 1364774400000.0, 1367366400000.0, 1370044800000.0, 1372636800000.0, 1375315200000.0, 1377993600000.0, 1380585600000.0, 1383264000000.0, 1385856000000.0, 1388534400000.0, 1391212800000.0, 1393632000000.0, 1396310400000.0, 1398902400000.0, 1401580800000.0, 1404172800000.0, 1406851200000.0, 1409529600000.0, 1412121600000.0, 1414800000000.0, 1417392000000.0, 1420070400000.0, 1422748800000.0, 1425168000000.0, 1427846400000.0, 1430438400000.0, 1433116800000.0, 1435708800000.0, 1438387200000.0, 1441065600000.0, 1443657600000.0, 1446336000000.0, 1448928000000.0, 1451606400000.0, 1454284800000.0], \"y\": [9, 4, 4, 9, 5, 5, 7, 5, 5, 10, 2, 3, 3, 5, 9, 8, 2, 11, 5, 5, 6, 11, 8, 14, 7, 6, 5, 6, 6, 9, 5, 9, 3, 10, 4, 7, 2, 16, 8, 5, 6, 8, 6, 6, 10, 24, 11, 7, 10, 7, 12, 7, 4, 12, 5]}, \"callback\": null}, \"id\": \"63b8e20b-fe5f-41a8-9867-c6a3cc5cf246\", \"type\": \"ColumnDataSource\"}, {\"attributes\": {\"plot\": {\"subtype\": \"Figure\", \"id\": \"48023c29-b7dc-47db-bdb5-b64ba4deea68\", \"type\": \"Plot\"}}, \"id\": \"8f713a1b-490f-4fc2-abfd-d5ab22f922c7\", \"type\": \"HelpTool\"}, {\"attributes\": {\"callback\": null}, \"id\": \"4ef8e2f4-0928-4ba7-afba-1d3d28d4178d\", \"type\": \"DataRange1d\"}, {\"attributes\": {\"tools\": [{\"id\": \"78fd3e8e-ae89-49b8-89fa-f71a40ea3503\", \"type\": \"PanTool\"}, {\"id\": \"a8183408-df4d-450b-a1dd-dc7abc6de313\", \"type\": \"WheelZoomTool\"}, {\"id\": \"d1960bab-9c5a-4172-8507-870bbbabf7a6\", \"type\": \"BoxZoomTool\"}, {\"id\": \"4cedf04c-d331-4ea2-91e0-4f8c3cb92d4e\", \"type\": \"PreviewSaveTool\"}, {\"id\": \"2504bd6c-037d-4dc6-9338-73fa27704c62\", \"type\": \"ResizeTool\"}, {\"id\": \"ab56a68b-08c4-41d7-83cf-efff66c31b1d\", \"type\": \"ResetTool\"}, {\"id\": \"a260e074-3629-4ccd-b870-3c11e8a74968\", \"type\": \"HelpTool\"}], \"left\": [{\"id\": \"95fdb742-7c5b-4db3-a95e-d126f00a5c40\", \"type\": \"LinearAxis\"}], \"renderers\": [{\"id\": \"e7ce5479-d307-406d-b42c-8a4c0d1fa05f\", \"type\": \"DatetimeAxis\"}, {\"id\": \"81e5263f-1813-4bdf-ae1c-e2d17afd3f19\", \"type\": \"Grid\"}, {\"id\": \"95fdb742-7c5b-4db3-a95e-d126f00a5c40\", \"type\": \"LinearAxis\"}, {\"id\": \"539f88fc-0a6c-4aa9-ab11-84240cccdf85\", \"type\": \"Grid\"}, {\"id\": \"23edbffd-17d9-482a-afb3-21cfc8d4f8b6\", \"type\": \"BoxAnnotation\"}, {\"id\": \"597a7ca1-c49a-4a60-8281-9f76423ea0a5\", \"type\": \"GlyphRenderer\"}, {\"id\": \"8da3b50c-edad-4be0-a43c-95063f67e1ca\", \"type\": \"GlyphRenderer\"}, {\"id\": \"11e7a4d3-1211-4c1f-a68d-7ca410468183\", \"type\": \"GlyphRenderer\"}], \"below\": [{\"id\": \"e7ce5479-d307-406d-b42c-8a4c0d1fa05f\", \"type\": \"DatetimeAxis\"}], \"title_text_font_size\": {\"value\": \"18px\"}, \"y_range\": {\"id\": \"c329f425-6819-4e85-9c0e-1e4f9a2de198\", \"type\": \"DataRange1d\"}, \"plot_height\": 500, \"x_range\": {\"id\": \"1cedb118-ebc5-4aca-8e52-bc13a9b8eb54\", \"type\": \"DataRange1d\"}, \"tool_events\": {\"id\": \"b2ef9863-0ec3-4d5f-bcf2-a73b02e710e2\", \"type\": \"ToolEvents\"}, \"title\": \"Turnover at the Wikimedia Foundation\", \"plot_width\": 960}, \"id\": \"aa7976d0-9b17-4cfd-a254-37c067eaac3e\", \"type\": \"Plot\", \"subtype\": \"Figure\"}, {\"attributes\": {\"column_names\": [\"x\", \"y\"], \"data\": {\"x\": [1401580800000.0, 1401580800000.0], \"y\": [0, 30]}, \"callback\": null}, \"id\": \"7ff8961c-1eca-4998-b415-d004f2d40436\", \"type\": \"ColumnDataSource\"}, {\"attributes\": {\"days\": [1, 4, 7, 10, 13, 16, 19, 22, 25, 28]}, \"id\": \"686462fc-d2ed-4f0c-9f01-9d8d1572a4e0\", \"type\": \"DaysTicker\"}, {\"attributes\": {\"plot\": {\"subtype\": \"Figure\", \"id\": \"98d7fc6e-1ac5-4bb9-8585-c2860b3344f4\", \"type\": \"Plot\"}}, \"id\": \"0a82e540-851e-401f-8db7-24748b607a2e\", \"type\": \"PanTool\"}, {\"attributes\": {\"line_width\": {\"value\": 2}, \"x\": {\"field\": \"x\"}, \"line_color\": {\"value\": \"red\"}, \"y\": {\"field\": \"y\"}}, \"id\": \"6fcc3ff1-3233-461e-af0b-8277037f97b2\", \"type\": \"Line\"}, {\"attributes\": {}, \"id\": \"8323fbba-78ac-4a38-9ac0-caa9d21b8265\", \"type\": \"YearsTicker\"}, {\"attributes\": {\"column_names\": [\"x\", \"y\"], \"data\": {\"x\": [1401580800000.0, 1401580800000.0], \"y\": [-1, 30]}, \"callback\": null}, \"id\": \"aeea0d13-51d4-4995-a2c4-f6b486bfe92d\", \"type\": \"ColumnDataSource\"}, {\"attributes\": {}, \"id\": \"72811283-519b-4ae8-845b-18c3795c1660\", \"type\": \"YearsTicker\"}, {\"attributes\": {}, \"id\": \"e2a93761-5477-48de-b400-fc63fcb945af\", \"type\": \"DatetimeTickFormatter\"}, {\"attributes\": {\"y\": {\"field\": \"y\"}, \"x\": {\"field\": \"x\"}, \"line_color\": {\"value\": \"#1f77b4\"}, \"line_alpha\": {\"value\": 0.1}}, \"id\": \"903728d0-2038-43b7-a79a-842c9901cb78\", \"type\": \"Line\"}, {\"attributes\": {}, \"id\": \"23511423-a985-48ba-9c49-2d2557755815\", \"type\": \"ToolEvents\"}, {\"attributes\": {\"line_width\": {\"value\": 2}, \"x\": {\"field\": \"x\"}, \"y\": {\"field\": \"y\"}}, \"id\": \"f7953eed-9051-4d3c-b733-495af5c06690\", \"type\": \"Line\"}, {\"attributes\": {}, \"id\": \"cecb2459-8caa-4069-bd33-42f3fd2eb856\", \"type\": \"BasicTicker\"}, {\"attributes\": {\"tools\": [{\"id\": \"c49f73d1-7025-471a-975b-b46356601008\", \"type\": \"PanTool\"}, {\"id\": \"84743596-4b5f-4a68-ac3e-3047b430a175\", \"type\": \"WheelZoomTool\"}, {\"id\": \"3345136e-5a76-4bf9-8fb6-926ed4f9c2e5\", \"type\": \"BoxZoomTool\"}, {\"id\": \"21a3ec1d-afe8-4b9b-97b8-a1cf8932200f\", \"type\": \"PreviewSaveTool\"}, {\"id\": \"3383a3d2-8139-469f-b5db-375c615c7527\", \"type\": \"ResizeTool\"}, {\"id\": \"ff2738fc-de04-495d-9645-3c7d6b60417a\", \"type\": \"ResetTool\"}, {\"id\": \"35561ea6-497b-4be9-a4f5-8f9eb9396caf\", \"type\": \"HelpTool\"}], \"left\": [{\"id\": \"024b0410-77d1-40a6-b38f-d2585ea703eb\", \"type\": \"LinearAxis\"}], \"renderers\": [{\"id\": \"1c626981-d50e-4e8d-9674-dcaabee1d25b\", \"type\": \"DatetimeAxis\"}, {\"id\": \"9967af96-8589-4249-bfc2-60c3b728a917\", \"type\": \"Grid\"}, {\"id\": \"024b0410-77d1-40a6-b38f-d2585ea703eb\", \"type\": \"LinearAxis\"}, {\"id\": \"0359973b-4a09-40b8-918c-77f2b5b4b72c\", \"type\": \"Grid\"}, {\"id\": \"a27abb44-6b57-4d24-81bf-a12b5c80e2ea\", \"type\": \"BoxAnnotation\"}, {\"id\": \"8378b8a4-ddc8-42d8-97cd-0f61edb9cfc1\", \"type\": \"GlyphRenderer\"}, {\"id\": \"60559db3-37ef-4550-92a9-9964f41aaedd\", \"type\": \"GlyphRenderer\"}, {\"id\": \"4d6295b8-b948-4a65-9052-50ce79cb9043\", \"type\": \"GlyphRenderer\"}], \"below\": [{\"id\": \"1c626981-d50e-4e8d-9674-dcaabee1d25b\", \"type\": \"DatetimeAxis\"}], \"title_text_font_size\": {\"value\": \"18px\"}, \"y_range\": {\"id\": \"6600711d-34ab-4319-bf07-0bc4628a072d\", \"type\": \"DataRange1d\"}, \"plot_height\": 500, \"x_range\": {\"id\": \"4fb7d50e-7e3a-4b3b-a248-ba283a09a0f2\", \"type\": \"DataRange1d\"}, \"tool_events\": {\"id\": \"2e486fff-a4b2-4cd8-bb61-2ad214977e97\", \"type\": \"ToolEvents\"}, \"title\": \"Turnover at the Wikimedia Foundation\", \"plot_width\": 960}, \"id\": \"bc546e03-be07-461a-a028-82c1bd967748\", \"type\": \"Plot\", \"subtype\": \"Figure\"}, {\"attributes\": {\"plot\": {\"subtype\": \"Figure\", \"id\": \"76e6af38-8d77-4ed2-8c6e-caef0e88cb7c\", \"type\": \"Plot\"}}, \"id\": \"53306ce1-b277-4125-a6bc-87b110eadb54\", \"type\": \"ResetTool\"}, {\"attributes\": {\"column_names\": [\"x\", \"y\"], \"data\": {\"x\": [1312156800000.0, 1314835200000.0, 1317427200000.0, 1320105600000.0, 1322697600000.0, 1325376000000.0, 1328054400000.0, 1330560000000.0, 1333238400000.0, 1335830400000.0, 1338508800000.0, 1341100800000.0, 1343779200000.0, 1346457600000.0, 1349049600000.0, 1351728000000.0, 1354320000000.0, 1356998400000.0, 1359676800000.0, 1362096000000.0, 1364774400000.0, 1367366400000.0, 1370044800000.0, 1372636800000.0, 1375315200000.0, 1377993600000.0, 1380585600000.0, 1383264000000.0, 1385856000000.0, 1388534400000.0, 1391212800000.0, 1393632000000.0, 1396310400000.0, 1398902400000.0, 1401580800000.0, 1404172800000.0, 1406851200000.0, 1409529600000.0, 1412121600000.0, 1414800000000.0, 1417392000000.0, 1420070400000.0, 1422748800000.0, 1425168000000.0, 1427846400000.0, 1430438400000.0, 1433116800000.0, 1435708800000.0, 1438387200000.0, 1441065600000.0, 1443657600000.0, 1446336000000.0, 1448928000000.0, 1451606400000.0, 1454284800000.0], \"y\": [9, 4, 4, 9, 5, 5, 7, 5, 5, 10, 2, 3, 3, 5, 9, 8, 2, 11, 5, 5, 6, 11, 8, 14, 7, 6, 5, 6, 6, 9, 5, 9, 3, 10, 4, 7, 2, 16, 8, 5, 6, 8, 6, 6, 10, 24, 11, 7, 10, 7, 12, 7, 4, 12, 5]}, \"callback\": null}, \"id\": \"40278c74-c481-4c5e-a083-fa52ac10ea52\", \"type\": \"ColumnDataSource\"}, {\"attributes\": {\"plot\": {\"subtype\": \"Figure\", \"id\": \"76e6af38-8d77-4ed2-8c6e-caef0e88cb7c\", \"type\": \"Plot\"}}, \"id\": \"485d66bc-1f24-4032-9663-a9ba0e02b962\", \"type\": \"ResizeTool\"}, {\"attributes\": {\"mantissas\": [1, 2, 4, 6, 8, 12], \"num_minor_ticks\": 0, \"max_interval\": 43200000.0, \"base\": 24, \"min_interval\": 3600000.0}, \"id\": \"5a2a3dab-9168-43d1-875b-4b85b2efa5ef\", \"type\": \"AdaptiveTicker\"}, {\"attributes\": {\"months\": [0, 6]}, \"id\": \"967c95e6-8b7c-46d9-bde5-be7937e506e1\", \"type\": \"MonthsTicker\"}, {\"attributes\": {\"plot\": {\"subtype\": \"Figure\", \"id\": \"09d19a11-1e7d-4211-8f35-78368603c093\", \"type\": \"Plot\"}}, \"id\": \"23f540ce-6820-45ae-a0e6-cd535265ba2b\", \"type\": \"ResetTool\"}, {\"attributes\": {}, \"id\": \"6b92fa48-32e4-43f0-af4a-8ebd31d4d2ca\", \"type\": \"DatetimeTickFormatter\"}, {\"attributes\": {\"plot\": {\"subtype\": \"Figure\", \"id\": \"09d19a11-1e7d-4211-8f35-78368603c093\", \"type\": \"Plot\"}}, \"id\": \"fa1a5cef-6f47-4163-a0fa-e9f97d93e919\", \"type\": \"WheelZoomTool\"}, {\"attributes\": {\"plot\": {\"subtype\": \"Figure\", \"id\": \"4a4cfd0f-2de9-4cc0-8a95-425aa8f22a24\", \"type\": \"Plot\"}}, \"id\": \"339dbf2c-a7bb-432c-b436-f31f77f323f5\", \"type\": \"ResetTool\"}, {\"attributes\": {\"days\": [1, 4, 7, 10, 13, 16, 19, 22, 25, 28]}, \"id\": \"6119db61-a6a1-4c22-bc8c-69c8f1fcc02c\", \"type\": \"DaysTicker\"}, {\"attributes\": {\"mantissas\": [1, 2, 5, 10, 15, 20, 30], \"num_minor_ticks\": 0, \"max_interval\": 1800000.0, \"base\": 60, \"min_interval\": 1000.0}, \"id\": \"30ec28af-6409-4181-a219-0127e236378b\", \"type\": \"AdaptiveTicker\"}, {\"attributes\": {\"plot\": {\"subtype\": \"Figure\", \"id\": \"835e1e91-b208-4e2b-bd1a-961d2e813e08\", \"type\": \"Plot\"}, \"ticker\": {\"id\": \"d82995c2-7cf2-4344-ac5b-183499fc28bf\", \"type\": \"BasicTicker\"}, \"formatter\": {\"id\": \"b3e32a12-fc8c-4558-b8e1-e7ba85d2397b\", \"type\": \"BasicTickFormatter\"}}, \"id\": \"db42892b-6cee-4a27-915d-0d675e713523\", \"type\": \"LinearAxis\"}, {\"attributes\": {}, \"id\": \"d7442776-da6a-4b05-8994-1f097632f8ae\", \"type\": \"BasicTickFormatter\"}, {\"attributes\": {}, \"id\": \"66c25987-92fa-4917-be34-a279c04270b7\", \"type\": \"BasicTicker\"}, {\"attributes\": {\"callback\": null}, \"id\": \"1f9380e3-9bc7-47c4-ba83-9eb49c1f8c44\", \"type\": \"DataRange1d\"}, {\"attributes\": {\"mantissas\": [1, 2, 4, 6, 8, 12], \"num_minor_ticks\": 0, \"max_interval\": 43200000.0, \"base\": 24, \"min_interval\": 3600000.0}, \"id\": \"eb294705-c2b7-41a8-b6fd-42915a436686\", \"type\": \"AdaptiveTicker\"}, {\"attributes\": {\"plot\": {\"subtype\": \"Figure\", \"id\": \"52bb46b3-d49a-40bb-8cfe-b2d8bdd5390c\", \"type\": \"Plot\"}}, \"id\": \"244caeb0-5a4c-4bfd-868c-480f740ee6c7\", \"type\": \"ResizeTool\"}, {\"attributes\": {\"plot\": {\"subtype\": \"Figure\", \"id\": \"4a4cfd0f-2de9-4cc0-8a95-425aa8f22a24\", \"type\": \"Plot\"}}, \"id\": \"22c4d08f-b7ec-4c42-ab5c-c018390a7eb0\", \"type\": \"ResizeTool\"}, {\"attributes\": {\"plot\": {\"subtype\": \"Figure\", \"id\": \"98d7fc6e-1ac5-4bb9-8585-c2860b3344f4\", \"type\": \"Plot\"}}, \"id\": \"1f46ff51-ac2a-41e7-a075-43f178d304fa\", \"type\": \"ResetTool\"}, {\"attributes\": {\"data_source\": {\"id\": \"21eb34c4-4452-4ab5-88a0-bf11b5d0ee70\", \"type\": \"ColumnDataSource\"}, \"nonselection_glyph\": {\"id\": \"b1cc1fd7-146c-4750-b4bc-7be2220b8966\", \"type\": \"Line\"}, \"selection_glyph\": null, \"hover_glyph\": null, \"glyph\": {\"id\": \"08c42ac5-2ff4-459f-bd70-9d47e7a39b1f\", \"type\": \"Line\"}}, \"id\": \"19ce9541-501b-4da3-8124-e9ae5c735b3d\", \"type\": \"GlyphRenderer\"}, {\"attributes\": {\"column_names\": [\"x\", \"y\"], \"data\": {\"x\": [1433116800000.0, 1433116800000.0], \"y\": [0, 30]}, \"callback\": null}, \"id\": \"a0d43339-7c78-4ec0-bd4b-311012bc5d40\", \"type\": \"ColumnDataSource\"}, {\"attributes\": {}, \"id\": \"a3e4d977-d28e-4cca-a3af-b2ac5a86d63b\", \"type\": \"BasicTickFormatter\"}, {\"attributes\": {\"line_width\": {\"value\": 2}, \"y\": {\"field\": \"y\"}, \"x\": {\"field\": \"x\"}, \"line_color\": {\"value\": \"#1f77b4\"}, \"line_alpha\": {\"value\": 0.1}}, \"id\": \"4efabb18-00fb-48cd-a41a-d9c6a81e4bdb\", \"type\": \"Line\"}, {\"attributes\": {\"days\": [1, 2, 3, 4, 5, 6, 7, 8, 9, 10, 11, 12, 13, 14, 15, 16, 17, 18, 19, 20, 21, 22, 23, 24, 25, 26, 27, 28, 29, 30, 31]}, \"id\": \"28c9fa1d-0d35-42d2-a5c9-0da0686b0e87\", \"type\": \"DaysTicker\"}, {\"attributes\": {}, \"id\": \"d4eaab7d-ba32-49f4-9869-c14d6faaab9f\", \"type\": \"DatetimeTickFormatter\"}, {\"attributes\": {\"line_width\": {\"value\": 2}, \"y\": {\"field\": \"y\"}, \"x\": {\"field\": \"x\"}, \"line_color\": {\"value\": \"#1f77b4\"}, \"line_alpha\": {\"value\": 0.1}}, \"id\": \"4d33074d-460b-45fc-a890-784b47ba7708\", \"type\": \"Line\"}, {\"attributes\": {\"line_width\": {\"value\": 2}, \"y\": {\"field\": \"y\"}, \"x\": {\"field\": \"x\"}, \"line_color\": {\"value\": \"#1f77b4\"}, \"line_alpha\": {\"value\": 0.1}}, \"id\": \"7c90f354-e105-4dd1-8f94-1934ef5e7c8b\", \"type\": \"Line\"}, {\"attributes\": {\"plot\": {\"subtype\": \"Figure\", \"id\": \"52bb46b3-d49a-40bb-8cfe-b2d8bdd5390c\", \"type\": \"Plot\"}}, \"id\": \"921e8bcd-3959-4bd9-b65c-fcf6d01f2cfe\", \"type\": \"WheelZoomTool\"}, {\"attributes\": {\"column_names\": [\"x\", \"y\"], \"data\": {\"x\": [1312156800000.0, 1314835200000.0, 1317427200000.0, 1320105600000.0, 1322697600000.0, 1325376000000.0, 1328054400000.0, 1330560000000.0, 1333238400000.0, 1335830400000.0, 1338508800000.0, 1341100800000.0, 1343779200000.0, 1346457600000.0, 1349049600000.0, 1351728000000.0, 1354320000000.0, 1356998400000.0, 1359676800000.0, 1362096000000.0, 1364774400000.0, 1367366400000.0, 1370044800000.0, 1372636800000.0, 1375315200000.0, 1377993600000.0, 1380585600000.0, 1383264000000.0, 1385856000000.0, 1388534400000.0, 1391212800000.0, 1393632000000.0, 1396310400000.0, 1398902400000.0, 1401580800000.0, 1404172800000.0, 1406851200000.0, 1409529600000.0, 1412121600000.0, 1414800000000.0, 1417392000000.0, 1420070400000.0, 1422748800000.0, 1425168000000.0, 1427846400000.0, 1430438400000.0, 1433116800000.0, 1435708800000.0, 1438387200000.0, 1441065600000.0, 1443657600000.0, 1446336000000.0, 1448928000000.0, 1451606400000.0, 1454284800000.0], \"y\": [9, 4, 4, 9, 5, 5, 7, 5, 5, 10, 2, 3, 3, 5, 9, 8, 2, 11, 5, 5, 6, 11, 8, 14, 7, 6, 5, 6, 6, 9, 5, 9, 3, 10, 4, 7, 2, 16, 8, 5, 6, 8, 6, 6, 10, 24, 11, 7, 10, 7, 12, 7, 4, 12, 5]}, \"callback\": null}, \"id\": \"60828823-decd-439c-9e0f-e5da23fbf47f\", \"type\": \"ColumnDataSource\"}, {\"attributes\": {\"days\": [1, 4, 7, 10, 13, 16, 19, 22, 25, 28]}, \"id\": \"398f6e0e-51c6-4530-94da-25820ca695c4\", \"type\": \"DaysTicker\"}, {\"attributes\": {\"mantissas\": [1, 2, 5, 10, 15, 20, 30], \"num_minor_ticks\": 0, \"max_interval\": 1800000.0, \"base\": 60, \"min_interval\": 1000.0}, \"id\": \"338e7082-09ad-476d-b6db-49ea3f419179\", \"type\": \"AdaptiveTicker\"}, {\"attributes\": {\"dimension\": 1, \"ticker\": {\"id\": \"e2d331e5-d25e-4500-bd21-d9736c8a436a\", \"type\": \"BasicTicker\"}, \"plot\": {\"subtype\": \"Figure\", \"id\": \"4a4cfd0f-2de9-4cc0-8a95-425aa8f22a24\", \"type\": \"Plot\"}}, \"id\": \"b06228a9-2291-4862-88a5-d5792d88b5c7\", \"type\": \"Grid\"}, {\"attributes\": {\"days\": [1, 2, 3, 4, 5, 6, 7, 8, 9, 10, 11, 12, 13, 14, 15, 16, 17, 18, 19, 20, 21, 22, 23, 24, 25, 26, 27, 28, 29, 30, 31]}, \"id\": \"473e986e-3ad7-4945-83b6-5ec76f893b19\", \"type\": \"DaysTicker\"}, {\"attributes\": {\"dimension\": 1, \"ticker\": {\"id\": \"0895ff29-25b5-4215-a325-1056a3fbd8b9\", \"type\": \"BasicTicker\"}, \"plot\": {\"subtype\": \"Figure\", \"id\": \"52bb46b3-d49a-40bb-8cfe-b2d8bdd5390c\", \"type\": \"Plot\"}}, \"id\": \"4ef46106-12d3-4a15-8eac-613194051700\", \"type\": \"Grid\"}, {\"attributes\": {\"line_width\": {\"value\": 2}, \"y\": {\"field\": \"y\"}, \"x\": {\"field\": \"x\"}, \"line_color\": {\"value\": \"#1f77b4\"}, \"line_alpha\": {\"value\": 0.1}}, \"id\": \"d8dacacd-84fe-453d-a4a2-034e660fc8f2\", \"type\": \"Line\"}, {\"attributes\": {\"column_names\": [\"x\", \"y\"], \"data\": {\"x\": [1312156800000.0, 1314835200000.0, 1317427200000.0, 1320105600000.0, 1322697600000.0, 1325376000000.0, 1328054400000.0, 1330560000000.0, 1333238400000.0, 1335830400000.0, 1338508800000.0, 1341100800000.0, 1343779200000.0, 1346457600000.0, 1349049600000.0, 1351728000000.0, 1354320000000.0, 1356998400000.0, 1359676800000.0, 1362096000000.0, 1364774400000.0, 1367366400000.0, 1370044800000.0, 1372636800000.0, 1375315200000.0, 1377993600000.0, 1380585600000.0, 1383264000000.0, 1385856000000.0, 1388534400000.0, 1391212800000.0, 1393632000000.0, 1396310400000.0, 1398902400000.0, 1401580800000.0, 1404172800000.0, 1406851200000.0, 1409529600000.0, 1412121600000.0, 1414800000000.0, 1417392000000.0, 1420070400000.0, 1422748800000.0, 1425168000000.0, 1427846400000.0, 1430438400000.0, 1433116800000.0, 1435708800000.0, 1438387200000.0, 1441065600000.0, 1443657600000.0, 1446336000000.0, 1448928000000.0, 1451606400000.0, 1454284800000.0], \"y\": [0.0, 0.0, 0.0, 0.0, 0.0, 1.0, 0.0, 0.0, 1.0, 2.0, 0.0, 11.0, 4.0, 1.0, 1.0, 1.0, 3.0, 11.0, 2.0, 6.0, 7.0, 3.0, 4.0, 4.0, 3.0, 1.0, 2.0, 1.0, 2.0, 6.0, 2.0, 5.0, 3.0, 5.0, 1.0, 0.0, 6.0, 3.0, 5.0, 0.0, 1.0, 0.0, 3.0, 5.0, 0.0, 0.0, 2.0, 0.0, 37.0, 16.0, 5.0, 1.0, 4.0, 2.0, 10.0]}, \"callback\": null}, \"id\": \"d63ecfd7-6dd3-4efe-ae76-abe08f47c75f\", \"type\": \"ColumnDataSource\"}, {\"attributes\": {\"days\": [1, 2, 3, 4, 5, 6, 7, 8, 9, 10, 11, 12, 13, 14, 15, 16, 17, 18, 19, 20, 21, 22, 23, 24, 25, 26, 27, 28, 29, 30, 31]}, \"id\": \"a420d49c-d767-4181-86e7-cdba3c1bfc3f\", \"type\": \"DaysTicker\"}, {\"attributes\": {\"days\": [1, 4, 7, 10, 13, 16, 19, 22, 25, 28]}, \"id\": \"fff4db40-54cd-46d7-83b9-863a5f56b086\", \"type\": \"DaysTicker\"}, {\"attributes\": {\"line_width\": {\"value\": 2}, \"x\": {\"field\": \"x\"}, \"y\": {\"field\": \"y\"}}, \"id\": \"0c1c496d-b3de-4948-b0bf-c19246cbdf96\", \"type\": \"Line\"}, {\"attributes\": {\"months\": [0, 1, 2, 3, 4, 5, 6, 7, 8, 9, 10, 11]}, \"id\": \"9130da9d-860e-4a47-a621-9b154f5b447c\", \"type\": \"MonthsTicker\"}, {\"attributes\": {\"num_minor_ticks\": 5}, \"id\": \"79f7d7d7-d599-4e95-ba18-9d0dd08e9401\", \"type\": \"DatetimeTicker\"}, {\"attributes\": {\"plot\": {\"subtype\": \"Figure\", \"id\": \"aa7976d0-9b17-4cfd-a254-37c067eaac3e\", \"type\": \"Plot\"}}, \"id\": \"a260e074-3629-4ccd-b870-3c11e8a74968\", \"type\": \"HelpTool\"}, {\"attributes\": {\"days\": [1, 8, 15, 22]}, \"id\": \"fdeccdee-60d5-4a38-89d0-48b5eb1fcf9f\", \"type\": \"DaysTicker\"}, {\"attributes\": {\"plot\": {\"subtype\": \"Figure\", \"id\": \"5b82dd80-671f-471f-a515-aaafd61644c6\", \"type\": \"Plot\"}, \"ticker\": {\"id\": \"1c1a9124-08a3-4d65-87c3-9ed7a1d34099\", \"type\": \"DatetimeTicker\"}, \"formatter\": {\"id\": \"d257d442-15c7-42f7-ac6c-8cc6f91a9ef0\", \"type\": \"DatetimeTickFormatter\"}}, \"id\": \"9f2135e1-25e9-49fe-8e0f-5e6245311cc9\", \"type\": \"DatetimeAxis\"}, {\"attributes\": {\"tools\": [{\"id\": \"f62f04f7-e4dd-4712-85b4-263661bde259\", \"type\": \"PanTool\"}, {\"id\": \"0df20312-0d31-4b74-ab09-3463eab9eacc\", \"type\": \"WheelZoomTool\"}, {\"id\": \"016d4864-9c9d-4081-b0c0-8e2060db69bc\", \"type\": \"BoxZoomTool\"}, {\"id\": \"c1490548-ae93-468d-96d6-0c28364be6a2\", \"type\": \"PreviewSaveTool\"}, {\"id\": \"dff49faf-6962-4b6e-b393-92f339f7ee62\", \"type\": \"ResizeTool\"}, {\"id\": \"6dd0a54b-5765-4720-9511-07d4c5b2a15d\", \"type\": \"ResetTool\"}, {\"id\": \"3e32412a-92ca-43a7-8287-665154c54a03\", \"type\": \"HelpTool\"}], \"left\": [{\"id\": \"db42892b-6cee-4a27-915d-0d675e713523\", \"type\": \"LinearAxis\"}], \"renderers\": [{\"id\": \"e6b19291-b408-4d92-a322-446165677b11\", \"type\": \"DatetimeAxis\"}, {\"id\": \"b238c89b-b027-4e3d-adfa-c9eb73d0f193\", \"type\": \"Grid\"}, {\"id\": \"db42892b-6cee-4a27-915d-0d675e713523\", \"type\": \"LinearAxis\"}, {\"id\": \"74661263-2783-471e-a780-e0939483b6f1\", \"type\": \"Grid\"}, {\"id\": \"4fcf1c6d-1034-4641-995a-f586bbe49b50\", \"type\": \"BoxAnnotation\"}, {\"id\": \"9565a47b-f914-4c50-b774-018c3aa57436\", \"type\": \"GlyphRenderer\"}, {\"id\": \"4348aa86-a884-43c7-951c-d7bec9ae3a18\", \"type\": \"GlyphRenderer\"}, {\"id\": \"663764b3-96df-48f7-939c-7dc901c34e57\", \"type\": \"GlyphRenderer\"}], \"below\": [{\"id\": \"e6b19291-b408-4d92-a322-446165677b11\", \"type\": \"DatetimeAxis\"}], \"title_text_font_size\": {\"value\": \"18px\"}, \"y_range\": {\"id\": \"19037bd2-1e41-47f7-9d8e-d78a6f7b3996\", \"type\": \"DataRange1d\"}, \"plot_height\": 500, \"x_range\": {\"id\": \"3fea6f87-cca6-4693-9b36-70d63893842c\", \"type\": \"DataRange1d\"}, \"tool_events\": {\"id\": \"938681e5-c703-4ef6-8d83-a455d255625b\", \"type\": \"ToolEvents\"}, \"title\": \"Turnover at the Wikimedia Foundation\", \"plot_width\": 960}, \"id\": \"835e1e91-b208-4e2b-bd1a-961d2e813e08\", \"type\": \"Plot\", \"subtype\": \"Figure\"}, {\"attributes\": {\"num_minor_ticks\": 0, \"max_interval\": 500.0}, \"id\": \"adebab48-a3b6-4a47-8a8f-b726e425f1cf\", \"type\": \"AdaptiveTicker\"}, {\"attributes\": {}, \"id\": \"4cad5d12-b344-43bf-b9b1-3e02b24375cc\", \"type\": \"BasicTicker\"}, {\"attributes\": {}, \"id\": \"281d580c-5483-4bf3-bd3c-b1e66ad6d5a6\", \"type\": \"DatetimeTickFormatter\"}, {\"attributes\": {\"plot\": {\"subtype\": \"Figure\", \"id\": \"52bb46b3-d49a-40bb-8cfe-b2d8bdd5390c\", \"type\": \"Plot\"}}, \"id\": \"0f68360b-cc16-4d26-8c15-0f1def106965\", \"type\": \"PreviewSaveTool\"}, {\"attributes\": {\"plot\": {\"subtype\": \"Figure\", \"id\": \"bc546e03-be07-461a-a028-82c1bd967748\", \"type\": \"Plot\"}}, \"id\": \"35561ea6-497b-4be9-a4f5-8f9eb9396caf\", \"type\": \"HelpTool\"}, {\"attributes\": {\"dimension\": 1, \"ticker\": {\"id\": \"cecb2459-8caa-4069-bd33-42f3fd2eb856\", \"type\": \"BasicTicker\"}, \"plot\": {\"subtype\": \"Figure\", \"id\": \"bc546e03-be07-461a-a028-82c1bd967748\", \"type\": \"Plot\"}}, \"id\": \"0359973b-4a09-40b8-918c-77f2b5b4b72c\", \"type\": \"Grid\"}, {\"attributes\": {}, \"id\": \"e9d2f414-c62f-4b3c-90bd-c6d0f10721ff\", \"type\": \"BasicTickFormatter\"}, {\"attributes\": {\"column_names\": [\"x\", \"y\"], \"data\": {\"x\": [1312156800000.0, 1314835200000.0, 1317427200000.0, 1320105600000.0, 1322697600000.0, 1325376000000.0, 1328054400000.0, 1330560000000.0, 1333238400000.0, 1335830400000.0, 1338508800000.0, 1341100800000.0, 1343779200000.0, 1346457600000.0, 1349049600000.0, 1351728000000.0, 1354320000000.0, 1356998400000.0, 1359676800000.0, 1362096000000.0, 1364774400000.0, 1367366400000.0, 1370044800000.0, 1372636800000.0, 1375315200000.0, 1377993600000.0, 1380585600000.0, 1383264000000.0, 1385856000000.0, 1388534400000.0, 1391212800000.0, 1393632000000.0, 1396310400000.0, 1398902400000.0, 1401580800000.0, 1404172800000.0, 1406851200000.0, 1409529600000.0, 1412121600000.0, 1414800000000.0, 1417392000000.0, 1420070400000.0, 1422748800000.0, 1425168000000.0, 1427846400000.0, 1430438400000.0, 1433116800000.0, 1435708800000.0, 1438387200000.0, 1441065600000.0, 1443657600000.0, 1446336000000.0, 1448928000000.0, 1451606400000.0, 1454284800000.0], \"y\": [0.0, 0.0, 0.0, 0.0, 0.0, 1.0, 0.0, 0.0, 1.0, 2.0, 0.0, 11.0, 4.0, 1.0, 1.0, 1.0, 3.0, 11.0, 2.0, 6.0, 7.0, 3.0, 4.0, 4.0, 3.0, 1.0, 2.0, 1.0, 2.0, 6.0, 2.0, 5.0, 3.0, 5.0, 1.0, 0.0, 6.0, 3.0, 5.0, 0.0, 1.0, 0.0, 3.0, 5.0, 0.0, 0.0, 2.0, 0.0, 37.0, 16.0, 5.0, 1.0, 4.0, 2.0, 10.0]}, \"callback\": null}, \"id\": \"a846188d-6ca0-43fd-b36b-8d483223ecce\", \"type\": \"ColumnDataSource\"}, {\"attributes\": {\"months\": [0, 6]}, \"id\": \"1a7ba181-bff0-44c2-bb2d-a6aacb01441b\", \"type\": \"MonthsTicker\"}, {\"attributes\": {\"tools\": [{\"id\": \"cb44f96f-6950-4b4b-afc4-ee08df078e9c\", \"type\": \"PanTool\"}, {\"id\": \"9ae96806-a2d7-411a-b126-25b43dc92d34\", \"type\": \"WheelZoomTool\"}, {\"id\": \"0c1d4224-2b81-4100-ae5a-fe0da7307406\", \"type\": \"BoxZoomTool\"}, {\"id\": \"45dba164-f603-490a-8db0-5bd6d50ae014\", \"type\": \"PreviewSaveTool\"}, {\"id\": \"22c4d08f-b7ec-4c42-ab5c-c018390a7eb0\", \"type\": \"ResizeTool\"}, {\"id\": \"339dbf2c-a7bb-432c-b436-f31f77f323f5\", \"type\": \"ResetTool\"}, {\"id\": \"48e4c9a5-f1a4-4cdf-9893-541b731df368\", \"type\": \"HelpTool\"}], \"left\": [{\"id\": \"01fb8d2b-8592-46f5-a9ca-6428be6de413\", \"type\": \"LinearAxis\"}], \"renderers\": [{\"id\": \"38c24fd5-274d-4435-b481-693b4ecefe55\", \"type\": \"DatetimeAxis\"}, {\"id\": \"4dc89f79-88ae-423e-8db6-986df0ac951c\", \"type\": \"Grid\"}, {\"id\": \"01fb8d2b-8592-46f5-a9ca-6428be6de413\", \"type\": \"LinearAxis\"}, {\"id\": \"b06228a9-2291-4862-88a5-d5792d88b5c7\", \"type\": \"Grid\"}, {\"id\": \"70aa1486-33cb-43fb-ab1f-77036a08f6c7\", \"type\": \"BoxAnnotation\"}, {\"id\": \"86f85f10-246e-4451-9328-9a6711c715df\", \"type\": \"GlyphRenderer\"}, {\"id\": \"57901e3f-1b6a-441e-9061-3d6067161390\", \"type\": \"GlyphRenderer\"}, {\"id\": \"1ac0d8c8-8129-4d95-826c-0f53bd7a9648\", \"type\": \"GlyphRenderer\"}], \"below\": [{\"id\": \"38c24fd5-274d-4435-b481-693b4ecefe55\", \"type\": \"DatetimeAxis\"}], \"title_text_font_size\": {\"value\": \"18px\"}, \"y_range\": {\"id\": \"454d3af4-9884-48d0-8885-d7f0f3d61734\", \"type\": \"DataRange1d\"}, \"plot_height\": 500, \"x_range\": {\"id\": \"4ef8e2f4-0928-4ba7-afba-1d3d28d4178d\", \"type\": \"DataRange1d\"}, \"tool_events\": {\"id\": \"f9847f3d-e460-4bb6-9fa4-48f7d48f6ee0\", \"type\": \"ToolEvents\"}, \"title\": \"Turnover at the Wikimedia Foundation\", \"plot_width\": 960}, \"id\": \"4a4cfd0f-2de9-4cc0-8a95-425aa8f22a24\", \"type\": \"Plot\", \"subtype\": \"Figure\"}, {\"attributes\": {\"data_source\": {\"id\": \"97cdea4d-5c1d-4a55-be66-0037be8b1b7a\", \"type\": \"ColumnDataSource\"}, \"nonselection_glyph\": {\"id\": \"5b29e121-af80-4c20-ac82-7b9d8c08e60c\", \"type\": \"Line\"}, \"selection_glyph\": null, \"hover_glyph\": null, \"glyph\": {\"id\": \"7e27ac08-f2b2-4422-b911-8aa48291b411\", \"type\": \"Line\"}}, \"id\": \"376aafa2-1c78-4f85-bc46-22fea2547171\", \"type\": \"GlyphRenderer\"}, {\"attributes\": {\"callback\": null}, \"id\": \"3d2e7059-83e8-4dbf-8985-dc46c897d8ee\", \"type\": \"DataRange1d\"}, {\"attributes\": {\"level\": \"overlay\", \"render_mode\": \"css\", \"line_dash\": [4, 4], \"plot\": null, \"top_units\": \"screen\", \"line_width\": {\"value\": 2}, \"line_color\": {\"value\": \"black\"}, \"left_units\": \"screen\", \"bottom_units\": \"screen\", \"line_alpha\": {\"value\": 1.0}, \"fill_color\": {\"value\": \"lightgrey\"}, \"fill_alpha\": {\"value\": 0.5}, \"right_units\": \"screen\"}, \"id\": \"078e4a7f-ab1c-4bb6-844f-96815aeffa38\", \"type\": \"BoxAnnotation\"}, {\"attributes\": {\"plot\": {\"subtype\": \"Figure\", \"id\": \"4a4cfd0f-2de9-4cc0-8a95-425aa8f22a24\", \"type\": \"Plot\"}}, \"id\": \"45dba164-f603-490a-8db0-5bd6d50ae014\", \"type\": \"PreviewSaveTool\"}, {\"attributes\": {\"plot\": {\"subtype\": \"Figure\", \"id\": \"76e6af38-8d77-4ed2-8c6e-caef0e88cb7c\", \"type\": \"Plot\"}}, \"id\": \"1e132bbf-65a8-4d3f-ac39-a4d8afb7141b\", \"type\": \"WheelZoomTool\"}, {\"attributes\": {\"months\": [0, 1, 2, 3, 4, 5, 6, 7, 8, 9, 10, 11]}, \"id\": \"1ae983b2-140c-4c9e-a25f-0accc4f87b22\", \"type\": \"MonthsTicker\"}, {\"attributes\": {\"overlay\": {\"id\": \"73928600-e0b3-486f-9179-2a01a23b3a23\", \"type\": \"BoxAnnotation\"}, \"plot\": {\"subtype\": \"Figure\", \"id\": \"09d19a11-1e7d-4211-8f35-78368603c093\", \"type\": \"Plot\"}}, \"id\": \"93a9bd9d-bc08-4b7d-96aa-a642cf3084bf\", \"type\": \"BoxZoomTool\"}, {\"attributes\": {\"column_names\": [\"x\", \"y\"], \"data\": {\"x\": [1312156800000.0, 1314835200000.0, 1317427200000.0, 1320105600000.0, 1322697600000.0, 1325376000000.0, 1328054400000.0, 1330560000000.0, 1333238400000.0, 1335830400000.0, 1338508800000.0, 1341100800000.0, 1343779200000.0, 1346457600000.0, 1349049600000.0, 1351728000000.0, 1354320000000.0, 1356998400000.0, 1359676800000.0, 1362096000000.0, 1364774400000.0, 1367366400000.0, 1370044800000.0, 1372636800000.0, 1375315200000.0, 1377993600000.0, 1380585600000.0, 1383264000000.0, 1385856000000.0, 1388534400000.0, 1391212800000.0, 1393632000000.0, 1396310400000.0, 1398902400000.0, 1401580800000.0, 1404172800000.0, 1406851200000.0, 1409529600000.0, 1412121600000.0, 1414800000000.0, 1417392000000.0, 1420070400000.0, 1422748800000.0, 1425168000000.0, 1427846400000.0, 1430438400000.0, 1433116800000.0, 1435708800000.0, 1438387200000.0, 1441065600000.0, 1443657600000.0, 1446336000000.0, 1448928000000.0, 1451606400000.0, 1454284800000.0], \"y\": [9, 4, 4, 9, 5, 5, 7, 5, 5, 10, 2, 3, 3, 5, 9, 8, 2, 11, 5, 5, 6, 11, 8, 14, 7, 6, 5, 6, 6, 9, 5, 9, 3, 10, 4, 7, 2, 16, 8, 5, 6, 8, 6, 6, 10, 24, 11, 7, 10, 7, 12, 7, 4, 12, 5]}, \"callback\": null}, \"id\": \"9ae3aad0-4f13-495f-95c7-a4bf70c91846\", \"type\": \"ColumnDataSource\"}, {\"attributes\": {\"months\": [0, 4, 8]}, \"id\": \"85c86c84-ee4b-46b7-b556-d55715fa81da\", \"type\": \"MonthsTicker\"}, {\"attributes\": {\"months\": [0, 1, 2, 3, 4, 5, 6, 7, 8, 9, 10, 11]}, \"id\": \"75f40213-c7c7-46d1-b17b-5203589e71c1\", \"type\": \"MonthsTicker\"}, {\"attributes\": {\"column_names\": [\"x\", \"y\"], \"data\": {\"x\": [1312156800000.0, 1314835200000.0, 1317427200000.0, 1320105600000.0, 1322697600000.0, 1325376000000.0, 1328054400000.0, 1330560000000.0, 1333238400000.0, 1335830400000.0, 1338508800000.0, 1341100800000.0, 1343779200000.0, 1346457600000.0, 1349049600000.0, 1351728000000.0, 1354320000000.0, 1356998400000.0, 1359676800000.0, 1362096000000.0, 1364774400000.0, 1367366400000.0, 1370044800000.0, 1372636800000.0, 1375315200000.0, 1377993600000.0, 1380585600000.0, 1383264000000.0, 1385856000000.0, 1388534400000.0, 1391212800000.0, 1393632000000.0, 1396310400000.0, 1398902400000.0, 1401580800000.0, 1404172800000.0, 1406851200000.0, 1409529600000.0, 1412121600000.0, 1414800000000.0, 1417392000000.0, 1420070400000.0, 1422748800000.0, 1425168000000.0, 1427846400000.0, 1430438400000.0, 1433116800000.0, 1435708800000.0, 1438387200000.0, 1441065600000.0, 1443657600000.0, 1446336000000.0, 1448928000000.0, 1451606400000.0, 1454284800000.0], \"y\": [0.0, 0.0, 0.0, 0.0, 0.0, 1.0, 0.0, 0.0, 1.0, 2.0, 0.0, 11.0, 4.0, 1.0, 1.0, 1.0, 3.0, 11.0, 2.0, 6.0, 7.0, 3.0, 4.0, 4.0, 3.0, 1.0, 2.0, 1.0, 2.0, 6.0, 2.0, 5.0, 3.0, 5.0, 1.0, 0.0, 6.0, 3.0, 5.0, 0.0, 1.0, 0.0, 3.0, 5.0, 0.0, 0.0, 2.0, 0.0, 37.0, 16.0, 5.0, 1.0, 4.0, 2.0, 10.0]}, \"callback\": null}, \"id\": \"ac4ef165-ef24-444e-bf00-f2b70ccc2889\", \"type\": \"ColumnDataSource\"}, {\"attributes\": {\"plot\": {\"subtype\": \"Figure\", \"id\": \"48023c29-b7dc-47db-bdb5-b64ba4deea68\", \"type\": \"Plot\"}}, \"id\": \"64c71c12-06af-407b-b0e9-c57cefe580f7\", \"type\": \"ResetTool\"}, {\"attributes\": {\"data_source\": {\"id\": \"4b81540b-01e0-4046-90b7-47d610cac666\", \"type\": \"ColumnDataSource\"}, \"nonselection_glyph\": {\"id\": \"cf85cd8b-922f-4ea4-bbbf-800b9edf1fbe\", \"type\": \"Line\"}, \"selection_glyph\": null, \"hover_glyph\": null, \"glyph\": {\"id\": \"15996f87-fe8c-46d7-baf3-7807e0d03199\", \"type\": \"Line\"}}, \"id\": \"af541539-3e32-42b1-96bc-32c6eb6f7d32\", \"type\": \"GlyphRenderer\"}, {\"attributes\": {\"months\": [0, 2, 4, 6, 8, 10]}, \"id\": \"bd9c26b3-f689-4b32-a650-a277157d7c1a\", \"type\": \"MonthsTicker\"}, {\"attributes\": {}, \"id\": \"3b3f75de-3ccc-487a-8c0e-d7c29972de34\", \"type\": \"DatetimeTickFormatter\"}, {\"attributes\": {\"line_width\": {\"value\": 2}, \"x\": {\"field\": \"x\"}, \"line_color\": {\"value\": \"red\"}, \"y\": {\"field\": \"y\"}}, \"id\": \"fa287c0f-897a-494c-865e-6c5c53ffd953\", \"type\": \"Line\"}, {\"attributes\": {\"plot\": {\"subtype\": \"Figure\", \"id\": \"5b82dd80-671f-471f-a515-aaafd61644c6\", \"type\": \"Plot\"}}, \"id\": \"12e3069d-b700-406d-8fb1-1f81c4dabf2d\", \"type\": \"ResetTool\"}, {\"attributes\": {\"plot\": {\"subtype\": \"Figure\", \"id\": \"5590cfb8-2c89-4073-bb9d-0ec73f2a7569\", \"type\": \"Plot\"}, \"ticker\": {\"id\": \"78e16999-ab69-43da-ac8c-8f98c1bfc62f\", \"type\": \"DatetimeTicker\"}, \"formatter\": {\"id\": \"3b3f75de-3ccc-487a-8c0e-d7c29972de34\", \"type\": \"DatetimeTickFormatter\"}}, \"id\": \"cc43b49f-1750-453d-a25a-9755c8183f46\", \"type\": \"DatetimeAxis\"}, {\"attributes\": {\"plot\": {\"subtype\": \"Figure\", \"id\": \"cf6e146d-8e09-43d7-89a8-3f409d17822c\", \"type\": \"Plot\"}}, \"id\": \"c9cdab6f-11a1-4552-ae38-3aa7bc92edc6\", \"type\": \"ResizeTool\"}, {\"attributes\": {\"plot\": {\"subtype\": \"Figure\", \"id\": \"bc546e03-be07-461a-a028-82c1bd967748\", \"type\": \"Plot\"}, \"ticker\": {\"id\": \"1030b8e7-22a6-4f39-9cc3-0ce66733c65e\", \"type\": \"DatetimeTicker\"}, \"formatter\": {\"id\": \"d4eaab7d-ba32-49f4-9869-c14d6faaab9f\", \"type\": \"DatetimeTickFormatter\"}}, \"id\": \"1c626981-d50e-4e8d-9674-dcaabee1d25b\", \"type\": \"DatetimeAxis\"}, {\"attributes\": {}, \"id\": \"438b6f5e-efdf-4803-9072-8aa8e4dc2abf\", \"type\": \"YearsTicker\"}, {\"attributes\": {\"days\": [1, 4, 7, 10, 13, 16, 19, 22, 25, 28]}, \"id\": \"811ed7df-e22f-4032-961c-0cd06f35fa06\", \"type\": \"DaysTicker\"}, {\"attributes\": {\"months\": [0, 1, 2, 3, 4, 5, 6, 7, 8, 9, 10, 11]}, \"id\": \"923f4a7d-68b2-4737-a43e-4c654df1d0dd\", \"type\": \"MonthsTicker\"}, {\"attributes\": {\"line_width\": {\"value\": 2}, \"x\": {\"field\": \"x\"}, \"line_color\": {\"value\": \"red\"}, \"y\": {\"field\": \"y\"}}, \"id\": \"db51d7a0-85d9-4019-b9d0-d824df283810\", \"type\": \"Line\"}, {\"attributes\": {\"ticker\": {\"id\": \"19b044cc-9b7e-4d7d-a081-fd9081b16796\", \"type\": \"DatetimeTicker\"}, \"plot\": {\"subtype\": \"Figure\", \"id\": \"98d7fc6e-1ac5-4bb9-8585-c2860b3344f4\", \"type\": \"Plot\"}}, \"id\": \"7c56d3c5-0329-47f8-bde2-1b26ba55fe2b\", \"type\": \"Grid\"}, {\"attributes\": {\"plot\": {\"subtype\": \"Figure\", \"id\": \"cf6e146d-8e09-43d7-89a8-3f409d17822c\", \"type\": \"Plot\"}}, \"id\": \"81a0a66a-28c2-4106-aa4e-fda4b746f2bc\", \"type\": \"ResetTool\"}, {\"attributes\": {\"num_minor_ticks\": 0, \"max_interval\": 500.0}, \"id\": \"a729a7ec-0b1b-424d-8c73-1e55a4500b15\", \"type\": \"AdaptiveTicker\"}, {\"attributes\": {\"column_names\": [\"x\", \"y\"], \"data\": {\"x\": [1312156800000.0, 1314835200000.0, 1317427200000.0, 1320105600000.0, 1322697600000.0, 1325376000000.0, 1328054400000.0, 1330560000000.0, 1333238400000.0, 1335830400000.0, 1338508800000.0, 1341100800000.0, 1343779200000.0, 1346457600000.0, 1349049600000.0, 1351728000000.0, 1354320000000.0, 1356998400000.0, 1359676800000.0, 1362096000000.0, 1364774400000.0, 1367366400000.0, 1370044800000.0, 1372636800000.0, 1375315200000.0, 1377993600000.0, 1380585600000.0, 1383264000000.0, 1385856000000.0, 1388534400000.0, 1391212800000.0, 1393632000000.0, 1396310400000.0, 1398902400000.0, 1401580800000.0, 1404172800000.0, 1406851200000.0, 1409529600000.0, 1412121600000.0, 1414800000000.0, 1417392000000.0, 1420070400000.0, 1422748800000.0, 1425168000000.0, 1427846400000.0, 1430438400000.0, 1433116800000.0, 1435708800000.0, 1438387200000.0, 1441065600000.0, 1443657600000.0, 1446336000000.0, 1448928000000.0, 1451606400000.0, 1454284800000.0], \"y\": [0.0, 0.0, 0.0, 0.0, 0.0, 1.0, 0.0, 0.0, 1.0, 2.0, 0.0, 11.0, 4.0, 1.0, 1.0, 1.0, 3.0, 11.0, 2.0, 6.0, 7.0, 3.0, 4.0, 4.0, 3.0, 1.0, 2.0, 1.0, 2.0, 6.0, 2.0, 5.0, 3.0, 5.0, 1.0, 0.0, 6.0, 3.0, 5.0, 0.0, 1.0, 0.0, 3.0, 5.0, 0.0, 0.0, 2.0, 0.0, 37.0, 16.0, 5.0, 1.0, 4.0, 2.0, 10.0]}, \"callback\": null}, \"id\": \"f8b65cc9-6547-4fb8-8723-584f4e993d77\", \"type\": \"ColumnDataSource\"}, {\"attributes\": {\"plot\": {\"subtype\": \"Figure\", \"id\": \"5590cfb8-2c89-4073-bb9d-0ec73f2a7569\", \"type\": \"Plot\"}, \"ticker\": {\"id\": \"4cad5d12-b344-43bf-b9b1-3e02b24375cc\", \"type\": \"BasicTicker\"}, \"formatter\": {\"id\": \"e9d2f414-c62f-4b3c-90bd-c6d0f10721ff\", \"type\": \"BasicTickFormatter\"}}, \"id\": \"425d6f3b-bd24-4557-9e04-6248e1fa3890\", \"type\": \"LinearAxis\"}, {\"attributes\": {\"line_width\": {\"value\": 2}, \"x\": {\"field\": \"x\"}, \"line_color\": {\"value\": \"red\"}, \"y\": {\"field\": \"y\"}}, \"id\": \"49394808-24c8-4dae-91d0-b7bf1fc041ee\", \"type\": \"Line\"}, {\"attributes\": {\"num_minor_ticks\": 0, \"max_interval\": 500.0}, \"id\": \"b365043b-4173-4142-b18e-301f7fff507b\", \"type\": \"AdaptiveTicker\"}, {\"attributes\": {\"ticker\": {\"id\": \"1c1a9124-08a3-4d65-87c3-9ed7a1d34099\", \"type\": \"DatetimeTicker\"}, \"plot\": {\"subtype\": \"Figure\", \"id\": \"5b82dd80-671f-471f-a515-aaafd61644c6\", \"type\": \"Plot\"}}, \"id\": \"f6491178-e5fe-4a38-9e34-653ade4a1ee5\", \"type\": \"Grid\"}, {\"attributes\": {\"plot\": {\"subtype\": \"Figure\", \"id\": \"98d7fc6e-1ac5-4bb9-8585-c2860b3344f4\", \"type\": \"Plot\"}, \"ticker\": {\"id\": \"f881683e-d035-439a-8d5b-217b52528d20\", \"type\": \"BasicTicker\"}, \"formatter\": {\"id\": \"9aad782a-483c-417e-b2ac-bc18894f6eb2\", \"type\": \"BasicTickFormatter\"}}, \"id\": \"ac7ce116-740a-404e-8e40-85c6bbd4ab24\", \"type\": \"LinearAxis\"}, {\"attributes\": {\"data_source\": {\"id\": \"7c26f1f0-d520-4ea4-a1b0-e1dd2d4421db\", \"type\": \"ColumnDataSource\"}, \"nonselection_glyph\": {\"id\": \"19afa5de-cff9-42f8-ac24-ecde89176753\", \"type\": \"Line\"}, \"selection_glyph\": null, \"hover_glyph\": null, \"glyph\": {\"id\": \"72a4780e-c9a5-4095-81b3-4b8ae57660a6\", \"type\": \"Line\"}}, \"id\": \"5f45f0d5-cec6-4682-862b-cbe247a083b1\", \"type\": \"GlyphRenderer\"}, {\"attributes\": {}, \"id\": \"c0349706-0c81-48ff-b277-69c677197361\", \"type\": \"ToolEvents\"}, {\"attributes\": {}, \"id\": \"59338d14-a47d-47ad-8b53-b7825a237de6\", \"type\": \"YearsTicker\"}, {\"attributes\": {\"data_source\": {\"id\": \"5626c840-9ea7-4238-aae9-fbaaa3615b08\", \"type\": \"ColumnDataSource\"}, \"nonselection_glyph\": {\"id\": \"5271a61c-d152-4657-800c-eafcd0aa3a18\", \"type\": \"Line\"}, \"selection_glyph\": null, \"hover_glyph\": null, \"glyph\": {\"id\": \"0c1c496d-b3de-4948-b0bf-c19246cbdf96\", \"type\": \"Line\"}}, \"id\": \"1a5a9be0-7e69-48a8-8318-8790b5fc192c\", \"type\": \"GlyphRenderer\"}, {\"attributes\": {\"column_names\": [\"x\", \"y\"], \"data\": {\"x\": [1312156800000.0, 1314835200000.0, 1317427200000.0, 1320105600000.0, 1322697600000.0, 1325376000000.0, 1328054400000.0, 1330560000000.0, 1333238400000.0, 1335830400000.0, 1338508800000.0, 1341100800000.0, 1343779200000.0, 1346457600000.0, 1349049600000.0, 1351728000000.0, 1354320000000.0, 1356998400000.0, 1359676800000.0, 1362096000000.0, 1364774400000.0, 1367366400000.0, 1370044800000.0, 1372636800000.0, 1375315200000.0, 1377993600000.0, 1380585600000.0, 1383264000000.0, 1385856000000.0, 1388534400000.0, 1391212800000.0, 1393632000000.0, 1396310400000.0, 1398902400000.0, 1401580800000.0, 1404172800000.0, 1406851200000.0, 1409529600000.0, 1412121600000.0, 1414800000000.0, 1417392000000.0, 1420070400000.0, 1422748800000.0, 1425168000000.0, 1427846400000.0, 1430438400000.0, 1433116800000.0, 1435708800000.0, 1438387200000.0, 1441065600000.0, 1443657600000.0, 1446336000000.0, 1448928000000.0, 1451606400000.0, 1454284800000.0], \"y\": [9, 4, 4, 9, 5, 5, 7, 5, 5, 10, 2, 3, 3, 5, 9, 8, 2, 11, 5, 5, 6, 11, 8, 14, 7, 6, 5, 6, 6, 9, 5, 9, 3, 10, 4, 7, 2, 16, 8, 5, 6, 8, 6, 6, 10, 24, 11, 7, 10, 7, 12, 7, 4, 12, 5]}, \"callback\": null}, \"id\": \"fcef9fe7-d984-43ed-b9cb-8c54dc33caf5\", \"type\": \"ColumnDataSource\"}, {\"attributes\": {\"line_width\": {\"value\": 2}, \"y\": {\"field\": \"y\"}, \"x\": {\"field\": \"x\"}, \"line_color\": {\"value\": \"#1f77b4\"}, \"line_alpha\": {\"value\": 0.1}}, \"id\": \"5271a61c-d152-4657-800c-eafcd0aa3a18\", \"type\": \"Line\"}, {\"attributes\": {\"data_source\": {\"id\": \"01621d9c-9828-4ad9-9c1a-18f81bfef576\", \"type\": \"ColumnDataSource\"}, \"nonselection_glyph\": {\"id\": \"d332b38e-170c-483d-bf81-6fc272ae50fb\", \"type\": \"Line\"}, \"selection_glyph\": null, \"hover_glyph\": null, \"glyph\": {\"id\": \"defd8bcc-5f72-4d55-bee7-79371aebe5d4\", \"type\": \"Line\"}}, \"id\": \"543a57c1-3007-44f7-aeda-d85e6d651fec\", \"type\": \"GlyphRenderer\"}, {\"attributes\": {\"level\": \"overlay\", \"render_mode\": \"css\", \"line_dash\": [4, 4], \"plot\": null, \"top_units\": \"screen\", \"line_width\": {\"value\": 2}, \"line_color\": {\"value\": \"black\"}, \"left_units\": \"screen\", \"bottom_units\": \"screen\", \"line_alpha\": {\"value\": 1.0}, \"fill_color\": {\"value\": \"lightgrey\"}, \"fill_alpha\": {\"value\": 0.5}, \"right_units\": \"screen\"}, \"id\": \"a27abb44-6b57-4d24-81bf-a12b5c80e2ea\", \"type\": \"BoxAnnotation\"}, {\"attributes\": {\"months\": [0, 4, 8]}, \"id\": \"bee88ede-08ae-4c79-81d5-cb63ae9a3969\", \"type\": \"MonthsTicker\"}, {\"attributes\": {\"line_width\": {\"value\": 4}, \"x\": {\"field\": \"x\"}, \"y\": {\"field\": \"y\"}}, \"id\": \"4e2f9e6d-c6d0-4cd8-99fa-bd9daebe25ff\", \"type\": \"Line\"}, {\"attributes\": {\"dimension\": 1, \"ticker\": {\"id\": \"66c25987-92fa-4917-be34-a279c04270b7\", \"type\": \"BasicTicker\"}, \"plot\": {\"subtype\": \"Figure\", \"id\": \"cf6e146d-8e09-43d7-89a8-3f409d17822c\", \"type\": \"Plot\"}}, \"id\": \"e20b791d-d5f4-415c-b213-e629f518b196\", \"type\": \"Grid\"}, {\"attributes\": {\"num_minor_ticks\": 5}, \"id\": \"d03d096f-7f8c-44ed-92f3-2f44663b71ee\", \"type\": \"DatetimeTicker\"}, {\"attributes\": {\"months\": [0, 4, 8]}, \"id\": \"c4b4d24e-0c3e-4e38-8476-e0bde4f2fdcd\", \"type\": \"MonthsTicker\"}, {\"attributes\": {\"num_minor_ticks\": 5}, \"id\": \"1030b8e7-22a6-4f39-9cc3-0ce66733c65e\", \"type\": \"DatetimeTicker\"}, {\"attributes\": {\"line_width\": {\"value\": 2}, \"y\": {\"field\": \"y\"}, \"x\": {\"field\": \"x\"}, \"line_color\": {\"value\": \"#1f77b4\"}, \"line_alpha\": {\"value\": 0.1}}, \"id\": \"5b29e121-af80-4c20-ac82-7b9d8c08e60c\", \"type\": \"Line\"}, {\"attributes\": {\"level\": \"overlay\", \"render_mode\": \"css\", \"line_dash\": [4, 4], \"plot\": null, \"top_units\": \"screen\", \"line_width\": {\"value\": 2}, \"line_color\": {\"value\": \"black\"}, \"left_units\": \"screen\", \"bottom_units\": \"screen\", \"line_alpha\": {\"value\": 1.0}, \"fill_color\": {\"value\": \"lightgrey\"}, \"fill_alpha\": {\"value\": 0.5}, \"right_units\": \"screen\"}, \"id\": \"98a172a4-e31a-4962-8ba3-cc4c67f4917f\", \"type\": \"BoxAnnotation\"}, {\"attributes\": {\"callback\": null}, \"id\": \"8f10a3b5-2e6a-4e5c-b5c2-c4b99cbe0734\", \"type\": \"DataRange1d\"}, {\"attributes\": {}, \"id\": \"dd15a642-5d4d-4207-83c3-f46fd2b66d4b\", \"type\": \"BasicTickFormatter\"}, {\"attributes\": {\"line_width\": {\"value\": 2}, \"y\": {\"field\": \"y\"}, \"x\": {\"field\": \"x\"}, \"line_color\": {\"value\": \"#1f77b4\"}, \"line_alpha\": {\"value\": 0.1}}, \"id\": \"a537baa1-2b3b-4c34-ba42-d08996b8ab6e\", \"type\": \"Line\"}, {\"attributes\": {}, \"id\": \"e2d331e5-d25e-4500-bd21-d9736c8a436a\", \"type\": \"BasicTicker\"}, {\"attributes\": {\"line_width\": {\"value\": 2}, \"x\": {\"field\": \"x\"}, \"line_color\": {\"value\": \"green\"}, \"y\": {\"field\": \"y\"}}, \"id\": \"f1cc3122-f17b-471b-9b34-add589ce3c04\", \"type\": \"Line\"}, {\"attributes\": {\"line_width\": {\"value\": 2}, \"x\": {\"field\": \"x\"}, \"line_color\": {\"value\": \"green\"}, \"y\": {\"field\": \"y\"}}, \"id\": \"13303991-be98-481a-8c4b-340dae52ea7b\", \"type\": \"Line\"}, {\"attributes\": {\"overlay\": {\"id\": \"98a172a4-e31a-4962-8ba3-cc4c67f4917f\", \"type\": \"BoxAnnotation\"}, \"plot\": {\"subtype\": \"Figure\", \"id\": \"5590cfb8-2c89-4073-bb9d-0ec73f2a7569\", \"type\": \"Plot\"}}, \"id\": \"81334f1b-ec32-4fe2-9a04-de6d59a998b3\", \"type\": \"BoxZoomTool\"}, {\"attributes\": {\"months\": [0, 6]}, \"id\": \"fe409620-fb8d-4f42-a815-31211edd6728\", \"type\": \"MonthsTicker\"}, {\"attributes\": {\"callback\": null}, \"id\": \"54364248-b267-42aa-8bf0-a53d34faad48\", \"type\": \"DataRange1d\"}, {\"attributes\": {\"plot\": {\"subtype\": \"Figure\", \"id\": \"76e6af38-8d77-4ed2-8c6e-caef0e88cb7c\", \"type\": \"Plot\"}, \"ticker\": {\"id\": \"3a8ae1db-1471-4f1a-afee-182975d6251f\", \"type\": \"DatetimeTicker\"}, \"formatter\": {\"id\": \"e2a93761-5477-48de-b400-fc63fcb945af\", \"type\": \"DatetimeTickFormatter\"}}, \"id\": \"a5daaf76-a8f6-4a94-a515-79dd6e3b1ea3\", \"type\": \"DatetimeAxis\"}, {\"attributes\": {}, \"id\": \"ccdacad4-28af-4020-9e95-9657bd646b0f\", \"type\": \"ToolEvents\"}, {\"attributes\": {\"callback\": null}, \"id\": \"d1df3041-a85c-41cf-ad97-b23669ad9801\", \"type\": \"DataRange1d\"}, {\"attributes\": {\"months\": [0, 6]}, \"id\": \"880c2bf8-32ae-4d7b-bcbf-3ef0d7123d20\", \"type\": \"MonthsTicker\"}, {\"attributes\": {}, \"id\": \"8957fca3-f257-4b22-b812-67a670e60d61\", \"type\": \"ToolEvents\"}, {\"attributes\": {\"line_width\": {\"value\": 2}, \"x\": {\"field\": \"x\"}, \"y\": {\"field\": \"y\"}}, \"id\": \"7e27ac08-f2b2-4422-b911-8aa48291b411\", \"type\": \"Line\"}, {\"attributes\": {\"line_width\": {\"value\": 2}, \"x\": {\"field\": \"x\"}, \"line_color\": {\"value\": \"red\"}, \"y\": {\"field\": \"y\"}}, \"id\": \"86c31b57-ca92-49cc-8506-6a22f8a03c82\", \"type\": \"Line\"}, {\"attributes\": {\"plot\": {\"subtype\": \"Figure\", \"id\": \"48023c29-b7dc-47db-bdb5-b64ba4deea68\", \"type\": \"Plot\"}}, \"id\": \"df846b1d-27e2-43d0-a098-4d5706fa0fea\", \"type\": \"WheelZoomTool\"}, {\"attributes\": {\"callback\": null}, \"id\": \"60967278-4217-4cba-ac09-3ad9d9d5fd42\", \"type\": \"DataRange1d\"}, {\"attributes\": {\"callback\": null}, \"id\": \"ce22741c-7344-43ba-b6e3-170d258964be\", \"type\": \"DataRange1d\"}, {\"attributes\": {\"overlay\": {\"id\": \"fede5a46-437a-4a60-a126-bf4c830bdce8\", \"type\": \"BoxAnnotation\"}, \"plot\": {\"subtype\": \"Figure\", \"id\": \"98d7fc6e-1ac5-4bb9-8585-c2860b3344f4\", \"type\": \"Plot\"}}, \"id\": \"20da0487-33a6-4843-a1c8-1c01bba15a73\", \"type\": \"BoxZoomTool\"}, {\"attributes\": {\"callback\": null}, \"id\": \"19037bd2-1e41-47f7-9d8e-d78a6f7b3996\", \"type\": \"DataRange1d\"}, {\"attributes\": {\"tools\": [{\"id\": \"873a96c4-7825-4dbc-a262-6f73277c6a0e\", \"type\": \"PanTool\"}, {\"id\": \"aad9cec0-f538-41f1-805f-d894af2ecaf2\", \"type\": \"WheelZoomTool\"}, {\"id\": \"48a326b2-a7ff-46fd-b83b-abe90a254b8b\", \"type\": \"BoxZoomTool\"}, {\"id\": \"cf1c1244-8000-4ed1-833b-1e01eb2f900b\", \"type\": \"PreviewSaveTool\"}, {\"id\": \"1b18e0c6-ce77-4928-9007-e4315174693b\", \"type\": \"ResizeTool\"}, {\"id\": \"e9b1fe2e-fa36-436d-ba88-f81f37d22aeb\", \"type\": \"ResetTool\"}, {\"id\": \"81025c78-7ccd-4691-adcf-d8bfe005c8d5\", \"type\": \"HelpTool\"}], \"left\": [{\"id\": \"67fa8501-05ba-4910-8e5f-9c2bf51cd752\", \"type\": \"LinearAxis\"}], \"renderers\": [{\"id\": \"c3204987-0170-49b5-b18a-a9f209eaa872\", \"type\": \"DatetimeAxis\"}, {\"id\": \"43f5755d-a3ad-47dd-b842-718cdc6fc003\", \"type\": \"Grid\"}, {\"id\": \"67fa8501-05ba-4910-8e5f-9c2bf51cd752\", \"type\": \"LinearAxis\"}, {\"id\": \"c451e910-b8a6-4e35-bc7c-ebd0d067df13\", \"type\": \"Grid\"}, {\"id\": \"f2b3da07-80f7-47a2-a5a2-7f362ed151bd\", \"type\": \"BoxAnnotation\"}, {\"id\": \"ab07e42d-5c3a-4444-b3f9-aad86b32a596\", \"type\": \"GlyphRenderer\"}, {\"id\": \"dcc30fb6-f20c-4528-b4da-7697bda70dcb\", \"type\": \"GlyphRenderer\"}, {\"id\": \"1a5a9be0-7e69-48a8-8318-8790b5fc192c\", \"type\": \"GlyphRenderer\"}], \"below\": [{\"id\": \"c3204987-0170-49b5-b18a-a9f209eaa872\", \"type\": \"DatetimeAxis\"}], \"title_text_font_size\": {\"value\": \"18px\"}, \"y_range\": {\"id\": \"d1df3041-a85c-41cf-ad97-b23669ad9801\", \"type\": \"DataRange1d\"}, \"plot_height\": 500, \"x_range\": {\"id\": \"ce22741c-7344-43ba-b6e3-170d258964be\", \"type\": \"DataRange1d\"}, \"tool_events\": {\"id\": \"8957fca3-f257-4b22-b812-67a670e60d61\", \"type\": \"ToolEvents\"}, \"title\": \"Turnover at the Wikimedia Foundation\", \"plot_width\": 960}, \"id\": \"ac4065e4-8e62-480c-83d3-9534c460b90a\", \"type\": \"Plot\", \"subtype\": \"Figure\"}, {\"attributes\": {\"plot\": {\"subtype\": \"Figure\", \"id\": \"ac4065e4-8e62-480c-83d3-9534c460b90a\", \"type\": \"Plot\"}, \"ticker\": {\"id\": \"e4d238ed-5edc-47dc-8a60-1f9b2d0493d4\", \"type\": \"DatetimeTicker\"}, \"formatter\": {\"id\": \"5e27b788-ed13-496e-83e7-2f22640acc8d\", \"type\": \"DatetimeTickFormatter\"}}, \"id\": \"c3204987-0170-49b5-b18a-a9f209eaa872\", \"type\": \"DatetimeAxis\"}, {\"attributes\": {}, \"id\": \"c95fd6e6-b94a-4c39-a0d3-6de9af3267ae\", \"type\": \"YearsTicker\"}, {\"attributes\": {\"column_names\": [\"x\", \"y\"], \"data\": {\"x\": [1404172800000.0, 1404172800000.0], \"y\": [0, 35]}, \"callback\": null}, \"id\": \"21eb34c4-4452-4ab5-88a0-bf11b5d0ee70\", \"type\": \"ColumnDataSource\"}, {\"attributes\": {\"mantissas\": [1, 2, 5, 10, 15, 20, 30], \"num_minor_ticks\": 0, \"max_interval\": 1800000.0, \"base\": 60, \"min_interval\": 1000.0}, \"id\": \"52223acc-cda9-4c95-8197-8e039fe9c6de\", \"type\": \"AdaptiveTicker\"}, {\"attributes\": {\"plot\": {\"subtype\": \"Figure\", \"id\": \"ac4065e4-8e62-480c-83d3-9534c460b90a\", \"type\": \"Plot\"}}, \"id\": \"e9b1fe2e-fa36-436d-ba88-f81f37d22aeb\", \"type\": \"ResetTool\"}, {\"attributes\": {\"plot\": {\"subtype\": \"Figure\", \"id\": \"5590cfb8-2c89-4073-bb9d-0ec73f2a7569\", \"type\": \"Plot\"}}, \"id\": \"75ba2f03-c818-4552-a213-0169f0ad5f55\", \"type\": \"HelpTool\"}, {\"attributes\": {}, \"id\": \"0ba895a2-2576-477e-b236-6affe0ca727f\", \"type\": \"ToolEvents\"}, {\"attributes\": {\"overlay\": {\"id\": \"3c9ef55c-b9d6-4e98-8284-28c492ae7aab\", \"type\": \"BoxAnnotation\"}, \"plot\": {\"subtype\": \"Figure\", \"id\": \"cf6e146d-8e09-43d7-89a8-3f409d17822c\", \"type\": \"Plot\"}}, \"id\": \"c6ca1c63-7d68-4950-aa1c-ba24c4247fcf\", \"type\": \"BoxZoomTool\"}, {\"attributes\": {\"line_width\": {\"value\": 2}, \"x\": {\"field\": \"x\"}, \"y\": {\"field\": \"y\"}}, \"id\": \"8ededca8-8606-4a22-8ba6-e9881d692b10\", \"type\": \"Line\"}, {\"attributes\": {\"line_width\": {\"value\": 2}, \"y\": {\"field\": \"y\"}, \"x\": {\"field\": \"x\"}, \"line_color\": {\"value\": \"#1f77b4\"}, \"line_alpha\": {\"value\": 0.1}}, \"id\": \"0cd6edde-b343-42aa-a25d-0174aa68ebf4\", \"type\": \"Line\"}, {\"attributes\": {\"days\": [1, 15]}, \"id\": \"1ec23220-0a67-4ce3-beb2-c2f5c92db3ef\", \"type\": \"DaysTicker\"}, {\"attributes\": {\"ticker\": {\"id\": \"5288e770-e2ec-4e5e-825d-d50129d76209\", \"type\": \"DatetimeTicker\"}, \"plot\": {\"subtype\": \"Figure\", \"id\": \"835e1e91-b208-4e2b-bd1a-961d2e813e08\", \"type\": \"Plot\"}}, \"id\": \"b238c89b-b027-4e3d-adfa-c9eb73d0f193\", \"type\": \"Grid\"}, {\"attributes\": {\"callback\": null}, \"id\": \"d86c3c0f-bec7-4e90-b88d-cc378f59c830\", \"type\": \"DataRange1d\"}, {\"attributes\": {\"data_source\": {\"id\": \"1bc1b329-e12b-46d2-94d7-1c5da994ce89\", \"type\": \"ColumnDataSource\"}, \"nonselection_glyph\": {\"id\": \"a7053a6a-5784-4c04-9cb2-a757219a09dd\", \"type\": \"Line\"}, \"selection_glyph\": null, \"hover_glyph\": null, \"glyph\": {\"id\": \"49394808-24c8-4dae-91d0-b7bf1fc041ee\", \"type\": \"Line\"}}, \"id\": \"5c8336f2-3641-4903-ab0c-4b58d7ab140c\", \"type\": \"GlyphRenderer\"}, {\"attributes\": {\"months\": [0, 6]}, \"id\": \"694c6326-5a1a-4c4d-bad0-42c352a00f00\", \"type\": \"MonthsTicker\"}, {\"attributes\": {\"plot\": {\"subtype\": \"Figure\", \"id\": \"ac4065e4-8e62-480c-83d3-9534c460b90a\", \"type\": \"Plot\"}, \"ticker\": {\"id\": \"29ccefc9-cdd5-4756-a1fa-f468ae802eae\", \"type\": \"BasicTicker\"}, \"formatter\": {\"id\": \"cb0deb51-8c6d-4586-8e55-8778a932ee5e\", \"type\": \"BasicTickFormatter\"}}, \"id\": \"67fa8501-05ba-4910-8e5f-9c2bf51cd752\", \"type\": \"LinearAxis\"}, {\"attributes\": {\"days\": [1, 15]}, \"id\": \"812fb1e5-a083-41c8-a85e-fe0464bb1303\", \"type\": \"DaysTicker\"}, {\"attributes\": {\"mantissas\": [1, 2, 5, 10, 15, 20, 30], \"num_minor_ticks\": 0, \"max_interval\": 1800000.0, \"base\": 60, \"min_interval\": 1000.0}, \"id\": \"8275d40c-7ccb-4e98-a40e-7021676d091f\", \"type\": \"AdaptiveTicker\"}, {\"attributes\": {\"callback\": null}, \"id\": \"6600711d-34ab-4319-bf07-0bc4628a072d\", \"type\": \"DataRange1d\"}, {\"attributes\": {\"line_width\": {\"value\": 2}, \"x\": {\"field\": \"x\"}, \"line_color\": {\"value\": \"red\"}, \"y\": {\"field\": \"y\"}}, \"id\": \"2721bf4e-ce6b-43b4-8cfa-68a501e16f99\", \"type\": \"Line\"}, {\"attributes\": {\"line_width\": {\"value\": 2}, \"y\": {\"field\": \"y\"}, \"x\": {\"field\": \"x\"}, \"line_color\": {\"value\": \"#1f77b4\"}, \"line_alpha\": {\"value\": 0.1}}, \"id\": \"3ed6ca13-35f2-49ac-a9e5-c83bd99ddfb8\", \"type\": \"Line\"}, {\"attributes\": {\"line_width\": {\"value\": 2}, \"x\": {\"field\": \"x\"}, \"line_color\": {\"value\": \"green\"}, \"y\": {\"field\": \"y\"}}, \"id\": \"5208bb35-a1f6-44b2-9157-f32f05ae41b1\", \"type\": \"Line\"}, {\"attributes\": {\"days\": [1, 2, 3, 4, 5, 6, 7, 8, 9, 10, 11, 12, 13, 14, 15, 16, 17, 18, 19, 20, 21, 22, 23, 24, 25, 26, 27, 28, 29, 30, 31]}, \"id\": \"83a8aec2-3738-4d79-b080-3316a0470d54\", \"type\": \"DaysTicker\"}, {\"attributes\": {}, \"id\": \"01d0a51c-d92f-4ba1-97af-363958efda3e\", \"type\": \"DatetimeTickFormatter\"}, {\"attributes\": {\"months\": [0, 1, 2, 3, 4, 5, 6, 7, 8, 9, 10, 11]}, \"id\": \"4e33ac24-f531-4779-95f4-83b757342bdc\", \"type\": \"MonthsTicker\"}, {\"attributes\": {\"callback\": null}, \"id\": \"a1eaef25-5ac7-4d2b-a08e-c6caeece5d15\", \"type\": \"DataRange1d\"}, {\"attributes\": {\"line_width\": {\"value\": 2}, \"y\": {\"field\": \"y\"}, \"x\": {\"field\": \"x\"}, \"line_color\": {\"value\": \"#1f77b4\"}, \"line_alpha\": {\"value\": 0.1}}, \"id\": \"a7053a6a-5784-4c04-9cb2-a757219a09dd\", \"type\": \"Line\"}, {\"attributes\": {\"months\": [0, 1, 2, 3, 4, 5, 6, 7, 8, 9, 10, 11]}, \"id\": \"cf3e6ced-8a76-4cb4-b3ad-1714c27d65fe\", \"type\": \"MonthsTicker\"}, {\"attributes\": {\"plot\": {\"subtype\": \"Figure\", \"id\": \"cf6e146d-8e09-43d7-89a8-3f409d17822c\", \"type\": \"Plot\"}}, \"id\": \"9c3f435f-1453-4117-b7e2-7a44a5c114ac\", \"type\": \"HelpTool\"}, {\"attributes\": {\"days\": [1, 15]}, \"id\": \"cbac9ce0-35ea-4992-afbb-a956fcb0d956\", \"type\": \"DaysTicker\"}, {\"attributes\": {}, \"id\": \"bc65e624-2234-4bf0-845b-eaa7bc5e02a7\", \"type\": \"BasicTicker\"}, {\"attributes\": {}, \"id\": \"ceb06a90-3fa8-41ab-888f-e8537238e114\", \"type\": \"YearsTicker\"}, {\"attributes\": {\"data_source\": {\"id\": \"40278c74-c481-4c5e-a083-fa52ac10ea52\", \"type\": \"ColumnDataSource\"}, \"nonselection_glyph\": {\"id\": \"5ff98c0e-ec7a-4121-9cf6-8be7ac874667\", \"type\": \"Line\"}, \"selection_glyph\": null, \"hover_glyph\": null, \"glyph\": {\"id\": \"52f717f0-2beb-4fb1-92a3-bf7582d2f006\", \"type\": \"Line\"}}, \"id\": \"597a7ca1-c49a-4a60-8281-9f76423ea0a5\", \"type\": \"GlyphRenderer\"}, {\"attributes\": {\"dimension\": 1, \"ticker\": {\"id\": \"dfc3dc24-3416-491e-add5-068e28f3c080\", \"type\": \"BasicTicker\"}, \"plot\": {\"subtype\": \"Figure\", \"id\": \"76e6af38-8d77-4ed2-8c6e-caef0e88cb7c\", \"type\": \"Plot\"}}, \"id\": \"110a718d-edfd-4a34-80c8-745654cf47ce\", \"type\": \"Grid\"}, {\"attributes\": {}, \"id\": \"dfc3dc24-3416-491e-add5-068e28f3c080\", \"type\": \"BasicTicker\"}, {\"attributes\": {\"data_source\": {\"id\": \"5560b9be-bb45-4867-b989-4a87ecd8437c\", \"type\": \"ColumnDataSource\"}, \"nonselection_glyph\": {\"id\": \"ddb450f8-1238-4b09-a6b9-a7165f712601\", \"type\": \"Line\"}, \"selection_glyph\": null, \"hover_glyph\": null, \"glyph\": {\"id\": \"2721bf4e-ce6b-43b4-8cfa-68a501e16f99\", \"type\": \"Line\"}}, \"id\": \"049fd857-e915-4faa-9fb5-3e6353846a0c\", \"type\": \"GlyphRenderer\"}, {\"attributes\": {\"months\": [0, 4, 8]}, \"id\": \"6309d059-f3e7-4579-82f5-b95d328ee263\", \"type\": \"MonthsTicker\"}, {\"attributes\": {\"overlay\": {\"id\": \"60049864-dea0-444e-b782-ec6b4198d866\", \"type\": \"BoxAnnotation\"}, \"plot\": {\"subtype\": \"Figure\", \"id\": \"76e6af38-8d77-4ed2-8c6e-caef0e88cb7c\", \"type\": \"Plot\"}}, \"id\": \"b86fe0b7-c69e-4b65-8ae3-f39b7ac4678a\", \"type\": \"BoxZoomTool\"}, {\"attributes\": {\"num_minor_ticks\": 5}, \"id\": \"5288e770-e2ec-4e5e-825d-d50129d76209\", \"type\": \"DatetimeTicker\"}, {\"attributes\": {\"column_names\": [\"x\", \"y\"], \"data\": {\"x\": [1312156800000.0, 1314835200000.0, 1317427200000.0, 1320105600000.0, 1322697600000.0, 1325376000000.0, 1328054400000.0, 1330560000000.0, 1333238400000.0, 1335830400000.0, 1338508800000.0, 1341100800000.0, 1343779200000.0, 1346457600000.0, 1349049600000.0, 1351728000000.0, 1354320000000.0, 1356998400000.0, 1359676800000.0, 1362096000000.0, 1364774400000.0, 1367366400000.0, 1370044800000.0, 1372636800000.0, 1375315200000.0, 1377993600000.0, 1380585600000.0, 1383264000000.0, 1385856000000.0, 1388534400000.0, 1391212800000.0, 1393632000000.0, 1396310400000.0, 1398902400000.0, 1401580800000.0, 1404172800000.0, 1406851200000.0, 1409529600000.0, 1412121600000.0, 1414800000000.0, 1417392000000.0, 1420070400000.0, 1422748800000.0, 1425168000000.0, 1427846400000.0, 1430438400000.0, 1433116800000.0, 1435708800000.0, 1438387200000.0, 1441065600000.0, 1443657600000.0, 1446336000000.0, 1448928000000.0, 1451606400000.0, 1454284800000.0], \"y\": [9, 4, 4, 9, 5, 5, 7, 5, 5, 10, 2, 3, 3, 5, 9, 8, 2, 11, 5, 5, 6, 11, 8, 14, 7, 6, 5, 6, 6, 9, 5, 9, 3, 10, 4, 7, 2, 16, 8, 5, 6, 8, 6, 6, 10, 24, 11, 7, 10, 7, 12, 7, 4, 12, 5]}, \"callback\": null}, \"id\": \"782a1f07-731f-4ae8-9f23-c51b5bdfba4a\", \"type\": \"ColumnDataSource\"}, {\"attributes\": {\"line_width\": {\"value\": 2}, \"x\": {\"field\": \"x\"}, \"line_color\": {\"value\": \"red\"}, \"y\": {\"field\": \"y\"}}, \"id\": \"72a4780e-c9a5-4095-81b3-4b8ae57660a6\", \"type\": \"Line\"}, {\"attributes\": {\"mantissas\": [1, 2, 5, 10, 15, 20, 30], \"num_minor_ticks\": 0, \"max_interval\": 1800000.0, \"base\": 60, \"min_interval\": 1000.0}, \"id\": \"906985b5-ef05-4599-86be-0b1c24fbfccf\", \"type\": \"AdaptiveTicker\"}, {\"attributes\": {\"line_width\": {\"value\": 2}, \"y\": {\"field\": \"y\"}, \"x\": {\"field\": \"x\"}, \"line_color\": {\"value\": \"#1f77b4\"}, \"line_alpha\": {\"value\": 0.1}}, \"id\": \"9447f34a-4f87-4da7-a1cb-9e81aae53b28\", \"type\": \"Line\"}, {\"attributes\": {\"line_width\": {\"value\": 2}, \"y\": {\"field\": \"y\"}, \"x\": {\"field\": \"x\"}, \"line_color\": {\"value\": \"#1f77b4\"}, \"line_alpha\": {\"value\": 0.1}}, \"id\": \"634ed79a-82c3-4c38-b760-fca62ed96022\", \"type\": \"Line\"}, {\"attributes\": {\"overlay\": {\"id\": \"c1dab686-18ae-4f1a-a28e-d5f1296ba26f\", \"type\": \"BoxAnnotation\"}, \"plot\": {\"subtype\": \"Figure\", \"id\": \"48023c29-b7dc-47db-bdb5-b64ba4deea68\", \"type\": \"Plot\"}}, \"id\": \"8412dc6c-de9a-4435-ae64-425d24b05a42\", \"type\": \"BoxZoomTool\"}, {\"attributes\": {\"plot\": {\"subtype\": \"Figure\", \"id\": \"76e6af38-8d77-4ed2-8c6e-caef0e88cb7c\", \"type\": \"Plot\"}}, \"id\": \"c513dd1a-7845-4ec7-9b53-8f37e27bf3ee\", \"type\": \"PanTool\"}, {\"attributes\": {}, \"id\": \"497c9d71-4f84-435c-9935-4153e882df0d\", \"type\": \"ToolEvents\"}, {\"attributes\": {\"plot\": {\"subtype\": \"Figure\", \"id\": \"09d19a11-1e7d-4211-8f35-78368603c093\", \"type\": \"Plot\"}}, \"id\": \"fa958a28-b44c-406f-a601-d1daceb17c13\", \"type\": \"PanTool\"}, {\"attributes\": {\"dimension\": 1, \"ticker\": {\"id\": \"bc65e624-2234-4bf0-845b-eaa7bc5e02a7\", \"type\": \"BasicTicker\"}, \"plot\": {\"subtype\": \"Figure\", \"id\": \"09d19a11-1e7d-4211-8f35-78368603c093\", \"type\": \"Plot\"}}, \"id\": \"fca11ef7-6e6b-4937-908a-27b236f02d12\", \"type\": \"Grid\"}, {\"attributes\": {\"months\": [0, 2, 4, 6, 8, 10]}, \"id\": \"228f3f1b-2e79-427a-9b4a-28b17fb95576\", \"type\": \"MonthsTicker\"}, {\"attributes\": {\"line_width\": {\"value\": 2}, \"y\": {\"field\": \"y\"}, \"x\": {\"field\": \"x\"}, \"line_color\": {\"value\": \"#1f77b4\"}, \"line_alpha\": {\"value\": 0.1}}, \"id\": \"54a89334-c11c-48d4-9fb1-f5b72d47f516\", \"type\": \"Line\"}, {\"attributes\": {\"column_names\": [\"x\", \"y\"], \"data\": {\"x\": [1312156800000.0, 1314835200000.0, 1317427200000.0, 1320105600000.0, 1322697600000.0, 1325376000000.0, 1328054400000.0, 1330560000000.0, 1333238400000.0, 1335830400000.0, 1338508800000.0, 1341100800000.0, 1343779200000.0, 1346457600000.0, 1349049600000.0, 1351728000000.0, 1354320000000.0, 1356998400000.0, 1359676800000.0, 1362096000000.0, 1364774400000.0, 1367366400000.0, 1370044800000.0, 1372636800000.0, 1375315200000.0, 1377993600000.0, 1380585600000.0, 1383264000000.0, 1385856000000.0, 1388534400000.0, 1391212800000.0, 1393632000000.0, 1396310400000.0, 1398902400000.0, 1401580800000.0, 1404172800000.0, 1406851200000.0, 1409529600000.0, 1412121600000.0, 1414800000000.0, 1417392000000.0, 1420070400000.0, 1422748800000.0, 1425168000000.0, 1427846400000.0, 1430438400000.0, 1433116800000.0, 1435708800000.0, 1438387200000.0, 1441065600000.0, 1443657600000.0, 1446336000000.0, 1448928000000.0, 1451606400000.0, 1454284800000.0], \"y\": [9, 4, 4, 9, 5, 5, 7, 5, 5, 10, 2, 3, 3, 5, 9, 8, 2, 11, 5, 5, 6, 11, 8, 14, 7, 6, 5, 6, 6, 9, 5, 9, 3, 10, 4, 7, 2, 16, 8, 5, 6, 8, 6, 6, 10, 24, 11, 7, 10, 7, 12, 7, 4, 12, 5]}, \"callback\": null}, \"id\": \"1d0575f3-5a32-4c4c-bf68-eb12b1d246a2\", \"type\": \"ColumnDataSource\"}, {\"attributes\": {}, \"id\": \"6abeebfb-47da-4ca7-9a0f-c87439f7d040\", \"type\": \"ToolEvents\"}, {\"attributes\": {\"level\": \"overlay\", \"render_mode\": \"css\", \"line_dash\": [4, 4], \"plot\": null, \"top_units\": \"screen\", \"line_width\": {\"value\": 2}, \"line_color\": {\"value\": \"black\"}, \"left_units\": \"screen\", \"bottom_units\": \"screen\", \"line_alpha\": {\"value\": 1.0}, \"fill_color\": {\"value\": \"lightgrey\"}, \"fill_alpha\": {\"value\": 0.5}, \"right_units\": \"screen\"}, \"id\": \"4fcf1c6d-1034-4641-995a-f586bbe49b50\", \"type\": \"BoxAnnotation\"}, {\"attributes\": {\"data_source\": {\"id\": \"782a1f07-731f-4ae8-9f23-c51b5bdfba4a\", \"type\": \"ColumnDataSource\"}, \"nonselection_glyph\": {\"id\": \"0cd6edde-b343-42aa-a25d-0174aa68ebf4\", \"type\": \"Line\"}, \"selection_glyph\": null, \"hover_glyph\": null, \"glyph\": {\"id\": \"17c538a0-1e2b-4716-b9fe-d73ccd6cb1e5\", \"type\": \"Line\"}}, \"id\": \"8378b8a4-ddc8-42d8-97cd-0f61edb9cfc1\", \"type\": \"GlyphRenderer\"}, {\"attributes\": {\"level\": \"overlay\", \"render_mode\": \"css\", \"line_dash\": [4, 4], \"plot\": null, \"top_units\": \"screen\", \"line_width\": {\"value\": 2}, \"line_color\": {\"value\": \"black\"}, \"left_units\": \"screen\", \"bottom_units\": \"screen\", \"line_alpha\": {\"value\": 1.0}, \"fill_color\": {\"value\": \"lightgrey\"}, \"fill_alpha\": {\"value\": 0.5}, \"right_units\": \"screen\"}, \"id\": \"f2b3da07-80f7-47a2-a5a2-7f362ed151bd\", \"type\": \"BoxAnnotation\"}, {\"attributes\": {}, \"id\": \"a94e821b-bff4-485a-888a-8474b89588e9\", \"type\": \"DatetimeTickFormatter\"}, {\"attributes\": {\"line_width\": {\"value\": 2}, \"y\": {\"field\": \"y\"}, \"x\": {\"field\": \"x\"}, \"line_color\": {\"value\": \"#1f77b4\"}, \"line_alpha\": {\"value\": 0.1}}, \"id\": \"ce7a59d1-27d2-428e-9f3f-85439d58b4a5\", \"type\": \"Line\"}, {\"attributes\": {\"plot\": {\"subtype\": \"Figure\", \"id\": \"5b82dd80-671f-471f-a515-aaafd61644c6\", \"type\": \"Plot\"}}, \"id\": \"4f450f4d-adb4-47bf-9b5d-4be380b6b069\", \"type\": \"PanTool\"}, {\"attributes\": {\"months\": [0, 1, 2, 3, 4, 5, 6, 7, 8, 9, 10, 11]}, \"id\": \"72a3a2b8-1fd0-496a-8bfd-598c4322b5d1\", \"type\": \"MonthsTicker\"}, {\"attributes\": {\"plot\": {\"subtype\": \"Figure\", \"id\": \"09d19a11-1e7d-4211-8f35-78368603c093\", \"type\": \"Plot\"}, \"ticker\": {\"id\": \"79f7d7d7-d599-4e95-ba18-9d0dd08e9401\", \"type\": \"DatetimeTicker\"}, \"formatter\": {\"id\": \"6b92fa48-32e4-43f0-af4a-8ebd31d4d2ca\", \"type\": \"DatetimeTickFormatter\"}}, \"id\": \"8299d041-56f4-4d06-986c-46e2a6351014\", \"type\": \"DatetimeAxis\"}, {\"attributes\": {}, \"id\": \"b3e32a12-fc8c-4558-b8e1-e7ba85d2397b\", \"type\": \"BasicTickFormatter\"}, {\"attributes\": {\"months\": [0, 1, 2, 3, 4, 5, 6, 7, 8, 9, 10, 11]}, \"id\": \"f5a85835-3742-4fd6-b80a-bcec3bbc604c\", \"type\": \"MonthsTicker\"}, {\"attributes\": {\"mantissas\": [1, 2, 4, 6, 8, 12], \"num_minor_ticks\": 0, \"max_interval\": 43200000.0, \"base\": 24, \"min_interval\": 3600000.0}, \"id\": \"62008cd1-1981-485f-9064-3c30ecec73f4\", \"type\": \"AdaptiveTicker\"}, {\"attributes\": {\"plot\": {\"subtype\": \"Figure\", \"id\": \"aa7976d0-9b17-4cfd-a254-37c067eaac3e\", \"type\": \"Plot\"}, \"ticker\": {\"id\": \"cf60a125-aea4-418b-9f68-146499aa0821\", \"type\": \"BasicTicker\"}, \"formatter\": {\"id\": \"5e8d4646-9b6c-493a-8a45-f03ec62e4b24\", \"type\": \"BasicTickFormatter\"}}, \"id\": \"95fdb742-7c5b-4db3-a95e-d126f00a5c40\", \"type\": \"LinearAxis\"}, {\"attributes\": {\"overlay\": {\"id\": \"4fcf1c6d-1034-4641-995a-f586bbe49b50\", \"type\": \"BoxAnnotation\"}, \"plot\": {\"subtype\": \"Figure\", \"id\": \"835e1e91-b208-4e2b-bd1a-961d2e813e08\", \"type\": \"Plot\"}}, \"id\": \"016d4864-9c9d-4081-b0c0-8e2060db69bc\", \"type\": \"BoxZoomTool\"}, {\"attributes\": {\"column_names\": [\"x\", \"y\"], \"data\": {\"x\": [1312156800000.0, 1314835200000.0, 1317427200000.0, 1320105600000.0, 1322697600000.0, 1325376000000.0, 1328054400000.0, 1330560000000.0, 1333238400000.0, 1335830400000.0, 1338508800000.0, 1341100800000.0, 1343779200000.0, 1346457600000.0, 1349049600000.0, 1351728000000.0, 1354320000000.0, 1356998400000.0, 1359676800000.0, 1362096000000.0, 1364774400000.0, 1367366400000.0, 1370044800000.0, 1372636800000.0, 1375315200000.0, 1377993600000.0, 1380585600000.0, 1383264000000.0, 1385856000000.0, 1388534400000.0, 1391212800000.0, 1393632000000.0, 1396310400000.0, 1398902400000.0, 1401580800000.0, 1404172800000.0, 1406851200000.0, 1409529600000.0, 1412121600000.0, 1414800000000.0, 1417392000000.0, 1420070400000.0, 1422748800000.0, 1425168000000.0, 1427846400000.0, 1430438400000.0, 1433116800000.0, 1435708800000.0, 1438387200000.0, 1441065600000.0, 1443657600000.0, 1446336000000.0, 1448928000000.0, 1451606400000.0, 1454284800000.0], \"y\": [0.0, 0.0, 0.0, 0.0, 0.0, 1.0, 0.0, 0.0, 1.0, 2.0, 0.0, 11.0, 4.0, 1.0, 1.0, 1.0, 3.0, 11.0, 2.0, 6.0, 7.0, 3.0, 4.0, 4.0, 3.0, 1.0, 2.0, 1.0, 2.0, 6.0, 2.0, 5.0, 3.0, 5.0, 1.0, 0.0, 6.0, 3.0, 5.0, 0.0, 1.0, 0.0, 3.0, 5.0, 0.0, 0.0, 2.0, 0.0, 37.0, 16.0, 5.0, 1.0, 4.0, 2.0, 10.0]}, \"callback\": null}, \"id\": \"a11c4587-69c3-412b-b3ac-ec4d434b51a0\", \"type\": \"ColumnDataSource\"}, {\"attributes\": {\"data_source\": {\"id\": \"952b0c75-5cf7-45c8-809a-8ed19099a52c\", \"type\": \"ColumnDataSource\"}, \"nonselection_glyph\": {\"id\": \"ce7a59d1-27d2-428e-9f3f-85439d58b4a5\", \"type\": \"Line\"}, \"selection_glyph\": null, \"hover_glyph\": null, \"glyph\": {\"id\": \"13303991-be98-481a-8c4b-340dae52ea7b\", \"type\": \"Line\"}}, \"id\": \"86f85f10-246e-4451-9328-9a6711c715df\", \"type\": \"GlyphRenderer\"}, {\"attributes\": {\"level\": \"overlay\", \"render_mode\": \"css\", \"line_dash\": [4, 4], \"plot\": null, \"top_units\": \"screen\", \"line_width\": {\"value\": 2}, \"line_color\": {\"value\": \"black\"}, \"left_units\": \"screen\", \"bottom_units\": \"screen\", \"line_alpha\": {\"value\": 1.0}, \"fill_color\": {\"value\": \"lightgrey\"}, \"fill_alpha\": {\"value\": 0.5}, \"right_units\": \"screen\"}, \"id\": \"3c9ef55c-b9d6-4e98-8284-28c492ae7aab\", \"type\": \"BoxAnnotation\"}, {\"attributes\": {}, \"id\": \"9aad782a-483c-417e-b2ac-bc18894f6eb2\", \"type\": \"BasicTickFormatter\"}, {\"attributes\": {}, \"id\": \"55f8a5b9-5fa0-4c65-ba55-fb347fc69355\", \"type\": \"YearsTicker\"}, {\"attributes\": {\"days\": [1, 8, 15, 22]}, \"id\": \"e739cec0-8fbd-48e3-9898-6895c8f6ca44\", \"type\": \"DaysTicker\"}, {\"attributes\": {\"months\": [0, 6]}, \"id\": \"052d2f36-9024-4c03-9f63-8c07e4cadf1c\", \"type\": \"MonthsTicker\"}, {\"attributes\": {\"callback\": null}, \"id\": \"46aa58fb-617b-4049-bfde-27f7d7849da8\", \"type\": \"DataRange1d\"}, {\"attributes\": {\"column_names\": [\"x\", \"y\"], \"data\": {\"x\": [1312156800000.0, 1314835200000.0, 1317427200000.0, 1320105600000.0, 1322697600000.0, 1325376000000.0, 1328054400000.0, 1330560000000.0, 1333238400000.0, 1335830400000.0, 1338508800000.0, 1341100800000.0, 1343779200000.0, 1346457600000.0, 1349049600000.0, 1351728000000.0, 1354320000000.0, 1356998400000.0, 1359676800000.0, 1362096000000.0, 1364774400000.0, 1367366400000.0, 1370044800000.0, 1372636800000.0, 1375315200000.0, 1377993600000.0, 1380585600000.0, 1383264000000.0, 1385856000000.0, 1388534400000.0, 1391212800000.0, 1393632000000.0, 1396310400000.0, 1398902400000.0, 1401580800000.0, 1404172800000.0, 1406851200000.0, 1409529600000.0, 1412121600000.0, 1414800000000.0, 1417392000000.0, 1420070400000.0, 1422748800000.0, 1425168000000.0, 1427846400000.0, 1430438400000.0, 1433116800000.0, 1435708800000.0, 1438387200000.0, 1441065600000.0, 1443657600000.0, 1446336000000.0, 1448928000000.0, 1451606400000.0, 1454284800000.0], \"y\": [9, 4, 4, 9, 5, 5, 7, 5, 5, 10, 2, 3, 3, 5, 9, 8, 2, 11, 5, 5, 6, 11, 8, 14, 7, 6, 5, 6, 6, 9, 5, 9, 3, 10, 4, 7, 2, 16, 8, 5, 6, 8, 6, 6, 10, 24, 11, 7, 10, 7, 12, 7, 4, 12, 5]}, \"callback\": null}, \"id\": \"37f69ff2-2a65-408c-9afc-5c47299b064f\", \"type\": \"ColumnDataSource\"}, {\"attributes\": {\"num_minor_ticks\": 0, \"max_interval\": 500.0}, \"id\": \"2fab1534-5bf5-44d6-b261-5372ee012a36\", \"type\": \"AdaptiveTicker\"}, {\"attributes\": {\"data_source\": {\"id\": \"7d8096d8-27cd-46b6-903a-7d3a9298b291\", \"type\": \"ColumnDataSource\"}, \"nonselection_glyph\": {\"id\": \"06cff9d0-d45f-42b8-aa40-85868eb96636\", \"type\": \"Line\"}, \"selection_glyph\": null, \"hover_glyph\": null, \"glyph\": {\"id\": \"e0a3bb60-2c47-4e11-b1bb-9dd95ef8d884\", \"type\": \"Line\"}}, \"id\": \"57901e3f-1b6a-441e-9061-3d6067161390\", \"type\": \"GlyphRenderer\"}, {\"attributes\": {\"num_minor_ticks\": 0, \"max_interval\": 500.0}, \"id\": \"8c0a9a6a-9e83-421b-b714-ec100a5a1c9b\", \"type\": \"AdaptiveTicker\"}, {\"attributes\": {}, \"id\": \"cf60a125-aea4-418b-9f68-146499aa0821\", \"type\": \"BasicTicker\"}, {\"attributes\": {\"days\": [1, 15]}, \"id\": \"7c4fb379-ac09-441f-93b6-ced5f0a33332\", \"type\": \"DaysTicker\"}, {\"attributes\": {\"callback\": null}, \"id\": \"c6bb404c-f666-4f21-8423-f21d9206c4b9\", \"type\": \"DataRange1d\"}, {\"attributes\": {\"overlay\": {\"id\": \"f2b3da07-80f7-47a2-a5a2-7f362ed151bd\", \"type\": \"BoxAnnotation\"}, \"plot\": {\"subtype\": \"Figure\", \"id\": \"ac4065e4-8e62-480c-83d3-9534c460b90a\", \"type\": \"Plot\"}}, \"id\": \"48a326b2-a7ff-46fd-b83b-abe90a254b8b\", \"type\": \"BoxZoomTool\"}, {\"attributes\": {\"ticker\": {\"id\": \"3a8ae1db-1471-4f1a-afee-182975d6251f\", \"type\": \"DatetimeTicker\"}, \"plot\": {\"subtype\": \"Figure\", \"id\": \"76e6af38-8d77-4ed2-8c6e-caef0e88cb7c\", \"type\": \"Plot\"}}, \"id\": \"5812be6f-6893-4469-8f75-2698906dbd62\", \"type\": \"Grid\"}, {\"attributes\": {\"plot\": {\"subtype\": \"Figure\", \"id\": \"09d19a11-1e7d-4211-8f35-78368603c093\", \"type\": \"Plot\"}}, \"id\": \"7e21bf99-bcda-489e-9e5e-fdcfa558b206\", \"type\": \"PreviewSaveTool\"}, {\"attributes\": {\"plot\": {\"subtype\": \"Figure\", \"id\": \"ac4065e4-8e62-480c-83d3-9534c460b90a\", \"type\": \"Plot\"}}, \"id\": \"1b18e0c6-ce77-4928-9007-e4315174693b\", \"type\": \"ResizeTool\"}, {\"attributes\": {\"column_names\": [\"x\", \"y\"], \"data\": {\"x\": [1312156800000.0, 1314835200000.0, 1317427200000.0, 1320105600000.0, 1322697600000.0, 1325376000000.0, 1328054400000.0, 1330560000000.0, 1333238400000.0, 1335830400000.0, 1338508800000.0, 1341100800000.0, 1343779200000.0, 1346457600000.0, 1349049600000.0, 1351728000000.0, 1354320000000.0, 1356998400000.0, 1359676800000.0, 1362096000000.0, 1364774400000.0, 1367366400000.0, 1370044800000.0, 1372636800000.0, 1375315200000.0, 1377993600000.0, 1380585600000.0, 1383264000000.0, 1385856000000.0, 1388534400000.0, 1391212800000.0, 1393632000000.0, 1396310400000.0, 1398902400000.0, 1401580800000.0, 1404172800000.0, 1406851200000.0, 1409529600000.0, 1412121600000.0, 1414800000000.0, 1417392000000.0, 1420070400000.0, 1422748800000.0, 1425168000000.0, 1427846400000.0, 1430438400000.0, 1433116800000.0, 1435708800000.0, 1438387200000.0, 1441065600000.0, 1443657600000.0, 1446336000000.0, 1448928000000.0, 1451606400000.0, 1454284800000.0], \"y\": [9, 4, 4, 9, 5, 5, 7, 5, 5, 10, 2, 3, 3, 5, 9, 8, 2, 11, 5, 5, 6, 11, 8, 14, 7, 6, 5, 6, 6, 9, 5, 9, 3, 10, 4, 7, 2, 16, 8, 5, 6, 8, 6, 6, 10, 24, 11, 7, 10, 7, 12, 7, 4, 12, 5]}, \"callback\": null}, \"id\": \"4b81540b-01e0-4046-90b7-47d610cac666\", \"type\": \"ColumnDataSource\"}, {\"attributes\": {\"plot\": {\"subtype\": \"Figure\", \"id\": \"4a4cfd0f-2de9-4cc0-8a95-425aa8f22a24\", \"type\": \"Plot\"}}, \"id\": \"9ae96806-a2d7-411a-b126-25b43dc92d34\", \"type\": \"WheelZoomTool\"}, {\"attributes\": {\"plot\": {\"subtype\": \"Figure\", \"id\": \"835e1e91-b208-4e2b-bd1a-961d2e813e08\", \"type\": \"Plot\"}}, \"id\": \"c1490548-ae93-468d-96d6-0c28364be6a2\", \"type\": \"PreviewSaveTool\"}, {\"attributes\": {}, \"id\": \"bcf2ec0c-02f2-4025-a0dc-12fa9a09bc67\", \"type\": \"ToolEvents\"}, {\"attributes\": {\"months\": [0, 4, 8]}, \"id\": \"d1ab3a69-5db8-4a95-bcc0-cb02262a673a\", \"type\": \"MonthsTicker\"}, {\"attributes\": {\"data_source\": {\"id\": \"fa34a101-c8fd-4918-87da-5096ae928622\", \"type\": \"ColumnDataSource\"}, \"nonselection_glyph\": {\"id\": \"7c90f354-e105-4dd1-8f94-1934ef5e7c8b\", \"type\": \"Line\"}, \"selection_glyph\": null, \"hover_glyph\": null, \"glyph\": {\"id\": \"fa287c0f-897a-494c-865e-6c5c53ffd953\", \"type\": \"Line\"}}, \"id\": \"26168a48-3aee-4f07-a986-fdbc8e536579\", \"type\": \"GlyphRenderer\"}, {\"attributes\": {\"dimension\": 1, \"ticker\": {\"id\": \"d82995c2-7cf2-4344-ac5b-183499fc28bf\", \"type\": \"BasicTicker\"}, \"plot\": {\"subtype\": \"Figure\", \"id\": \"835e1e91-b208-4e2b-bd1a-961d2e813e08\", \"type\": \"Plot\"}}, \"id\": \"74661263-2783-471e-a780-e0939483b6f1\", \"type\": \"Grid\"}, {\"attributes\": {\"plot\": {\"subtype\": \"Figure\", \"id\": \"5b82dd80-671f-471f-a515-aaafd61644c6\", \"type\": \"Plot\"}, \"ticker\": {\"id\": \"93ea9e8e-24aa-45e8-ad16-414afbca7484\", \"type\": \"BasicTicker\"}, \"formatter\": {\"id\": \"dd15a642-5d4d-4207-83c3-f46fd2b66d4b\", \"type\": \"BasicTickFormatter\"}}, \"id\": \"6cb08c1e-5dcc-4893-befc-a10723a34e9a\", \"type\": \"LinearAxis\"}, {\"attributes\": {\"days\": [1, 8, 15, 22]}, \"id\": \"14eddf2b-addc-486f-9edc-e0baecd484fc\", \"type\": \"DaysTicker\"}, {\"attributes\": {\"days\": [1, 8, 15, 22]}, \"id\": \"ceacc635-d626-45e6-b067-9c4a9bb46233\", \"type\": \"DaysTicker\"}, {\"attributes\": {\"days\": [1, 2, 3, 4, 5, 6, 7, 8, 9, 10, 11, 12, 13, 14, 15, 16, 17, 18, 19, 20, 21, 22, 23, 24, 25, 26, 27, 28, 29, 30, 31]}, \"id\": \"3f151c0f-9fef-44b4-84f0-452636c35fe9\", \"type\": \"DaysTicker\"}, {\"attributes\": {\"line_width\": {\"value\": 2}, \"x\": {\"field\": \"x\"}, \"y\": {\"field\": \"y\"}}, \"id\": \"e31b4307-13e6-4c03-874b-6b7b7c8199c4\", \"type\": \"Line\"}, {\"attributes\": {\"ticker\": {\"id\": \"78e16999-ab69-43da-ac8c-8f98c1bfc62f\", \"type\": \"DatetimeTicker\"}, \"plot\": {\"subtype\": \"Figure\", \"id\": \"5590cfb8-2c89-4073-bb9d-0ec73f2a7569\", \"type\": \"Plot\"}}, \"id\": \"4bac695a-ce3d-492a-841d-942a6e07fbbc\", \"type\": \"Grid\"}, {\"attributes\": {\"column_names\": [\"x\", \"y\"], \"data\": {\"x\": [1312156800000.0, 1314835200000.0, 1317427200000.0, 1320105600000.0, 1322697600000.0, 1325376000000.0, 1328054400000.0, 1330560000000.0, 1333238400000.0, 1335830400000.0, 1338508800000.0, 1341100800000.0, 1343779200000.0, 1346457600000.0, 1349049600000.0, 1351728000000.0, 1354320000000.0, 1356998400000.0, 1359676800000.0, 1362096000000.0, 1364774400000.0, 1367366400000.0, 1370044800000.0, 1372636800000.0, 1375315200000.0, 1377993600000.0, 1380585600000.0, 1383264000000.0, 1385856000000.0, 1388534400000.0, 1391212800000.0, 1393632000000.0, 1396310400000.0, 1398902400000.0, 1401580800000.0, 1404172800000.0, 1406851200000.0, 1409529600000.0, 1412121600000.0, 1414800000000.0, 1417392000000.0, 1420070400000.0, 1422748800000.0, 1425168000000.0, 1427846400000.0, 1430438400000.0, 1433116800000.0, 1435708800000.0, 1438387200000.0, 1441065600000.0, 1443657600000.0, 1446336000000.0, 1448928000000.0, 1451606400000.0, 1454284800000.0], \"y\": [0.0, 0.0, 0.0, 0.0, 0.0, 1.0, 0.0, 0.0, 1.0, 2.0, 0.0, 11.0, 4.0, 1.0, 1.0, 1.0, 3.0, 11.0, 2.0, 6.0, 7.0, 3.0, 4.0, 4.0, 3.0, 1.0, 2.0, 1.0, 2.0, 6.0, 2.0, 5.0, 3.0, 5.0, 1.0, 0.0, 6.0, 3.0, 5.0, 0.0, 1.0, 0.0, 3.0, 5.0, 0.0, 0.0, 2.0, 0.0, 37.0, 16.0, 5.0, 1.0, 4.0, 2.0, 10.0]}, \"callback\": null}, \"id\": \"5560b9be-bb45-4867-b989-4a87ecd8437c\", \"type\": \"ColumnDataSource\"}, {\"attributes\": {\"num_minor_ticks\": 0, \"max_interval\": 500.0}, \"id\": \"63fc2662-5a3f-4716-996b-465e2abd324f\", \"type\": \"AdaptiveTicker\"}, {\"attributes\": {\"months\": [0, 2, 4, 6, 8, 10]}, \"id\": \"3cd33709-29f6-4500-9aa1-cd85d9019bb6\", \"type\": \"MonthsTicker\"}, {\"attributes\": {\"plot\": {\"subtype\": \"Figure\", \"id\": \"4a4cfd0f-2de9-4cc0-8a95-425aa8f22a24\", \"type\": \"Plot\"}}, \"id\": \"cb44f96f-6950-4b4b-afc4-ee08df078e9c\", \"type\": \"PanTool\"}, {\"attributes\": {\"mantissas\": [1, 2, 4, 6, 8, 12], \"num_minor_ticks\": 0, \"max_interval\": 43200000.0, \"base\": 24, \"min_interval\": 3600000.0}, \"id\": \"445396ac-d9d7-4321-b94c-ad48368d639b\", \"type\": \"AdaptiveTicker\"}, {\"attributes\": {\"days\": [1, 15]}, \"id\": \"a9226097-0658-4146-86cc-a3e6fb6a5f50\", \"type\": \"DaysTicker\"}, {\"attributes\": {\"months\": [0, 1, 2, 3, 4, 5, 6, 7, 8, 9, 10, 11]}, \"id\": \"4796e821-3d91-46cd-b7cf-409dd7c98adc\", \"type\": \"MonthsTicker\"}, {\"attributes\": {\"line_width\": {\"value\": 2}, \"x\": {\"field\": \"x\"}, \"y\": {\"field\": \"y\"}}, \"id\": \"6af815ff-ae24-467a-b171-02c37491104c\", \"type\": \"Line\"}, {\"attributes\": {\"plot\": {\"subtype\": \"Figure\", \"id\": \"09d19a11-1e7d-4211-8f35-78368603c093\", \"type\": \"Plot\"}}, \"id\": \"9e7f0010-c061-40a8-b553-2c09c5b03b62\", \"type\": \"ResizeTool\"}, {\"attributes\": {\"line_width\": {\"value\": 2}, \"y\": {\"field\": \"y\"}, \"x\": {\"field\": \"x\"}, \"line_color\": {\"value\": \"#1f77b4\"}, \"line_alpha\": {\"value\": 0.1}}, \"id\": \"53cd9d85-2eab-4a79-9721-e7997e14d3a6\", \"type\": \"Line\"}, {\"attributes\": {\"line_width\": {\"value\": 2}, \"x\": {\"field\": \"x\"}, \"line_color\": {\"value\": \"red\"}, \"y\": {\"field\": \"y\"}}, \"id\": \"4df7c84b-4f92-4398-8cbd-7eeeb959cfd5\", \"type\": \"Line\"}, {\"attributes\": {}, \"id\": \"5e8d4646-9b6c-493a-8a45-f03ec62e4b24\", \"type\": \"BasicTickFormatter\"}, {\"attributes\": {\"overlay\": {\"id\": \"a27abb44-6b57-4d24-81bf-a12b5c80e2ea\", \"type\": \"BoxAnnotation\"}, \"plot\": {\"subtype\": \"Figure\", \"id\": \"bc546e03-be07-461a-a028-82c1bd967748\", \"type\": \"Plot\"}}, \"id\": \"3345136e-5a76-4bf9-8fb6-926ed4f9c2e5\", \"type\": \"BoxZoomTool\"}, {\"attributes\": {\"mantissas\": [1, 2, 5, 10, 15, 20, 30], \"num_minor_ticks\": 0, \"max_interval\": 1800000.0, \"base\": 60, \"min_interval\": 1000.0}, \"id\": \"2a4ee891-811a-4bf1-9322-ad7a6e0e96d7\", \"type\": \"AdaptiveTicker\"}, {\"attributes\": {\"line_width\": {\"value\": 2}, \"x\": {\"field\": \"x\"}, \"line_color\": {\"value\": \"green\"}, \"y\": {\"field\": \"y\"}}, \"id\": \"161799b5-e208-4c84-9fc3-36251e347ba2\", \"type\": \"Line\"}, {\"attributes\": {\"months\": [0, 6]}, \"id\": \"ccb4f78e-703f-4f97-bd4b-b1866fd6c026\", \"type\": \"MonthsTicker\"}, {\"attributes\": {\"data_source\": {\"id\": \"9ae3aad0-4f13-495f-95c7-a4bf70c91846\", \"type\": \"ColumnDataSource\"}, \"nonselection_glyph\": {\"id\": \"84c5d27e-cce4-4549-adf3-f713751539ed\", \"type\": \"Line\"}, \"selection_glyph\": null, \"hover_glyph\": null, \"glyph\": {\"id\": \"165dd285-6632-4048-8d0b-e1cd380ba1cf\", \"type\": \"Line\"}}, \"id\": \"9565a47b-f914-4c50-b774-018c3aa57436\", \"type\": \"GlyphRenderer\"}, {\"attributes\": {\"tools\": [{\"id\": \"4f450f4d-adb4-47bf-9b5d-4be380b6b069\", \"type\": \"PanTool\"}, {\"id\": \"69948918-345c-4f37-9ae3-2ba5152992f4\", \"type\": \"WheelZoomTool\"}, {\"id\": \"d9e0b167-d95b-48eb-8754-822cee95ec5d\", \"type\": \"BoxZoomTool\"}, {\"id\": \"59e610ce-ad31-427b-b6db-7d9dfcdbb3db\", \"type\": \"PreviewSaveTool\"}, {\"id\": \"d191fa97-789a-4c72-a2ec-f9b868762003\", \"type\": \"ResizeTool\"}, {\"id\": \"12e3069d-b700-406d-8fb1-1f81c4dabf2d\", \"type\": \"ResetTool\"}, {\"id\": \"f81f27d5-23e2-4332-b30c-b4042520032f\", \"type\": \"HelpTool\"}], \"left\": [{\"id\": \"6cb08c1e-5dcc-4893-befc-a10723a34e9a\", \"type\": \"LinearAxis\"}], \"renderers\": [{\"id\": \"9f2135e1-25e9-49fe-8e0f-5e6245311cc9\", \"type\": \"DatetimeAxis\"}, {\"id\": \"f6491178-e5fe-4a38-9e34-653ade4a1ee5\", \"type\": \"Grid\"}, {\"id\": \"6cb08c1e-5dcc-4893-befc-a10723a34e9a\", \"type\": \"LinearAxis\"}, {\"id\": \"47af34ae-9b0f-446d-bc56-67eb52bbcea1\", \"type\": \"Grid\"}, {\"id\": \"078e4a7f-ab1c-4bb6-844f-96815aeffa38\", \"type\": \"BoxAnnotation\"}, {\"id\": \"7459d9de-a6c8-462b-85c0-1bbfe99b8490\", \"type\": \"GlyphRenderer\"}, {\"id\": \"59191454-4940-49a5-8d1a-411b5c44d382\", \"type\": \"GlyphRenderer\"}, {\"id\": \"19ce9541-501b-4da3-8124-e9ae5c735b3d\", \"type\": \"GlyphRenderer\"}], \"below\": [{\"id\": \"9f2135e1-25e9-49fe-8e0f-5e6245311cc9\", \"type\": \"DatetimeAxis\"}], \"title_text_font_size\": {\"value\": \"18px\"}, \"y_range\": {\"id\": \"d86c3c0f-bec7-4e90-b88d-cc378f59c830\", \"type\": \"DataRange1d\"}, \"plot_height\": 500, \"x_range\": {\"id\": \"1f9380e3-9bc7-47c4-ba83-9eb49c1f8c44\", \"type\": \"DataRange1d\"}, \"tool_events\": {\"id\": \"0ba895a2-2576-477e-b236-6affe0ca727f\", \"type\": \"ToolEvents\"}, \"title\": \"Turnover at the Wikimedia Foundation\", \"plot_width\": 960}, \"id\": \"5b82dd80-671f-471f-a515-aaafd61644c6\", \"type\": \"Plot\", \"subtype\": \"Figure\"}, {\"attributes\": {\"plot\": {\"subtype\": \"Figure\", \"id\": \"cf6e146d-8e09-43d7-89a8-3f409d17822c\", \"type\": \"Plot\"}, \"ticker\": {\"id\": \"66c25987-92fa-4917-be34-a279c04270b7\", \"type\": \"BasicTicker\"}, \"formatter\": {\"id\": \"a3e4d977-d28e-4cca-a3af-b2ac5a86d63b\", \"type\": \"BasicTickFormatter\"}}, \"id\": \"c3aa145f-ab06-4ee7-80b9-7d3c30c66ac6\", \"type\": \"LinearAxis\"}, {\"attributes\": {\"data_source\": {\"id\": \"1d0575f3-5a32-4c4c-bf68-eb12b1d246a2\", \"type\": \"ColumnDataSource\"}, \"nonselection_glyph\": {\"id\": \"918d9bec-0d70-40dc-a881-8ce12b431470\", \"type\": \"Line\"}, \"selection_glyph\": null, \"hover_glyph\": null, \"glyph\": {\"id\": \"e0ce9fc1-bf49-4085-a277-e2da12262216\", \"type\": \"Line\"}}, \"id\": \"ab07e42d-5c3a-4444-b3f9-aad86b32a596\", \"type\": \"GlyphRenderer\"}, {\"attributes\": {\"plot\": {\"subtype\": \"Figure\", \"id\": \"5590cfb8-2c89-4073-bb9d-0ec73f2a7569\", \"type\": \"Plot\"}}, \"id\": \"e86e7c12-d6af-4394-9f95-997fb23615d5\", \"type\": \"ResizeTool\"}, {\"attributes\": {\"days\": [1, 15]}, \"id\": \"c5d668dc-b86f-40aa-8230-701cc802e92a\", \"type\": \"DaysTicker\"}, {\"attributes\": {\"plot\": {\"subtype\": \"Figure\", \"id\": \"98d7fc6e-1ac5-4bb9-8585-c2860b3344f4\", \"type\": \"Plot\"}}, \"id\": \"866ef464-afbb-476d-977a-5d755fb6d3dc\", \"type\": \"HelpTool\"}, {\"attributes\": {\"ticker\": {\"id\": \"d03d096f-7f8c-44ed-92f3-2f44663b71ee\", \"type\": \"DatetimeTicker\"}, \"plot\": {\"subtype\": \"Figure\", \"id\": \"4a4cfd0f-2de9-4cc0-8a95-425aa8f22a24\", \"type\": \"Plot\"}}, \"id\": \"4dc89f79-88ae-423e-8db6-986df0ac951c\", \"type\": \"Grid\"}, {\"attributes\": {\"plot\": {\"subtype\": \"Figure\", \"id\": \"48023c29-b7dc-47db-bdb5-b64ba4deea68\", \"type\": \"Plot\"}, \"ticker\": {\"id\": \"b7d6cfd2-2fe1-4224-9592-1dc6ca3d01ec\", \"type\": \"DatetimeTicker\"}, \"formatter\": {\"id\": \"01d0a51c-d92f-4ba1-97af-363958efda3e\", \"type\": \"DatetimeTickFormatter\"}}, \"id\": \"b39dfaad-a43e-4f24-8b68-e4f60b68f62e\", \"type\": \"DatetimeAxis\"}, {\"attributes\": {\"data_source\": {\"id\": \"f8b65cc9-6547-4fb8-8723-584f4e993d77\", \"type\": \"ColumnDataSource\"}, \"nonselection_glyph\": {\"id\": \"efe8da79-6135-4d6f-9edb-17b99cac10dd\", \"type\": \"Line\"}, \"selection_glyph\": null, \"hover_glyph\": null, \"glyph\": {\"id\": \"86c31b57-ca92-49cc-8506-6a22f8a03c82\", \"type\": \"Line\"}}, \"id\": \"c44507f6-d881-4936-8828-5dad3a06f0fc\", \"type\": \"GlyphRenderer\"}, {\"attributes\": {\"data_source\": {\"id\": \"3666471d-ef28-4a50-9bb0-e44df54b6a5c\", \"type\": \"ColumnDataSource\"}, \"nonselection_glyph\": {\"id\": \"634ed79a-82c3-4c38-b760-fca62ed96022\", \"type\": \"Line\"}, \"selection_glyph\": null, \"hover_glyph\": null, \"glyph\": {\"id\": \"5208bb35-a1f6-44b2-9157-f32f05ae41b1\", \"type\": \"Line\"}}, \"id\": \"54ccd926-e12d-44e8-a4c0-a3b464b447a5\", \"type\": \"GlyphRenderer\"}, {\"attributes\": {\"line_width\": {\"value\": 2}, \"y\": {\"field\": \"y\"}, \"x\": {\"field\": \"x\"}, \"line_color\": {\"value\": \"#1f77b4\"}, \"line_alpha\": {\"value\": 0.1}}, \"id\": \"19afa5de-cff9-42f8-ac24-ecde89176753\", \"type\": \"Line\"}, {\"attributes\": {\"plot\": {\"subtype\": \"Figure\", \"id\": \"52bb46b3-d49a-40bb-8cfe-b2d8bdd5390c\", \"type\": \"Plot\"}}, \"id\": \"c5e40a2d-fead-4e61-bfac-b05ed26753ab\", \"type\": \"PanTool\"}, {\"attributes\": {\"days\": [1, 8, 15, 22]}, \"id\": \"38ede08b-c88f-4235-9409-f6607a831ddf\", \"type\": \"DaysTicker\"}, {\"attributes\": {\"plot\": {\"subtype\": \"Figure\", \"id\": \"bc546e03-be07-461a-a028-82c1bd967748\", \"type\": \"Plot\"}}, \"id\": \"ff2738fc-de04-495d-9645-3c7d6b60417a\", \"type\": \"ResetTool\"}, {\"attributes\": {\"tools\": [{\"id\": \"b67164ef-0c79-4168-91a1-8f71e77dd5e1\", \"type\": \"PanTool\"}, {\"id\": \"df846b1d-27e2-43d0-a098-4d5706fa0fea\", \"type\": \"WheelZoomTool\"}, {\"id\": \"8412dc6c-de9a-4435-ae64-425d24b05a42\", \"type\": \"BoxZoomTool\"}, {\"id\": \"ddd80c6f-2e97-451e-a28d-140acb971a08\", \"type\": \"PreviewSaveTool\"}, {\"id\": \"a9a2c826-f8b4-4101-96e6-25a53464d9b1\", \"type\": \"ResizeTool\"}, {\"id\": \"64c71c12-06af-407b-b0e9-c57cefe580f7\", \"type\": \"ResetTool\"}, {\"id\": \"8f713a1b-490f-4fc2-abfd-d5ab22f922c7\", \"type\": \"HelpTool\"}], \"left\": [{\"id\": \"563d5f16-eedc-4784-a2c0-9f2abcac7b96\", \"type\": \"LinearAxis\"}], \"renderers\": [{\"id\": \"b39dfaad-a43e-4f24-8b68-e4f60b68f62e\", \"type\": \"DatetimeAxis\"}, {\"id\": \"a7d20c1b-3b96-40df-a948-213f37a2aab1\", \"type\": \"Grid\"}, {\"id\": \"563d5f16-eedc-4784-a2c0-9f2abcac7b96\", \"type\": \"LinearAxis\"}, {\"id\": \"6fbc073b-12df-41b3-b0e5-e5f682abb3ce\", \"type\": \"Grid\"}, {\"id\": \"c1dab686-18ae-4f1a-a28e-d5f1296ba26f\", \"type\": \"BoxAnnotation\"}, {\"id\": \"e84e5865-1fa4-4324-88e9-7253f9bc21fc\", \"type\": \"GlyphRenderer\"}, {\"id\": \"5c8336f2-3641-4903-ab0c-4b58d7ab140c\", \"type\": \"GlyphRenderer\"}, {\"id\": \"e563c47e-7eda-45ee-bb7e-904df0397fe2\", \"type\": \"GlyphRenderer\"}], \"below\": [{\"id\": \"b39dfaad-a43e-4f24-8b68-e4f60b68f62e\", \"type\": \"DatetimeAxis\"}], \"title_text_font_size\": {\"value\": \"18px\"}, \"y_range\": {\"id\": \"46aa58fb-617b-4049-bfde-27f7d7849da8\", \"type\": \"DataRange1d\"}, \"plot_height\": 500, \"x_range\": {\"id\": \"47dc7b9c-fd62-4a29-bd47-9dbda3491fda\", \"type\": \"DataRange1d\"}, \"tool_events\": {\"id\": \"bcf2ec0c-02f2-4025-a0dc-12fa9a09bc67\", \"type\": \"ToolEvents\"}, \"title\": \"Turnover at the Wikimedia Foundation\", \"plot_width\": 960}, \"id\": \"48023c29-b7dc-47db-bdb5-b64ba4deea68\", \"type\": \"Plot\", \"subtype\": \"Figure\"}, {\"attributes\": {\"y\": {\"field\": \"y\"}, \"x\": {\"field\": \"x\"}, \"line_color\": {\"value\": \"#1f77b4\"}, \"line_alpha\": {\"value\": 0.1}}, \"id\": \"a4638d5b-13d5-4877-810f-2957938d8506\", \"type\": \"Line\"}, {\"attributes\": {\"line_width\": {\"value\": 2}, \"y\": {\"field\": \"y\"}, \"x\": {\"field\": \"x\"}, \"line_color\": {\"value\": \"#1f77b4\"}, \"line_alpha\": {\"value\": 0.1}}, \"id\": \"b75f9eb9-3389-4585-ac30-0ba211229619\", \"type\": \"Line\"}, {\"attributes\": {\"mantissas\": [1, 2, 5, 10, 15, 20, 30], \"num_minor_ticks\": 0, \"max_interval\": 1800000.0, \"base\": 60, \"min_interval\": 1000.0}, \"id\": \"8d1749d2-6394-4dc2-a995-eae4d967f281\", \"type\": \"AdaptiveTicker\"}, {\"attributes\": {\"months\": [0, 1, 2, 3, 4, 5, 6, 7, 8, 9, 10, 11]}, \"id\": \"a3bd98b9-f2bb-4d88-9d7a-b11f2223140e\", \"type\": \"MonthsTicker\"}, {\"attributes\": {}, \"id\": \"d82995c2-7cf2-4344-ac5b-183499fc28bf\", \"type\": \"BasicTicker\"}, {\"attributes\": {\"days\": [1, 2, 3, 4, 5, 6, 7, 8, 9, 10, 11, 12, 13, 14, 15, 16, 17, 18, 19, 20, 21, 22, 23, 24, 25, 26, 27, 28, 29, 30, 31]}, \"id\": \"baa1d53e-4cfc-448d-b731-c5dabab7ae00\", \"type\": \"DaysTicker\"}, {\"attributes\": {\"x\": {\"field\": \"x\"}, \"line_color\": {\"value\": \"#1f77b4\"}, \"y\": {\"field\": \"y\"}}, \"id\": \"0ea1817c-eaf2-446a-8954-2e9f6fed5208\", \"type\": \"Line\"}, {\"attributes\": {\"months\": [0, 2, 4, 6, 8, 10]}, \"id\": \"0721379e-30f2-43c6-8bd7-c8372a5e1bd3\", \"type\": \"MonthsTicker\"}, {\"attributes\": {\"plot\": {\"subtype\": \"Figure\", \"id\": \"52bb46b3-d49a-40bb-8cfe-b2d8bdd5390c\", \"type\": \"Plot\"}, \"ticker\": {\"id\": \"0895ff29-25b5-4215-a325-1056a3fbd8b9\", \"type\": \"BasicTicker\"}, \"formatter\": {\"id\": \"4edb498e-70f5-4550-8a5c-fa730160e955\", \"type\": \"BasicTickFormatter\"}}, \"id\": \"1d3d3938-ee05-4873-adc6-54dad99d4b54\", \"type\": \"LinearAxis\"}, {\"attributes\": {\"callback\": null}, \"id\": \"47dc7b9c-fd62-4a29-bd47-9dbda3491fda\", \"type\": \"DataRange1d\"}, {\"attributes\": {\"plot\": {\"subtype\": \"Figure\", \"id\": \"cf6e146d-8e09-43d7-89a8-3f409d17822c\", \"type\": \"Plot\"}}, \"id\": \"82ab6fde-ffac-449a-a710-f08f1b1d28f2\", \"type\": \"PreviewSaveTool\"}, {\"attributes\": {\"tools\": [{\"id\": \"78fc5260-7b24-4e06-b82f-fc9b0c559e6c\", \"type\": \"PanTool\"}, {\"id\": \"6746c82c-93d5-42aa-8467-1292f53fd6ee\", \"type\": \"WheelZoomTool\"}, {\"id\": \"81334f1b-ec32-4fe2-9a04-de6d59a998b3\", \"type\": \"BoxZoomTool\"}, {\"id\": \"d2cfc169-c806-401a-b441-f850be9f30e7\", \"type\": \"PreviewSaveTool\"}, {\"id\": \"e86e7c12-d6af-4394-9f95-997fb23615d5\", \"type\": \"ResizeTool\"}, {\"id\": \"9a705dd0-4275-4777-989f-b7158d5dcfe7\", \"type\": \"ResetTool\"}, {\"id\": \"75ba2f03-c818-4552-a213-0169f0ad5f55\", \"type\": \"HelpTool\"}], \"left\": [{\"id\": \"425d6f3b-bd24-4557-9e04-6248e1fa3890\", \"type\": \"LinearAxis\"}], \"renderers\": [{\"id\": \"cc43b49f-1750-453d-a25a-9755c8183f46\", \"type\": \"DatetimeAxis\"}, {\"id\": \"4bac695a-ce3d-492a-841d-942a6e07fbbc\", \"type\": \"Grid\"}, {\"id\": \"425d6f3b-bd24-4557-9e04-6248e1fa3890\", \"type\": \"LinearAxis\"}, {\"id\": \"434efca9-1ccf-4850-94da-3b61166fd5e9\", \"type\": \"Grid\"}, {\"id\": \"98a172a4-e31a-4962-8ba3-cc4c67f4917f\", \"type\": \"BoxAnnotation\"}, {\"id\": \"0cc0e610-d23e-4749-975f-dd50d070acef\", \"type\": \"GlyphRenderer\"}, {\"id\": \"049fd857-e915-4faa-9fb5-3e6353846a0c\", \"type\": \"GlyphRenderer\"}, {\"id\": \"4af80bd3-e42f-45e0-9661-461f5817e829\", \"type\": \"GlyphRenderer\"}], \"below\": [{\"id\": \"cc43b49f-1750-453d-a25a-9755c8183f46\", \"type\": \"DatetimeAxis\"}], \"title_text_font_size\": {\"value\": \"18px\"}, \"y_range\": {\"id\": \"8ac55e5d-a87b-4082-98ad-1b1c6452bdf0\", \"type\": \"DataRange1d\"}, \"plot_height\": 500, \"x_range\": {\"id\": \"e0de7c3e-6bc5-4a55-9a50-40c6f6787b61\", \"type\": \"DataRange1d\"}, \"tool_events\": {\"id\": \"c0349706-0c81-48ff-b277-69c677197361\", \"type\": \"ToolEvents\"}, \"title\": \"Turnover at the Wikimedia Foundation\", \"plot_width\": 960}, \"id\": \"5590cfb8-2c89-4073-bb9d-0ec73f2a7569\", \"type\": \"Plot\", \"subtype\": \"Figure\"}, {\"attributes\": {\"plot\": {\"subtype\": \"Figure\", \"id\": \"cf6e146d-8e09-43d7-89a8-3f409d17822c\", \"type\": \"Plot\"}}, \"id\": \"17abf025-1326-40e9-a1ee-70b88fd13cf4\", \"type\": \"WheelZoomTool\"}, {\"attributes\": {\"line_width\": {\"value\": 2}, \"y\": {\"field\": \"y\"}, \"x\": {\"field\": \"x\"}, \"line_color\": {\"value\": \"#1f77b4\"}, \"line_alpha\": {\"value\": 0.1}}, \"id\": \"7fdafba9-a8e7-4e49-a04a-6f09ceee8579\", \"type\": \"Line\"}, {\"attributes\": {\"plot\": {\"subtype\": \"Figure\", \"id\": \"98d7fc6e-1ac5-4bb9-8585-c2860b3344f4\", \"type\": \"Plot\"}}, \"id\": \"e5f12f51-9a47-4d4d-9487-de502d6058d3\", \"type\": \"ResizeTool\"}, {\"attributes\": {\"y\": {\"field\": \"y\"}, \"x\": {\"field\": \"x\"}, \"line_color\": {\"value\": \"#1f77b4\"}, \"line_alpha\": {\"value\": 0.1}}, \"id\": \"231ccd5c-71cf-4b3c-ae2b-cf08b4c9451e\", \"type\": \"Line\"}, {\"attributes\": {\"num_minor_ticks\": 5}, \"id\": \"b7d6cfd2-2fe1-4224-9592-1dc6ca3d01ec\", \"type\": \"DatetimeTicker\"}, {\"attributes\": {\"data_source\": {\"id\": \"37f69ff2-2a65-408c-9afc-5c47299b064f\", \"type\": \"ColumnDataSource\"}, \"nonselection_glyph\": {\"id\": \"54a89334-c11c-48d4-9fb1-f5b72d47f516\", \"type\": \"Line\"}, \"selection_glyph\": null, \"hover_glyph\": null, \"glyph\": {\"id\": \"f1cc3122-f17b-471b-9b34-add589ce3c04\", \"type\": \"Line\"}}, \"id\": \"54a0035d-e5b3-4340-8d3f-700aa21d5798\", \"type\": \"GlyphRenderer\"}, {\"attributes\": {\"plot\": {\"subtype\": \"Figure\", \"id\": \"5590cfb8-2c89-4073-bb9d-0ec73f2a7569\", \"type\": \"Plot\"}}, \"id\": \"6746c82c-93d5-42aa-8467-1292f53fd6ee\", \"type\": \"WheelZoomTool\"}, {\"attributes\": {\"ticker\": {\"id\": \"e4d238ed-5edc-47dc-8a60-1f9b2d0493d4\", \"type\": \"DatetimeTicker\"}, \"plot\": {\"subtype\": \"Figure\", \"id\": \"ac4065e4-8e62-480c-83d3-9534c460b90a\", \"type\": \"Plot\"}}, \"id\": \"43f5755d-a3ad-47dd-b842-718cdc6fc003\", \"type\": \"Grid\"}, {\"attributes\": {\"data_source\": {\"id\": \"ac4ef165-ef24-444e-bf00-f2b70ccc2889\", \"type\": \"ColumnDataSource\"}, \"nonselection_glyph\": {\"id\": \"b75f9eb9-3389-4585-ac30-0ba211229619\", \"type\": \"Line\"}, \"selection_glyph\": null, \"hover_glyph\": null, \"glyph\": {\"id\": \"6fcc3ff1-3233-461e-af0b-8277037f97b2\", \"type\": \"Line\"}}, \"id\": \"59191454-4940-49a5-8d1a-411b5c44d382\", \"type\": \"GlyphRenderer\"}, {\"attributes\": {\"column_names\": [\"x\", \"y\"], \"data\": {\"x\": [1312156800000.0, 1314835200000.0, 1317427200000.0, 1320105600000.0, 1322697600000.0, 1325376000000.0, 1328054400000.0, 1330560000000.0, 1333238400000.0, 1335830400000.0, 1338508800000.0, 1341100800000.0, 1343779200000.0, 1346457600000.0, 1349049600000.0, 1351728000000.0, 1354320000000.0, 1356998400000.0, 1359676800000.0, 1362096000000.0, 1364774400000.0, 1367366400000.0, 1370044800000.0, 1372636800000.0, 1375315200000.0, 1377993600000.0, 1380585600000.0, 1383264000000.0, 1385856000000.0, 1388534400000.0, 1391212800000.0, 1393632000000.0, 1396310400000.0, 1398902400000.0, 1401580800000.0, 1404172800000.0, 1406851200000.0, 1409529600000.0, 1412121600000.0, 1414800000000.0, 1417392000000.0, 1420070400000.0, 1422748800000.0, 1425168000000.0, 1427846400000.0, 1430438400000.0, 1433116800000.0, 1435708800000.0, 1438387200000.0, 1441065600000.0, 1443657600000.0, 1446336000000.0, 1448928000000.0, 1451606400000.0, 1454284800000.0], \"y\": [9, 4, 4, 9, 5, 5, 7, 5, 5, 10, 2, 3, 3, 5, 9, 8, 2, 11, 5, 5, 6, 11, 8, 14, 7, 6, 5, 6, 6, 9, 5, 9, 3, 10, 4, 7, 2, 16, 8, 5, 6, 8, 6, 6, 10, 24, 11, 7, 10, 7, 12, 7, 4, 12, 5]}, \"callback\": null}, \"id\": \"952b0c75-5cf7-45c8-809a-8ed19099a52c\", \"type\": \"ColumnDataSource\"}, {\"attributes\": {\"data_source\": {\"id\": \"60828823-decd-439c-9e0f-e5da23fbf47f\", \"type\": \"ColumnDataSource\"}, \"nonselection_glyph\": {\"id\": \"f4d525f2-adc8-4394-bd44-ddf8bdfbab1e\", \"type\": \"Line\"}, \"selection_glyph\": null, \"hover_glyph\": null, \"glyph\": {\"id\": \"161799b5-e208-4c84-9fc3-36251e347ba2\", \"type\": \"Line\"}}, \"id\": \"a9bf9ac1-e01d-4d6b-9c95-5d8afcc67749\", \"type\": \"GlyphRenderer\"}, {\"attributes\": {\"column_names\": [\"x\", \"y\"], \"data\": {\"x\": [1312156800000.0, 1314835200000.0, 1317427200000.0, 1320105600000.0, 1322697600000.0, 1325376000000.0, 1328054400000.0, 1330560000000.0, 1333238400000.0, 1335830400000.0, 1338508800000.0, 1341100800000.0, 1343779200000.0, 1346457600000.0, 1349049600000.0, 1351728000000.0, 1354320000000.0, 1356998400000.0, 1359676800000.0, 1362096000000.0, 1364774400000.0, 1367366400000.0, 1370044800000.0, 1372636800000.0, 1375315200000.0, 1377993600000.0, 1380585600000.0, 1383264000000.0, 1385856000000.0, 1388534400000.0, 1391212800000.0, 1393632000000.0, 1396310400000.0, 1398902400000.0, 1401580800000.0, 1404172800000.0, 1406851200000.0, 1409529600000.0, 1412121600000.0, 1414800000000.0, 1417392000000.0, 1420070400000.0, 1422748800000.0, 1425168000000.0, 1427846400000.0, 1430438400000.0, 1433116800000.0, 1435708800000.0, 1438387200000.0, 1441065600000.0, 1443657600000.0, 1446336000000.0, 1448928000000.0, 1451606400000.0, 1454284800000.0], \"y\": [0.0, 0.0, 0.0, 0.0, 0.0, 1.0, 0.0, 0.0, 1.0, 2.0, 0.0, 11.0, 4.0, 1.0, 1.0, 1.0, 3.0, 11.0, 2.0, 6.0, 7.0, 3.0, 4.0, 4.0, 3.0, 1.0, 2.0, 1.0, 2.0, 6.0, 2.0, 5.0, 3.0, 5.0, 1.0, 0.0, 6.0, 3.0, 5.0, 0.0, 1.0, 0.0, 3.0, 5.0, 0.0, 0.0, 2.0, 0.0, 37.0, 16.0, 5.0, 1.0, 4.0, 2.0, 10.0]}, \"callback\": null}, \"id\": \"7d8096d8-27cd-46b6-903a-7d3a9298b291\", \"type\": \"ColumnDataSource\"}, {\"attributes\": {\"data_source\": {\"id\": \"f1dedd01-277f-4e67-bc4b-e573e7990b7b\", \"type\": \"ColumnDataSource\"}, \"nonselection_glyph\": {\"id\": \"f3bd1c53-3c5a-4251-b26c-41b5922dd2e8\", \"type\": \"Line\"}, \"selection_glyph\": null, \"hover_glyph\": null, \"glyph\": {\"id\": \"d794a7a9-6d6e-4e6e-91f0-cd1b0ae3a9da\", \"type\": \"Line\"}}, \"id\": \"8da3b50c-edad-4be0-a43c-95063f67e1ca\", \"type\": \"GlyphRenderer\"}, {\"attributes\": {\"data_source\": {\"id\": \"aba28475-a506-4f9f-b73d-3c88fa9aaed0\", \"type\": \"ColumnDataSource\"}, \"nonselection_glyph\": {\"id\": \"c9a70b5d-cdff-465e-9a84-b001c17f6946\", \"type\": \"Line\"}, \"selection_glyph\": null, \"hover_glyph\": null, \"glyph\": {\"id\": \"f7953eed-9051-4d3c-b733-495af5c06690\", \"type\": \"Line\"}}, \"id\": \"663764b3-96df-48f7-939c-7dc901c34e57\", \"type\": \"GlyphRenderer\"}, {\"attributes\": {\"plot\": {\"subtype\": \"Figure\", \"id\": \"5590cfb8-2c89-4073-bb9d-0ec73f2a7569\", \"type\": \"Plot\"}}, \"id\": \"d2cfc169-c806-401a-b441-f850be9f30e7\", \"type\": \"PreviewSaveTool\"}, {\"attributes\": {\"plot\": {\"subtype\": \"Figure\", \"id\": \"52bb46b3-d49a-40bb-8cfe-b2d8bdd5390c\", \"type\": \"Plot\"}}, \"id\": \"b717c368-5e69-4087-8f9b-0be5671e9556\", \"type\": \"ResetTool\"}, {\"attributes\": {\"plot\": {\"subtype\": \"Figure\", \"id\": \"5590cfb8-2c89-4073-bb9d-0ec73f2a7569\", \"type\": \"Plot\"}}, \"id\": \"78fc5260-7b24-4e06-b82f-fc9b0c559e6c\", \"type\": \"PanTool\"}, {\"attributes\": {\"num_minor_ticks\": 0, \"max_interval\": 500.0}, \"id\": \"e015e927-cf81-4114-97c6-2022fce45a06\", \"type\": \"AdaptiveTicker\"}, {\"attributes\": {\"level\": \"overlay\", \"render_mode\": \"css\", \"line_dash\": [4, 4], \"plot\": null, \"top_units\": \"screen\", \"line_width\": {\"value\": 2}, \"line_color\": {\"value\": \"black\"}, \"left_units\": \"screen\", \"bottom_units\": \"screen\", \"line_alpha\": {\"value\": 1.0}, \"fill_color\": {\"value\": \"lightgrey\"}, \"fill_alpha\": {\"value\": 0.5}, \"right_units\": \"screen\"}, \"id\": \"70aa1486-33cb-43fb-ab1f-77036a08f6c7\", \"type\": \"BoxAnnotation\"}, {\"attributes\": {\"plot\": {\"subtype\": \"Figure\", \"id\": \"52bb46b3-d49a-40bb-8cfe-b2d8bdd5390c\", \"type\": \"Plot\"}}, \"id\": \"e164d7b1-6cf6-4281-a30f-f3c298f84b19\", \"type\": \"HelpTool\"}, {\"attributes\": {\"days\": [1, 15]}, \"id\": \"ed23fa4d-2c92-4bea-88b4-eb4a59b02473\", \"type\": \"DaysTicker\"}, {\"attributes\": {\"mantissas\": [1, 2, 5, 10, 15, 20, 30], \"num_minor_ticks\": 0, \"max_interval\": 1800000.0, \"base\": 60, \"min_interval\": 1000.0}, \"id\": \"b3eb920e-5320-48a7-9959-1df5f88c6d3f\", \"type\": \"AdaptiveTicker\"}, {\"attributes\": {\"plot\": {\"subtype\": \"Figure\", \"id\": \"09d19a11-1e7d-4211-8f35-78368603c093\", \"type\": \"Plot\"}, \"ticker\": {\"id\": \"bc65e624-2234-4bf0-845b-eaa7bc5e02a7\", \"type\": \"BasicTicker\"}, \"formatter\": {\"id\": \"973fa81d-d486-4208-8803-078ca47601bc\", \"type\": \"BasicTickFormatter\"}}, \"id\": \"cd9746e1-095c-405d-b3ec-e36a1b4c6e45\", \"type\": \"LinearAxis\"}, {\"attributes\": {\"line_width\": {\"value\": 2}, \"x\": {\"field\": \"x\"}, \"line_color\": {\"value\": \"red\"}, \"y\": {\"field\": \"y\"}}, \"id\": \"d580b257-2e14-451e-bc7b-a1a46a01cd9b\", \"type\": \"Line\"}, {\"attributes\": {\"mantissas\": [1, 2, 4, 6, 8, 12], \"num_minor_ticks\": 0, \"max_interval\": 43200000.0, \"base\": 24, \"min_interval\": 3600000.0}, \"id\": \"7725bbb3-e623-4317-ad2c-edda2cd66023\", \"type\": \"AdaptiveTicker\"}, {\"attributes\": {}, \"id\": \"0895ff29-25b5-4215-a325-1056a3fbd8b9\", \"type\": \"BasicTicker\"}, {\"attributes\": {\"months\": [0, 1, 2, 3, 4, 5, 6, 7, 8, 9, 10, 11]}, \"id\": \"f45e0b40-6265-48d4-9786-fa627f7f32cb\", \"type\": \"MonthsTicker\"}, {\"attributes\": {\"callback\": null}, \"id\": \"e0de7c3e-6bc5-4a55-9a50-40c6f6787b61\", \"type\": \"DataRange1d\"}, {\"attributes\": {\"data_source\": {\"id\": \"fcef9fe7-d984-43ed-b9cb-8c54dc33caf5\", \"type\": \"ColumnDataSource\"}, \"nonselection_glyph\": {\"id\": \"51ab1c44-abea-4d6a-8d15-9d306108d81e\", \"type\": \"Line\"}, \"selection_glyph\": null, \"hover_glyph\": null, \"glyph\": {\"id\": \"0fe63bea-ff22-45b0-9598-4daf4254ad1b\", \"type\": \"Line\"}}, \"id\": \"e84e5865-1fa4-4324-88e9-7253f9bc21fc\", \"type\": \"GlyphRenderer\"}, {\"attributes\": {\"line_width\": {\"value\": 2}, \"x\": {\"field\": \"x\"}, \"line_color\": {\"value\": \"red\"}, \"y\": {\"field\": \"y\"}}, \"id\": \"8354976f-f7f0-4aa4-a777-39f7466bdd2a\", \"type\": \"Line\"}, {\"attributes\": {\"line_width\": {\"value\": 5}, \"y\": {\"field\": \"y\"}, \"x\": {\"field\": \"x\"}, \"line_color\": {\"value\": \"#1f77b4\"}, \"line_alpha\": {\"value\": 0.1}}, \"id\": \"d332b38e-170c-483d-bf81-6fc272ae50fb\", \"type\": \"Line\"}, {\"attributes\": {\"days\": [1, 8, 15, 22]}, \"id\": \"f5ac3a47-6434-4062-b597-e5c77a4fbc98\", \"type\": \"DaysTicker\"}, {\"attributes\": {\"plot\": {\"subtype\": \"Figure\", \"id\": \"aa7976d0-9b17-4cfd-a254-37c067eaac3e\", \"type\": \"Plot\"}}, \"id\": \"a8183408-df4d-450b-a1dd-dc7abc6de313\", \"type\": \"WheelZoomTool\"}, {\"attributes\": {\"level\": \"overlay\", \"render_mode\": \"css\", \"line_dash\": [4, 4], \"plot\": null, \"top_units\": \"screen\", \"line_width\": {\"value\": 2}, \"line_color\": {\"value\": \"black\"}, \"left_units\": \"screen\", \"bottom_units\": \"screen\", \"line_alpha\": {\"value\": 1.0}, \"fill_color\": {\"value\": \"lightgrey\"}, \"fill_alpha\": {\"value\": 0.5}, \"right_units\": \"screen\"}, \"id\": \"fede5a46-437a-4a60-a126-bf4c830bdce8\", \"type\": \"BoxAnnotation\"}, {\"attributes\": {\"days\": [1, 4, 7, 10, 13, 16, 19, 22, 25, 28]}, \"id\": \"499d2989-f867-4b9d-b70f-9593357d9274\", \"type\": \"DaysTicker\"}, {\"attributes\": {\"data_source\": {\"id\": \"aeea0d13-51d4-4995-a2c4-f6b486bfe92d\", \"type\": \"ColumnDataSource\"}, \"nonselection_glyph\": {\"id\": \"26558224-d92e-48c9-9a76-e2263a3d9c0c\", \"type\": \"Line\"}, \"selection_glyph\": null, \"hover_glyph\": null, \"glyph\": {\"id\": \"8ededca8-8606-4a22-8ba6-e9881d692b10\", \"type\": \"Line\"}}, \"id\": \"8bdd9d65-4603-4dd1-8ea7-b22adc57fc56\", \"type\": \"GlyphRenderer\"}, {\"attributes\": {}, \"id\": \"309ea0e9-885a-4587-8eab-8957b0459e04\", \"type\": \"DatetimeTickFormatter\"}, {\"attributes\": {\"column_names\": [\"x\", \"y\"], \"data\": {\"x\": [1312156800000.0, 1314835200000.0, 1317427200000.0, 1320105600000.0, 1322697600000.0, 1325376000000.0, 1328054400000.0, 1330560000000.0, 1333238400000.0, 1335830400000.0, 1338508800000.0, 1341100800000.0, 1343779200000.0, 1346457600000.0, 1349049600000.0, 1351728000000.0, 1354320000000.0, 1356998400000.0, 1359676800000.0, 1362096000000.0, 1364774400000.0, 1367366400000.0, 1370044800000.0, 1372636800000.0, 1375315200000.0, 1377993600000.0, 1380585600000.0, 1383264000000.0, 1385856000000.0, 1388534400000.0, 1391212800000.0, 1393632000000.0, 1396310400000.0, 1398902400000.0, 1401580800000.0, 1404172800000.0, 1406851200000.0, 1409529600000.0, 1412121600000.0, 1414800000000.0, 1417392000000.0, 1420070400000.0, 1422748800000.0, 1425168000000.0, 1427846400000.0, 1430438400000.0, 1433116800000.0, 1435708800000.0, 1438387200000.0, 1441065600000.0, 1443657600000.0, 1446336000000.0, 1448928000000.0, 1451606400000.0, 1454284800000.0], \"y\": [9, 4, 4, 9, 5, 5, 7, 5, 5, 10, 2, 3, 3, 5, 9, 8, 2, 11, 5, 5, 6, 11, 8, 14, 7, 6, 5, 6, 6, 9, 5, 9, 3, 10, 4, 7, 2, 16, 8, 5, 6, 8, 6, 6, 10, 24, 11, 7, 10, 7, 12, 7, 4, 12, 5]}, \"callback\": null}, \"id\": \"c2a39970-1ff4-4c44-b957-5d0b9911fc50\", \"type\": \"ColumnDataSource\"}, {\"attributes\": {\"plot\": {\"subtype\": \"Figure\", \"id\": \"aa7976d0-9b17-4cfd-a254-37c067eaac3e\", \"type\": \"Plot\"}}, \"id\": \"2504bd6c-037d-4dc6-9338-73fa27704c62\", \"type\": \"ResizeTool\"}, {\"attributes\": {\"line_width\": {\"value\": 2}, \"x\": {\"field\": \"x\"}, \"line_color\": {\"value\": \"red\"}, \"y\": {\"field\": \"y\"}}, \"id\": \"e0a3bb60-2c47-4e11-b1bb-9dd95ef8d884\", \"type\": \"Line\"}, {\"attributes\": {}, \"id\": \"d257d442-15c7-42f7-ac6c-8cc6f91a9ef0\", \"type\": \"DatetimeTickFormatter\"}, {\"attributes\": {\"plot\": {\"subtype\": \"Figure\", \"id\": \"4a4cfd0f-2de9-4cc0-8a95-425aa8f22a24\", \"type\": \"Plot\"}, \"ticker\": {\"id\": \"e2d331e5-d25e-4500-bd21-d9736c8a436a\", \"type\": \"BasicTicker\"}, \"formatter\": {\"id\": \"cdab2e2c-1cdc-4431-a49c-9f81a08ed2a3\", \"type\": \"BasicTickFormatter\"}}, \"id\": \"01fb8d2b-8592-46f5-a9ca-6428be6de413\", \"type\": \"LinearAxis\"}, {\"attributes\": {\"ticker\": {\"id\": \"4d7beeaa-b5dc-4a36-b35c-992f6c56eeff\", \"type\": \"DatetimeTicker\"}, \"plot\": {\"subtype\": \"Figure\", \"id\": \"cf6e146d-8e09-43d7-89a8-3f409d17822c\", \"type\": \"Plot\"}}, \"id\": \"d147f91d-ceee-4cf2-b67a-65ee414ea5a2\", \"type\": \"Grid\"}, {\"attributes\": {\"plot\": {\"subtype\": \"Figure\", \"id\": \"98d7fc6e-1ac5-4bb9-8585-c2860b3344f4\", \"type\": \"Plot\"}}, \"id\": \"5484d65c-5b53-478b-ad0b-83a63bc05622\", \"type\": \"PreviewSaveTool\"}, {\"attributes\": {}, \"id\": \"c8c0fc1d-9eb7-45a4-80b8-d81db0bdd191\", \"type\": \"DatetimeTickFormatter\"}, {\"attributes\": {\"mantissas\": [1, 2, 4, 6, 8, 12], \"num_minor_ticks\": 0, \"max_interval\": 43200000.0, \"base\": 24, \"min_interval\": 3600000.0}, \"id\": \"d5360d1c-c0e3-41a1-9974-b0be79a0e658\", \"type\": \"AdaptiveTicker\"}, {\"attributes\": {\"dimension\": 1, \"ticker\": {\"id\": \"488f91c1-f9f9-4d3e-b7f0-367a6323a525\", \"type\": \"BasicTicker\"}, \"plot\": {\"subtype\": \"Figure\", \"id\": \"48023c29-b7dc-47db-bdb5-b64ba4deea68\", \"type\": \"Plot\"}}, \"id\": \"6fbc073b-12df-41b3-b0e5-e5f682abb3ce\", \"type\": \"Grid\"}, {\"attributes\": {\"level\": \"overlay\", \"render_mode\": \"css\", \"line_dash\": [4, 4], \"plot\": null, \"top_units\": \"screen\", \"line_width\": {\"value\": 2}, \"line_color\": {\"value\": \"black\"}, \"left_units\": \"screen\", \"bottom_units\": \"screen\", \"line_alpha\": {\"value\": 1.0}, \"fill_color\": {\"value\": \"lightgrey\"}, \"fill_alpha\": {\"value\": 0.5}, \"right_units\": \"screen\"}, \"id\": \"60049864-dea0-444e-b782-ec6b4198d866\", \"type\": \"BoxAnnotation\"}, {\"attributes\": {\"level\": \"overlay\", \"render_mode\": \"css\", \"line_dash\": [4, 4], \"plot\": null, \"top_units\": \"screen\", \"line_width\": {\"value\": 2}, \"line_color\": {\"value\": \"black\"}, \"left_units\": \"screen\", \"bottom_units\": \"screen\", \"line_alpha\": {\"value\": 1.0}, \"fill_color\": {\"value\": \"lightgrey\"}, \"fill_alpha\": {\"value\": 0.5}, \"right_units\": \"screen\"}, \"id\": \"23edbffd-17d9-482a-afb3-21cfc8d4f8b6\", \"type\": \"BoxAnnotation\"}, {\"attributes\": {\"days\": [1, 8, 15, 22]}, \"id\": \"d469a253-387c-48c3-a4a0-645ca2ca3705\", \"type\": \"DaysTicker\"}, {\"attributes\": {\"line_width\": {\"value\": 2}, \"y\": {\"field\": \"y\"}, \"x\": {\"field\": \"x\"}, \"line_color\": {\"value\": \"#1f77b4\"}, \"line_alpha\": {\"value\": 0.1}}, \"id\": \"f4d525f2-adc8-4394-bd44-ddf8bdfbab1e\", \"type\": \"Line\"}, {\"attributes\": {}, \"id\": \"c30f5973-1d7c-404a-84c8-799e1cc465a6\", \"type\": \"YearsTicker\"}, {\"attributes\": {\"line_width\": {\"value\": 2}, \"y\": {\"field\": \"y\"}, \"x\": {\"field\": \"x\"}, \"line_color\": {\"value\": \"#1f77b4\"}, \"line_alpha\": {\"value\": 0.1}}, \"id\": \"cf85cd8b-922f-4ea4-bbbf-800b9edf1fbe\", \"type\": \"Line\"}, {\"attributes\": {\"days\": [1, 2, 3, 4, 5, 6, 7, 8, 9, 10, 11, 12, 13, 14, 15, 16, 17, 18, 19, 20, 21, 22, 23, 24, 25, 26, 27, 28, 29, 30, 31]}, \"id\": \"57ed8ba5-bb90-47eb-a4d3-902a045520e0\", \"type\": \"DaysTicker\"}, {\"attributes\": {\"plot\": {\"subtype\": \"Figure\", \"id\": \"76e6af38-8d77-4ed2-8c6e-caef0e88cb7c\", \"type\": \"Plot\"}}, \"id\": \"2c45fee6-7756-4e11-809b-07d40558beeb\", \"type\": \"HelpTool\"}, {\"attributes\": {\"line_width\": {\"value\": 2}, \"y\": {\"field\": \"y\"}, \"x\": {\"field\": \"x\"}, \"line_color\": {\"value\": \"#1f77b4\"}, \"line_alpha\": {\"value\": 0.1}}, \"id\": \"4a54dd16-934a-47df-96de-1987a9624986\", \"type\": \"Line\"}, {\"attributes\": {\"days\": [1, 8, 15, 22]}, \"id\": \"1b63df68-a58d-43fe-9d52-4ff3de9ddf71\", \"type\": \"DaysTicker\"}, {\"attributes\": {}, \"id\": \"cdab2e2c-1cdc-4431-a49c-9f81a08ed2a3\", \"type\": \"BasicTickFormatter\"}, {\"attributes\": {\"days\": [1, 15]}, \"id\": \"8fd16507-f2c2-42d8-a75b-63254ad0c80b\", \"type\": \"DaysTicker\"}, {\"attributes\": {\"data_source\": {\"id\": \"846529a4-00e2-4312-9f30-4f5ee46214cf\", \"type\": \"ColumnDataSource\"}, \"nonselection_glyph\": {\"id\": \"231ccd5c-71cf-4b3c-ae2b-cf08b4c9451e\", \"type\": \"Line\"}, \"selection_glyph\": null, \"hover_glyph\": null, \"glyph\": {\"id\": \"0ea1817c-eaf2-446a-8954-2e9f6fed5208\", \"type\": \"Line\"}}, \"id\": \"d79dca5b-9695-4ec4-a2c0-bd847dc944c3\", \"type\": \"GlyphRenderer\"}, {\"attributes\": {\"data_source\": {\"id\": \"a11c4587-69c3-412b-b3ac-ec4d434b51a0\", \"type\": \"ColumnDataSource\"}, \"nonselection_glyph\": {\"id\": \"4a54dd16-934a-47df-96de-1987a9624986\", \"type\": \"Line\"}, \"selection_glyph\": null, \"hover_glyph\": null, \"glyph\": {\"id\": \"4df7c84b-4f92-4398-8cbd-7eeeb959cfd5\", \"type\": \"Line\"}}, \"id\": \"4348aa86-a884-43c7-951c-d7bec9ae3a18\", \"type\": \"GlyphRenderer\"}, {\"attributes\": {}, \"id\": \"f9847f3d-e460-4bb6-9fa4-48f7d48f6ee0\", \"type\": \"ToolEvents\"}, {\"attributes\": {\"dimension\": 1, \"ticker\": {\"id\": \"93ea9e8e-24aa-45e8-ad16-414afbca7484\", \"type\": \"BasicTicker\"}, \"plot\": {\"subtype\": \"Figure\", \"id\": \"5b82dd80-671f-471f-a515-aaafd61644c6\", \"type\": \"Plot\"}}, \"id\": \"47af34ae-9b0f-446d-bc56-67eb52bbcea1\", \"type\": \"Grid\"}, {\"attributes\": {\"data_source\": {\"id\": \"f9cede8b-db7d-4248-afab-cc51510eef28\", \"type\": \"ColumnDataSource\"}, \"nonselection_glyph\": {\"id\": \"7fdafba9-a8e7-4e49-a04a-6f09ceee8579\", \"type\": \"Line\"}, \"selection_glyph\": null, \"hover_glyph\": null, \"glyph\": {\"id\": \"6af815ff-ae24-467a-b171-02c37491104c\", \"type\": \"Line\"}}, \"id\": \"1ac0d8c8-8129-4d95-826c-0f53bd7a9648\", \"type\": \"GlyphRenderer\"}, {\"attributes\": {\"plot\": {\"subtype\": \"Figure\", \"id\": \"4a4cfd0f-2de9-4cc0-8a95-425aa8f22a24\", \"type\": \"Plot\"}}, \"id\": \"48e4c9a5-f1a4-4cdf-9893-541b731df368\", \"type\": \"HelpTool\"}, {\"attributes\": {\"plot\": {\"subtype\": \"Figure\", \"id\": \"48023c29-b7dc-47db-bdb5-b64ba4deea68\", \"type\": \"Plot\"}}, \"id\": \"ddd80c6f-2e97-451e-a28d-140acb971a08\", \"type\": \"PreviewSaveTool\"}, {\"attributes\": {\"plot\": {\"subtype\": \"Figure\", \"id\": \"835e1e91-b208-4e2b-bd1a-961d2e813e08\", \"type\": \"Plot\"}}, \"id\": \"6dd0a54b-5765-4720-9511-07d4c5b2a15d\", \"type\": \"ResetTool\"}, {\"attributes\": {\"months\": [0, 2, 4, 6, 8, 10]}, \"id\": \"d3bc4768-8169-4943-aad5-486d18e823ac\", \"type\": \"MonthsTicker\"}, {\"attributes\": {\"mantissas\": [1, 2, 5, 10, 15, 20, 30], \"num_minor_ticks\": 0, \"max_interval\": 1800000.0, \"base\": 60, \"min_interval\": 1000.0}, \"id\": \"c63b8693-9f23-4598-8a8d-c303fe23475f\", \"type\": \"AdaptiveTicker\"}, {\"attributes\": {\"line_width\": {\"value\": 2}, \"x\": {\"field\": \"x\"}, \"y\": {\"field\": \"y\"}}, \"id\": \"08c42ac5-2ff4-459f-bd70-9d47e7a39b1f\", \"type\": \"Line\"}, {\"attributes\": {\"days\": [1, 4, 7, 10, 13, 16, 19, 22, 25, 28]}, \"id\": \"3886858e-bad6-4f6e-bb02-14c9e4955075\", \"type\": \"DaysTicker\"}, {\"attributes\": {\"ticker\": {\"id\": \"e93b8346-d1a1-4f61-bfc6-6b794ad88204\", \"type\": \"DatetimeTicker\"}, \"plot\": {\"subtype\": \"Figure\", \"id\": \"aa7976d0-9b17-4cfd-a254-37c067eaac3e\", \"type\": \"Plot\"}}, \"id\": \"81e5263f-1813-4bdf-ae1c-e2d17afd3f19\", \"type\": \"Grid\"}, {\"attributes\": {\"plot\": {\"subtype\": \"Figure\", \"id\": \"ac4065e4-8e62-480c-83d3-9534c460b90a\", \"type\": \"Plot\"}}, \"id\": \"81025c78-7ccd-4691-adcf-d8bfe005c8d5\", \"type\": \"HelpTool\"}, {\"attributes\": {\"ticker\": {\"id\": \"b7d6cfd2-2fe1-4224-9592-1dc6ca3d01ec\", \"type\": \"DatetimeTicker\"}, \"plot\": {\"subtype\": \"Figure\", \"id\": \"48023c29-b7dc-47db-bdb5-b64ba4deea68\", \"type\": \"Plot\"}}, \"id\": \"a7d20c1b-3b96-40df-a948-213f37a2aab1\", \"type\": \"Grid\"}, {\"attributes\": {\"tools\": [{\"id\": \"0a82e540-851e-401f-8db7-24748b607a2e\", \"type\": \"PanTool\"}, {\"id\": \"61b0ea73-00a4-494e-a835-95822a89d9e3\", \"type\": \"WheelZoomTool\"}, {\"id\": \"20da0487-33a6-4843-a1c8-1c01bba15a73\", \"type\": \"BoxZoomTool\"}, {\"id\": \"5484d65c-5b53-478b-ad0b-83a63bc05622\", \"type\": \"PreviewSaveTool\"}, {\"id\": \"e5f12f51-9a47-4d4d-9487-de502d6058d3\", \"type\": \"ResizeTool\"}, {\"id\": \"1f46ff51-ac2a-41e7-a075-43f178d304fa\", \"type\": \"ResetTool\"}, {\"id\": \"866ef464-afbb-476d-977a-5d755fb6d3dc\", \"type\": \"HelpTool\"}], \"left\": [{\"id\": \"ac7ce116-740a-404e-8e40-85c6bbd4ab24\", \"type\": \"LinearAxis\"}], \"renderers\": [{\"id\": \"bf3c127f-44b8-4ceb-8fdc-60d70e6f4c56\", \"type\": \"DatetimeAxis\"}, {\"id\": \"7c56d3c5-0329-47f8-bde2-1b26ba55fe2b\", \"type\": \"Grid\"}, {\"id\": \"ac7ce116-740a-404e-8e40-85c6bbd4ab24\", \"type\": \"LinearAxis\"}, {\"id\": \"62f43ad5-4b54-44be-820e-0251ff015f72\", \"type\": \"Grid\"}, {\"id\": \"fede5a46-437a-4a60-a126-bf4c830bdce8\", \"type\": \"BoxAnnotation\"}, {\"id\": \"af541539-3e32-42b1-96bc-32c6eb6f7d32\", \"type\": \"GlyphRenderer\"}, {\"id\": \"26168a48-3aee-4f07-a986-fdbc8e536579\", \"type\": \"GlyphRenderer\"}, {\"id\": \"543a57c1-3007-44f7-aeda-d85e6d651fec\", \"type\": \"GlyphRenderer\"}], \"below\": [{\"id\": \"bf3c127f-44b8-4ceb-8fdc-60d70e6f4c56\", \"type\": \"DatetimeAxis\"}], \"title_text_font_size\": {\"value\": \"18px\"}, \"y_range\": {\"id\": \"a1eaef25-5ac7-4d2b-a08e-c6caeece5d15\", \"type\": \"DataRange1d\"}, \"plot_height\": 500, \"x_range\": {\"id\": \"54364248-b267-42aa-8bf0-a53d34faad48\", \"type\": \"DataRange1d\"}, \"tool_events\": {\"id\": \"6abeebfb-47da-4ca7-9a0f-c87439f7d040\", \"type\": \"ToolEvents\"}, \"title\": \"Turnover at the Wikimedia Foundation\", \"plot_width\": 960}, \"id\": \"98d7fc6e-1ac5-4bb9-8585-c2860b3344f4\", \"type\": \"Plot\", \"subtype\": \"Figure\"}, {\"attributes\": {\"dimension\": 1, \"ticker\": {\"id\": \"29ccefc9-cdd5-4756-a1fa-f468ae802eae\", \"type\": \"BasicTicker\"}, \"plot\": {\"subtype\": \"Figure\", \"id\": \"ac4065e4-8e62-480c-83d3-9534c460b90a\", \"type\": \"Plot\"}}, \"id\": \"c451e910-b8a6-4e35-bc7c-ebd0d067df13\", \"type\": \"Grid\"}, {\"attributes\": {\"plot\": {\"subtype\": \"Figure\", \"id\": \"5b82dd80-671f-471f-a515-aaafd61644c6\", \"type\": \"Plot\"}}, \"id\": \"69948918-345c-4f37-9ae3-2ba5152992f4\", \"type\": \"WheelZoomTool\"}, {\"attributes\": {\"data_source\": {\"id\": \"63b8e20b-fe5f-41a8-9867-c6a3cc5cf246\", \"type\": \"ColumnDataSource\"}, \"nonselection_glyph\": {\"id\": \"4d33074d-460b-45fc-a890-784b47ba7708\", \"type\": \"Line\"}, \"selection_glyph\": null, \"hover_glyph\": null, \"glyph\": {\"id\": \"395a5ffc-0650-448a-99e9-dc0a3065b375\", \"type\": \"Line\"}}, \"id\": \"0cc0e610-d23e-4749-975f-dd50d070acef\", \"type\": \"GlyphRenderer\"}, {\"attributes\": {\"days\": [1, 2, 3, 4, 5, 6, 7, 8, 9, 10, 11, 12, 13, 14, 15, 16, 17, 18, 19, 20, 21, 22, 23, 24, 25, 26, 27, 28, 29, 30, 31]}, \"id\": \"f43f1cd6-49e0-4226-8a9d-6eaade456be0\", \"type\": \"DaysTicker\"}, {\"attributes\": {\"column_names\": [\"x\", \"y\"], \"data\": {\"x\": [1401580800000.0, 1401580800000.0], \"y\": [0, 30]}, \"callback\": null}, \"id\": \"846529a4-00e2-4312-9f30-4f5ee46214cf\", \"type\": \"ColumnDataSource\"}, {\"attributes\": {\"months\": [0, 4, 8]}, \"id\": \"44642a81-9fa6-4d22-af55-944c7a074f66\", \"type\": \"MonthsTicker\"}, {\"attributes\": {\"mantissas\": [1, 2, 4, 6, 8, 12], \"num_minor_ticks\": 0, \"max_interval\": 43200000.0, \"base\": 24, \"min_interval\": 3600000.0}, \"id\": \"0fb2493f-f03c-4588-a225-b4a206fd94ec\", \"type\": \"AdaptiveTicker\"}, {\"attributes\": {\"mantissas\": [1, 2, 5, 10, 15, 20, 30], \"num_minor_ticks\": 0, \"max_interval\": 1800000.0, \"base\": 60, \"min_interval\": 1000.0}, \"id\": \"f6f759f4-a9b9-44d5-b769-d41c9d874a34\", \"type\": \"AdaptiveTicker\"}, {\"attributes\": {\"tools\": [{\"id\": \"ab3e754c-b533-43ea-ac31-8d65e2de490f\", \"type\": \"PanTool\"}, {\"id\": \"17abf025-1326-40e9-a1ee-70b88fd13cf4\", \"type\": \"WheelZoomTool\"}, {\"id\": \"c6ca1c63-7d68-4950-aa1c-ba24c4247fcf\", \"type\": \"BoxZoomTool\"}, {\"id\": \"82ab6fde-ffac-449a-a710-f08f1b1d28f2\", \"type\": \"PreviewSaveTool\"}, {\"id\": \"c9cdab6f-11a1-4552-ae38-3aa7bc92edc6\", \"type\": \"ResizeTool\"}, {\"id\": \"81a0a66a-28c2-4106-aa4e-fda4b746f2bc\", \"type\": \"ResetTool\"}, {\"id\": \"9c3f435f-1453-4117-b7e2-7a44a5c114ac\", \"type\": \"HelpTool\"}], \"left\": [{\"id\": \"c3aa145f-ab06-4ee7-80b9-7d3c30c66ac6\", \"type\": \"LinearAxis\"}], \"renderers\": [{\"id\": \"58be6cad-6f01-400f-8965-e47ea499ae39\", \"type\": \"DatetimeAxis\"}, {\"id\": \"d147f91d-ceee-4cf2-b67a-65ee414ea5a2\", \"type\": \"Grid\"}, {\"id\": \"c3aa145f-ab06-4ee7-80b9-7d3c30c66ac6\", \"type\": \"LinearAxis\"}, {\"id\": \"e20b791d-d5f4-415c-b213-e629f518b196\", \"type\": \"Grid\"}, {\"id\": \"3c9ef55c-b9d6-4e98-8284-28c492ae7aab\", \"type\": \"BoxAnnotation\"}, {\"id\": \"54a0035d-e5b3-4340-8d3f-700aa21d5798\", \"type\": \"GlyphRenderer\"}, {\"id\": \"c2c959ee-b785-4f19-be2f-717db88b22af\", \"type\": \"GlyphRenderer\"}, {\"id\": \"376aafa2-1c78-4f85-bc46-22fea2547171\", \"type\": \"GlyphRenderer\"}], \"below\": [{\"id\": \"58be6cad-6f01-400f-8965-e47ea499ae39\", \"type\": \"DatetimeAxis\"}], \"title_text_font_size\": {\"value\": \"18px\"}, \"y_range\": {\"id\": \"3d2e7059-83e8-4dbf-8985-dc46c897d8ee\", \"type\": \"DataRange1d\"}, \"plot_height\": 500, \"x_range\": {\"id\": \"8f10a3b5-2e6a-4e5c-b5c2-c4b99cbe0734\", \"type\": \"DataRange1d\"}, \"tool_events\": {\"id\": \"497c9d71-4f84-435c-9935-4153e882df0d\", \"type\": \"ToolEvents\"}, \"title\": \"Turnover at the Wikimedia Foundation\", \"plot_width\": 960}, \"id\": \"cf6e146d-8e09-43d7-89a8-3f409d17822c\", \"type\": \"Plot\", \"subtype\": \"Figure\"}, {\"attributes\": {}, \"id\": \"2e486fff-a4b2-4cd8-bb61-2ad214977e97\", \"type\": \"ToolEvents\"}, {\"attributes\": {\"days\": [1, 4, 7, 10, 13, 16, 19, 22, 25, 28]}, \"id\": \"ad3d8760-d916-4f7c-93c2-7507d1f982ad\", \"type\": \"DaysTicker\"}, {\"attributes\": {\"plot\": {\"subtype\": \"Figure\", \"id\": \"cf6e146d-8e09-43d7-89a8-3f409d17822c\", \"type\": \"Plot\"}}, \"id\": \"ab3e754c-b533-43ea-ac31-8d65e2de490f\", \"type\": \"PanTool\"}, {\"attributes\": {\"months\": [0, 2, 4, 6, 8, 10]}, \"id\": \"853c3d40-2870-496e-93bf-238f39d74eb6\", \"type\": \"MonthsTicker\"}, {\"attributes\": {\"months\": [0, 1, 2, 3, 4, 5, 6, 7, 8, 9, 10, 11]}, \"id\": \"e5f9c75b-1c64-4135-a995-d72648aa8f02\", \"type\": \"MonthsTicker\"}, {\"attributes\": {}, \"id\": \"488f91c1-f9f9-4d3e-b7f0-367a6323a525\", \"type\": \"BasicTicker\"}, {\"attributes\": {\"days\": [1, 15]}, \"id\": \"4abcd545-2f5f-4581-84b8-2908c4a0f18a\", \"type\": \"DaysTicker\"}, {\"attributes\": {\"days\": [1, 2, 3, 4, 5, 6, 7, 8, 9, 10, 11, 12, 13, 14, 15, 16, 17, 18, 19, 20, 21, 22, 23, 24, 25, 26, 27, 28, 29, 30, 31]}, \"id\": \"83bd7329-959d-4eb0-9cdb-07254634b439\", \"type\": \"DaysTicker\"}, {\"attributes\": {\"days\": [1, 8, 15, 22]}, \"id\": \"78c3929b-7854-48f3-bbc1-50399262f2af\", \"type\": \"DaysTicker\"}, {\"attributes\": {\"num_minor_ticks\": 0, \"max_interval\": 500.0}, \"id\": \"43725238-cee6-4dcd-83c6-68330ce7f93a\", \"type\": \"AdaptiveTicker\"}, {\"attributes\": {\"line_width\": {\"value\": 2}, \"y\": {\"field\": \"y\"}, \"x\": {\"field\": \"x\"}, \"line_color\": {\"value\": \"#1f77b4\"}, \"line_alpha\": {\"value\": 0.1}}, \"id\": \"b1cc1fd7-146c-4750-b4bc-7be2220b8966\", \"type\": \"Line\"}, {\"attributes\": {\"plot\": {\"subtype\": \"Figure\", \"id\": \"5b82dd80-671f-471f-a515-aaafd61644c6\", \"type\": \"Plot\"}}, \"id\": \"59e610ce-ad31-427b-b6db-7d9dfcdbb3db\", \"type\": \"PreviewSaveTool\"}, {\"attributes\": {\"overlay\": {\"id\": \"70aa1486-33cb-43fb-ab1f-77036a08f6c7\", \"type\": \"BoxAnnotation\"}, \"plot\": {\"subtype\": \"Figure\", \"id\": \"4a4cfd0f-2de9-4cc0-8a95-425aa8f22a24\", \"type\": \"Plot\"}}, \"id\": \"0c1d4224-2b81-4100-ae5a-fe0da7307406\", \"type\": \"BoxZoomTool\"}, {\"attributes\": {\"line_width\": {\"value\": 2}, \"y\": {\"field\": \"y\"}, \"x\": {\"field\": \"x\"}, \"line_color\": {\"value\": \"#1f77b4\"}, \"line_alpha\": {\"value\": 0.1}}, \"id\": \"26558224-d92e-48c9-9a76-e2263a3d9c0c\", \"type\": \"Line\"}, {\"attributes\": {\"column_names\": [\"x\", \"y\"], \"data\": {\"x\": [1401580800000.0, 1401580800000.0], \"y\": [0, 40]}, \"callback\": null}, \"id\": \"5626c840-9ea7-4238-aae9-fbaaa3615b08\", \"type\": \"ColumnDataSource\"}, {\"attributes\": {\"days\": [1, 4, 7, 10, 13, 16, 19, 22, 25, 28]}, \"id\": \"a0b08008-2069-4c0a-b869-00329a8c5077\", \"type\": \"DaysTicker\"}, {\"attributes\": {}, \"id\": \"cb5982da-7be8-4cb7-9623-076dd8cde97b\", \"type\": \"BasicTickFormatter\"}, {\"attributes\": {\"num_minor_ticks\": 5}, \"id\": \"1c1a9124-08a3-4d65-87c3-9ed7a1d34099\", \"type\": \"DatetimeTicker\"}, {\"attributes\": {\"line_width\": {\"value\": 2}, \"x\": {\"field\": \"x\"}, \"y\": {\"field\": \"y\"}}, \"id\": \"15205c32-e208-4b27-9dc3-c572f478e1c7\", \"type\": \"Line\"}, {\"attributes\": {}, \"id\": \"8bc8f42d-e92b-4d88-95b1-d312430042c7\", \"type\": \"ToolEvents\"}, {\"attributes\": {\"tools\": [{\"id\": \"c513dd1a-7845-4ec7-9b53-8f37e27bf3ee\", \"type\": \"PanTool\"}, {\"id\": \"1e132bbf-65a8-4d3f-ac39-a4d8afb7141b\", \"type\": \"WheelZoomTool\"}, {\"id\": \"b86fe0b7-c69e-4b65-8ae3-f39b7ac4678a\", \"type\": \"BoxZoomTool\"}, {\"id\": \"8d45788e-c904-45a9-a533-df5eb2dca140\", \"type\": \"PreviewSaveTool\"}, {\"id\": \"485d66bc-1f24-4032-9663-a9ba0e02b962\", \"type\": \"ResizeTool\"}, {\"id\": \"53306ce1-b277-4125-a6bc-87b110eadb54\", \"type\": \"ResetTool\"}, {\"id\": \"2c45fee6-7756-4e11-809b-07d40558beeb\", \"type\": \"HelpTool\"}], \"left\": [{\"id\": \"e8b2d0ba-c05e-40b5-bc2f-22d347cede49\", \"type\": \"LinearAxis\"}], \"renderers\": [{\"id\": \"a5daaf76-a8f6-4a94-a515-79dd6e3b1ea3\", \"type\": \"DatetimeAxis\"}, {\"id\": \"5812be6f-6893-4469-8f75-2698906dbd62\", \"type\": \"Grid\"}, {\"id\": \"e8b2d0ba-c05e-40b5-bc2f-22d347cede49\", \"type\": \"LinearAxis\"}, {\"id\": \"110a718d-edfd-4a34-80c8-745654cf47ce\", \"type\": \"Grid\"}, {\"id\": \"60049864-dea0-444e-b782-ec6b4198d866\", \"type\": \"BoxAnnotation\"}, {\"id\": \"56875dfc-e95d-41dc-8a6c-f72b473758d6\", \"type\": \"GlyphRenderer\"}, {\"id\": \"5f45f0d5-cec6-4682-862b-cbe247a083b1\", \"type\": \"GlyphRenderer\"}, {\"id\": \"8bdd9d65-4603-4dd1-8ea7-b22adc57fc56\", \"type\": \"GlyphRenderer\"}], \"below\": [{\"id\": \"a5daaf76-a8f6-4a94-a515-79dd6e3b1ea3\", \"type\": \"DatetimeAxis\"}], \"title_text_font_size\": {\"value\": \"18px\"}, \"y_range\": {\"id\": \"60967278-4217-4cba-ac09-3ad9d9d5fd42\", \"type\": \"DataRange1d\"}, \"plot_height\": 500, \"x_range\": {\"id\": \"c6bb404c-f666-4f21-8423-f21d9206c4b9\", \"type\": \"DataRange1d\"}, \"tool_events\": {\"id\": \"8bc8f42d-e92b-4d88-95b1-d312430042c7\", \"type\": \"ToolEvents\"}, \"title\": \"Turnover at the Wikimedia Foundation\", \"plot_width\": 960}, \"id\": \"76e6af38-8d77-4ed2-8c6e-caef0e88cb7c\", \"type\": \"Plot\", \"subtype\": \"Figure\"}, {\"attributes\": {}, \"id\": \"b2ef9863-0ec3-4d5f-bcf2-a73b02e710e2\", \"type\": \"ToolEvents\"}, {\"attributes\": {}, \"id\": \"4edb498e-70f5-4550-8a5c-fa730160e955\", \"type\": \"BasicTickFormatter\"}, {\"attributes\": {\"plot\": {\"subtype\": \"Figure\", \"id\": \"09d19a11-1e7d-4211-8f35-78368603c093\", \"type\": \"Plot\"}}, \"id\": \"407384f8-5cfe-4385-946a-94092672ac74\", \"type\": \"HelpTool\"}, {\"attributes\": {\"months\": [0, 6]}, \"id\": \"d516aa62-74ad-4211-9a20-b9da9beaa745\", \"type\": \"MonthsTicker\"}, {\"attributes\": {\"months\": [0, 6]}, \"id\": \"d1e82114-a0ec-4f41-a4ee-4c30bfb65deb\", \"type\": \"MonthsTicker\"}, {\"attributes\": {}, \"id\": \"c46e059e-39ee-40f4-8a5a-ae15230ad291\", \"type\": \"YearsTicker\"}, {\"attributes\": {\"plot\": {\"subtype\": \"Figure\", \"id\": \"5b82dd80-671f-471f-a515-aaafd61644c6\", \"type\": \"Plot\"}}, \"id\": \"f81f27d5-23e2-4332-b30c-b4042520032f\", \"type\": \"HelpTool\"}, {\"attributes\": {\"x\": {\"field\": \"x\"}, \"line_color\": {\"value\": \"#1f77b4\"}, \"y\": {\"field\": \"y\"}}, \"id\": \"46eef1c3-72d4-4d32-86bb-c857956a38bc\", \"type\": \"Line\"}, {\"attributes\": {\"months\": [0, 2, 4, 6, 8, 10]}, \"id\": \"3ab91aac-173e-4c18-8e23-25f41011fcc0\", \"type\": \"MonthsTicker\"}, {\"attributes\": {\"line_width\": {\"value\": 2}, \"x\": {\"field\": \"x\"}, \"line_color\": {\"value\": \"red\"}, \"y\": {\"field\": \"y\"}}, \"id\": \"d794a7a9-6d6e-4e6e-91f0-cd1b0ae3a9da\", \"type\": \"Line\"}, {\"attributes\": {}, \"id\": \"938681e5-c703-4ef6-8d83-a455d255625b\", \"type\": \"ToolEvents\"}, {\"attributes\": {\"line_width\": {\"value\": 2}, \"x\": {\"field\": \"x\"}, \"line_color\": {\"value\": \"green\"}, \"y\": {\"field\": \"y\"}}, \"id\": \"6c3f32a3-f9c1-44f4-99d6-a3e475d79d0d\", \"type\": \"Line\"}, {\"attributes\": {\"line_width\": {\"value\": 2}, \"x\": {\"field\": \"x\"}, \"line_color\": {\"value\": \"green\"}, \"y\": {\"field\": \"y\"}}, \"id\": \"865bbda0-b5b0-4494-b263-d16feafaee8a\", \"type\": \"Line\"}, {\"attributes\": {\"days\": [1, 2, 3, 4, 5, 6, 7, 8, 9, 10, 11, 12, 13, 14, 15, 16, 17, 18, 19, 20, 21, 22, 23, 24, 25, 26, 27, 28, 29, 30, 31]}, \"id\": \"727baae1-3c9e-46df-902c-a50fcc28cd28\", \"type\": \"DaysTicker\"}, {\"attributes\": {\"tools\": [{\"id\": \"fa958a28-b44c-406f-a601-d1daceb17c13\", \"type\": \"PanTool\"}, {\"id\": \"fa1a5cef-6f47-4163-a0fa-e9f97d93e919\", \"type\": \"WheelZoomTool\"}, {\"id\": \"93a9bd9d-bc08-4b7d-96aa-a642cf3084bf\", \"type\": \"BoxZoomTool\"}, {\"id\": \"7e21bf99-bcda-489e-9e5e-fdcfa558b206\", \"type\": \"PreviewSaveTool\"}, {\"id\": \"9e7f0010-c061-40a8-b553-2c09c5b03b62\", \"type\": \"ResizeTool\"}, {\"id\": \"23f540ce-6820-45ae-a0e6-cd535265ba2b\", \"type\": \"ResetTool\"}, {\"id\": \"407384f8-5cfe-4385-946a-94092672ac74\", \"type\": \"HelpTool\"}], \"left\": [{\"id\": \"cd9746e1-095c-405d-b3ec-e36a1b4c6e45\", \"type\": \"LinearAxis\"}], \"renderers\": [{\"id\": \"8299d041-56f4-4d06-986c-46e2a6351014\", \"type\": \"DatetimeAxis\"}, {\"id\": \"5a75d466-e541-4ddb-9dae-6aa84e1508a7\", \"type\": \"Grid\"}, {\"id\": \"cd9746e1-095c-405d-b3ec-e36a1b4c6e45\", \"type\": \"LinearAxis\"}, {\"id\": \"fca11ef7-6e6b-4937-908a-27b236f02d12\", \"type\": \"Grid\"}, {\"id\": \"73928600-e0b3-486f-9179-2a01a23b3a23\", \"type\": \"BoxAnnotation\"}, {\"id\": \"a9bf9ac1-e01d-4d6b-9c95-5d8afcc67749\", \"type\": \"GlyphRenderer\"}, {\"id\": \"d4f16335-e579-4547-89a5-54dc290f337f\", \"type\": \"GlyphRenderer\"}, {\"id\": \"ec9ccfbb-6b50-4087-b4ba-792ffb2fc56d\", \"type\": \"GlyphRenderer\"}], \"below\": [{\"id\": \"8299d041-56f4-4d06-986c-46e2a6351014\", \"type\": \"DatetimeAxis\"}], \"title_text_font_size\": {\"value\": \"18px\"}, \"y_range\": {\"id\": \"19565497-7710-4778-b21d-ff15f36e8e4b\", \"type\": \"DataRange1d\"}, \"plot_height\": 500, \"x_range\": {\"id\": \"793fe3a5-8175-496c-aeb7-b8a777ca580b\", \"type\": \"DataRange1d\"}, \"tool_events\": {\"id\": \"23511423-a985-48ba-9c49-2d2557755815\", \"type\": \"ToolEvents\"}, \"title\": \"Turnover at the Wikimedia Foundation\", \"plot_width\": 960}, \"id\": \"09d19a11-1e7d-4211-8f35-78368603c093\", \"type\": \"Plot\", \"subtype\": \"Figure\"}, {\"attributes\": {\"num_minor_ticks\": 5}, \"id\": \"78e16999-ab69-43da-ac8c-8f98c1bfc62f\", \"type\": \"DatetimeTicker\"}, {\"attributes\": {\"plot\": {\"subtype\": \"Figure\", \"id\": \"835e1e91-b208-4e2b-bd1a-961d2e813e08\", \"type\": \"Plot\"}}, \"id\": \"dff49faf-6962-4b6e-b393-92f339f7ee62\", \"type\": \"ResizeTool\"}, {\"attributes\": {\"dimension\": 1, \"ticker\": {\"id\": \"f881683e-d035-439a-8d5b-217b52528d20\", \"type\": \"BasicTicker\"}, \"plot\": {\"subtype\": \"Figure\", \"id\": \"98d7fc6e-1ac5-4bb9-8585-c2860b3344f4\", \"type\": \"Plot\"}}, \"id\": \"62f43ad5-4b54-44be-820e-0251ff015f72\", \"type\": \"Grid\"}, {\"attributes\": {}, \"id\": \"f881683e-d035-439a-8d5b-217b52528d20\", \"type\": \"BasicTicker\"}, {\"attributes\": {\"column_names\": [\"x\", \"y\"], \"data\": {\"x\": [1312156800000.0, 1314835200000.0, 1317427200000.0, 1320105600000.0, 1322697600000.0, 1325376000000.0, 1328054400000.0, 1330560000000.0, 1333238400000.0, 1335830400000.0, 1338508800000.0, 1341100800000.0, 1343779200000.0, 1346457600000.0, 1349049600000.0, 1351728000000.0, 1354320000000.0, 1356998400000.0, 1359676800000.0, 1362096000000.0, 1364774400000.0, 1367366400000.0, 1370044800000.0, 1372636800000.0, 1375315200000.0, 1377993600000.0, 1380585600000.0, 1383264000000.0, 1385856000000.0, 1388534400000.0, 1391212800000.0, 1393632000000.0, 1396310400000.0, 1398902400000.0, 1401580800000.0, 1404172800000.0, 1406851200000.0, 1409529600000.0, 1412121600000.0, 1414800000000.0, 1417392000000.0, 1420070400000.0, 1422748800000.0, 1425168000000.0, 1427846400000.0, 1430438400000.0, 1433116800000.0, 1435708800000.0, 1438387200000.0, 1441065600000.0, 1443657600000.0, 1446336000000.0, 1448928000000.0, 1451606400000.0, 1454284800000.0], \"y\": [9, 4, 4, 9, 5, 5, 7, 5, 5, 10, 2, 3, 3, 5, 9, 8, 2, 11, 5, 5, 6, 11, 8, 14, 7, 6, 5, 6, 6, 9, 5, 9, 3, 10, 4, 7, 2, 16, 8, 5, 6, 8, 6, 6, 10, 24, 11, 7, 10, 7, 12, 7, 4, 12, 5]}, \"callback\": null}, \"id\": \"d2bc37f4-7026-4132-8865-f95941b9935a\", \"type\": \"ColumnDataSource\"}, {\"attributes\": {\"line_width\": {\"value\": 2}, \"y\": {\"field\": \"y\"}, \"x\": {\"field\": \"x\"}, \"line_color\": {\"value\": \"#1f77b4\"}, \"line_alpha\": {\"value\": 0.1}}, \"id\": \"22425df4-e02a-4ce6-a637-1541ea3d251e\", \"type\": \"Line\"}, {\"attributes\": {\"mantissas\": [1, 2, 5, 10, 15, 20, 30], \"num_minor_ticks\": 0, \"max_interval\": 1800000.0, \"base\": 60, \"min_interval\": 1000.0}, \"id\": \"256a758d-2cad-4c3a-9249-bd183163aa67\", \"type\": \"AdaptiveTicker\"}, {\"attributes\": {\"mantissas\": [1, 2, 4, 6, 8, 12], \"num_minor_ticks\": 0, \"max_interval\": 43200000.0, \"base\": 24, \"min_interval\": 3600000.0}, \"id\": \"ade35b5b-a2ae-4914-9683-cdbc17919216\", \"type\": \"AdaptiveTicker\"}, {\"attributes\": {\"line_width\": {\"value\": 2}, \"x\": {\"field\": \"x\"}, \"line_color\": {\"value\": \"green\"}, \"y\": {\"field\": \"y\"}}, \"id\": \"15996f87-fe8c-46d7-baf3-7807e0d03199\", \"type\": \"Line\"}, {\"attributes\": {\"mantissas\": [1, 2, 5, 10, 15, 20, 30], \"num_minor_ticks\": 0, \"max_interval\": 1800000.0, \"base\": 60, \"min_interval\": 1000.0}, \"id\": \"3f7d75be-6704-4c3e-93df-22345c45738a\", \"type\": \"AdaptiveTicker\"}, {\"attributes\": {\"column_names\": [\"x\", \"y\"], \"data\": {\"x\": [1312156800000.0, 1314835200000.0, 1317427200000.0, 1320105600000.0, 1322697600000.0, 1325376000000.0, 1328054400000.0, 1330560000000.0, 1333238400000.0, 1335830400000.0, 1338508800000.0, 1341100800000.0, 1343779200000.0, 1346457600000.0, 1349049600000.0, 1351728000000.0, 1354320000000.0, 1356998400000.0, 1359676800000.0, 1362096000000.0, 1364774400000.0, 1367366400000.0, 1370044800000.0, 1372636800000.0, 1375315200000.0, 1377993600000.0, 1380585600000.0, 1383264000000.0, 1385856000000.0, 1388534400000.0, 1391212800000.0, 1393632000000.0, 1396310400000.0, 1398902400000.0, 1401580800000.0, 1404172800000.0, 1406851200000.0, 1409529600000.0, 1412121600000.0, 1414800000000.0, 1417392000000.0, 1420070400000.0, 1422748800000.0, 1425168000000.0, 1427846400000.0, 1430438400000.0, 1433116800000.0, 1435708800000.0, 1438387200000.0, 1441065600000.0, 1443657600000.0, 1446336000000.0, 1448928000000.0, 1451606400000.0, 1454284800000.0], \"y\": [0.0, 0.0, 0.0, 0.0, 0.0, 1.0, 0.0, 0.0, 1.0, 2.0, 0.0, 11.0, 4.0, 1.0, 1.0, 1.0, 3.0, 11.0, 2.0, 6.0, 7.0, 3.0, 4.0, 4.0, 3.0, 1.0, 2.0, 1.0, 2.0, 6.0, 2.0, 5.0, 3.0, 5.0, 1.0, 0.0, 6.0, 3.0, 5.0, 0.0, 1.0, 0.0, 3.0, 5.0, 0.0, 0.0, 2.0, 0.0, 37.0, 16.0, 5.0, 1.0, 4.0, 2.0, 10.0]}, \"callback\": null}, \"id\": \"d0faf4a9-93e9-42d3-b64f-0c47cdb50869\", \"type\": \"ColumnDataSource\"}, {\"attributes\": {\"days\": [1, 15]}, \"id\": \"00508e4c-9ac1-4301-8be5-9cedd9abe9bd\", \"type\": \"DaysTicker\"}, {\"attributes\": {}, \"id\": \"5e27b788-ed13-496e-83e7-2f22640acc8d\", \"type\": \"DatetimeTickFormatter\"}, {\"attributes\": {\"plot\": {\"subtype\": \"Figure\", \"id\": \"5b82dd80-671f-471f-a515-aaafd61644c6\", \"type\": \"Plot\"}}, \"id\": \"d191fa97-789a-4c72-a2ec-f9b868762003\", \"type\": \"ResizeTool\"}, {\"attributes\": {\"days\": [1, 4, 7, 10, 13, 16, 19, 22, 25, 28]}, \"id\": \"4f2c828d-b323-4635-b3c5-51416b5e357f\", \"type\": \"DaysTicker\"}, {\"attributes\": {\"line_width\": {\"value\": 2}, \"x\": {\"field\": \"x\"}, \"line_color\": {\"value\": \"green\"}, \"y\": {\"field\": \"y\"}}, \"id\": \"e0ce9fc1-bf49-4085-a277-e2da12262216\", \"type\": \"Line\"}, {\"attributes\": {\"callback\": null}, \"id\": \"1cedb118-ebc5-4aca-8e52-bc13a9b8eb54\", \"type\": \"DataRange1d\"}, {\"attributes\": {\"months\": [0, 2, 4, 6, 8, 10]}, \"id\": \"a655967c-7592-403e-a577-116bbf5f095d\", \"type\": \"MonthsTicker\"}, {\"attributes\": {\"line_width\": {\"value\": 2}, \"x\": {\"field\": \"x\"}, \"line_color\": {\"value\": \"red\"}, \"y\": {\"field\": \"y\"}}, \"id\": \"5eefc6d1-f2f7-4f41-aae4-b4d8259bfc29\", \"type\": \"Line\"}, {\"attributes\": {\"column_names\": [\"x\", \"y\"], \"data\": {\"x\": [1312156800000.0, 1314835200000.0, 1317427200000.0, 1320105600000.0, 1322697600000.0, 1325376000000.0, 1328054400000.0, 1330560000000.0, 1333238400000.0, 1335830400000.0, 1338508800000.0, 1341100800000.0, 1343779200000.0, 1346457600000.0, 1349049600000.0, 1351728000000.0, 1354320000000.0, 1356998400000.0, 1359676800000.0, 1362096000000.0, 1364774400000.0, 1367366400000.0, 1370044800000.0, 1372636800000.0, 1375315200000.0, 1377993600000.0, 1380585600000.0, 1383264000000.0, 1385856000000.0, 1388534400000.0, 1391212800000.0, 1393632000000.0, 1396310400000.0, 1398902400000.0, 1401580800000.0, 1404172800000.0, 1406851200000.0, 1409529600000.0, 1412121600000.0, 1414800000000.0, 1417392000000.0, 1420070400000.0, 1422748800000.0, 1425168000000.0, 1427846400000.0, 1430438400000.0, 1433116800000.0, 1435708800000.0, 1438387200000.0, 1441065600000.0, 1443657600000.0, 1446336000000.0, 1448928000000.0, 1451606400000.0, 1454284800000.0], \"y\": [0.0, 0.0, 0.0, 0.0, 0.0, 1.0, 0.0, 0.0, 1.0, 2.0, 0.0, 11.0, 4.0, 1.0, 1.0, 1.0, 3.0, 11.0, 2.0, 6.0, 7.0, 3.0, 4.0, 4.0, 3.0, 1.0, 2.0, 1.0, 2.0, 6.0, 2.0, 5.0, 3.0, 5.0, 1.0, 0.0, 6.0, 3.0, 5.0, 0.0, 1.0, 0.0, 3.0, 5.0, 0.0, 0.0, 2.0, 0.0, 37.0, 16.0, 5.0, 1.0, 4.0, 2.0, 10.0]}, \"callback\": null}, \"id\": \"1bc1b329-e12b-46d2-94d7-1c5da994ce89\", \"type\": \"ColumnDataSource\"}, {\"attributes\": {\"days\": [1, 8, 15, 22]}, \"id\": \"f25105b3-6688-42ec-bb1b-03819325f62f\", \"type\": \"DaysTicker\"}]}, \"version\": \"0.11.0\", \"title\": \"Bokeh Application\"}};\n",
       "            var render_items = [{\"docid\": \"e649ef15-4a85-4040-af17-7dcd91119919\", \"modelid\": \"835e1e91-b208-4e2b-bd1a-961d2e813e08\", \"notebook_comms_target\": \"84533210-4d23-4205-bd40-f2e477e2200d\", \"elementid\": \"36835d6e-766d-47b3-9124-6bdecf463361\"}];\n",
       "            \n",
       "            Bokeh.embed.embed_items(docs_json, render_items);\n",
       "        });\n",
       "      },\n",
       "      function(Bokeh) {\n",
       "      }\n",
       "    ];\n",
       "  \n",
       "    function run_inline_js() {\n",
       "      for (var i = 0; i < inline_js.length; i++) {\n",
       "        inline_js[i](window.Bokeh);\n",
       "      }\n",
       "    }\n",
       "  \n",
       "    if (window._bokeh_is_loading === 0) {\n",
       "      console.log(\"Bokeh: BokehJS loaded, going straight to plotting\");\n",
       "      run_inline_js();\n",
       "    } else {\n",
       "      load_libs(js_urls, function() {\n",
       "        console.log(\"Bokeh: BokehJS plotting callback run at\", now());\n",
       "        run_inline_js();\n",
       "      });\n",
       "    }\n",
       "  }(this));\n",
       "</script>"
      ]
     },
     "metadata": {},
     "output_type": "display_data"
    },
    {
     "data": {
      "text/plain": [
       "<bokeh.io._CommsHandle at 0x892cef0>"
      ]
     },
     "execution_count": 35,
     "metadata": {},
     "output_type": "execute_result"
    }
   ],
   "source": [
    "output_notebook(hide_banner=True)\n",
    "\n",
    "p = figure(plot_width=960,\n",
    "           plot_height=500,\n",
    "           title='Turnover at the Wikimedia Foundation',\n",
    "           title_text_font_size=\"18px\",\n",
    "           x_axis_type=\"datetime\"\n",
    ")\n",
    "\n",
    "p.line(\n",
    "    join_df.index,\n",
    "    join_df['Joined'],\n",
    "    line_width=2,\n",
    "    line_color='green'\n",
    ")\n",
    "\n",
    "p.line(\n",
    "    left_df.index,\n",
    "    left_df['Left'],\n",
    "    line_width=2,\n",
    "    line_color='red'\n",
    ")\n",
    "\n",
    "p.line(\n",
    "    [arrow.Arrow(2014,6,1).datetime, arrow.Arrow(2014,6,1).datetime],\n",
    "    [0, 20],\n",
    "    line_width=2,\n",
    "    line_color='black'\n",
    ")\n",
    "\n",
    "show(p)"
   ]
  },
  {
   "cell_type": "markdown",
   "metadata": {},
   "source": [
    "The large spike the WMF HR people catching up with a number of accounts which were not closed properly at the time of their leaving the Foundation. These all occured during Tretikov's time, however. To percieve the before and after better we can average the before and after, as this graph is rather uninformative taken on its own."
   ]
  },
  {
   "cell_type": "code",
   "execution_count": 40,
   "metadata": {
    "collapsed": false
   },
   "outputs": [],
   "source": [
    "sue, tretikov = left_df[left_df.index <= arrow.Arrow(2014,6,1).datetime], left_df[left_df.index > arrow.Arrow(2014,6,1).datetime]"
   ]
  },
  {
   "cell_type": "code",
   "execution_count": 48,
   "metadata": {
    "collapsed": false,
    "scrolled": true
   },
   "outputs": [
    {
     "data": {
      "text/plain": [
       "(2.657142857142857, 5.0)"
      ]
     },
     "execution_count": 48,
     "metadata": {},
     "output_type": "execute_result"
    }
   ],
   "source": [
    "sue['Left'].mean(), tretikov['Left'].mean()"
   ]
  },
  {
   "cell_type": "code",
   "execution_count": 53,
   "metadata": {
    "collapsed": false
   },
   "outputs": [
    {
     "data": {
      "text/plain": [
       "4.883333333333334"
      ]
     },
     "execution_count": 53,
     "metadata": {},
     "output_type": "execute_result"
    }
   ],
   "source": [
    "293/(12*5)"
   ]
  },
  {
   "cell_type": "markdown",
   "metadata": {},
   "source": [
    "### Executive leadership"
   ]
  }
 ],
 "metadata": {
  "kernelspec": {
   "display_name": "Python 3",
   "language": "python",
   "name": "python3"
  },
  "language_info": {
   "codemirror_mode": {
    "name": "ipython",
    "version": 3
   },
   "file_extension": ".py",
   "mimetype": "text/x-python",
   "name": "python",
   "nbconvert_exporter": "python",
   "pygments_lexer": "ipython3",
   "version": "3.4.4"
  }
 },
 "nbformat": 4,
 "nbformat_minor": 0
}
